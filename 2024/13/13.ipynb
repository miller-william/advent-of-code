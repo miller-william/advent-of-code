{
 "cells": [
  {
   "cell_type": "code",
   "execution_count": 140,
   "metadata": {},
   "outputs": [],
   "source": [
    "test = \"\"\"Button A: X+94, Y+34\n",
    "Button B: X+22, Y+67\n",
    "Prize: X=8400, Y=5400\n",
    "\n",
    "Button A: X+26, Y+66\n",
    "Button B: X+67, Y+21\n",
    "Prize: X=12748, Y=12176\n",
    "\n",
    "Button A: X+17, Y+86\n",
    "Button B: X+84, Y+37\n",
    "Prize: X=7870, Y=6450\n",
    "\n",
    "Button A: X+69, Y+23\n",
    "Button B: X+27, Y+71\n",
    "Prize: X=18641, Y=10279\"\"\""
   ]
  },
  {
   "cell_type": "code",
   "execution_count": 141,
   "metadata": {},
   "outputs": [],
   "source": [
    "inp = open('data13').read()"
   ]
  },
  {
   "cell_type": "code",
   "execution_count": 142,
   "metadata": {},
   "outputs": [],
   "source": [
    "import re\n",
    "import sympy as sym"
   ]
  },
  {
   "cell_type": "markdown",
   "metadata": {},
   "source": [
    "# solve for a and b\n",
    " (a*ax) + (b*bx) = x\n",
    " (a*ay) + (b*by) = y"
   ]
  },
  {
   "cell_type": "code",
   "execution_count": 154,
   "metadata": {},
   "outputs": [],
   "source": [
    "def p1(inp, p2_addition = 0):\n",
    "    all_machines = [list(map(int,n)) for n in [re.findall('\\d+',machine) for machine in inp.split('\\n\\n')]]\n",
    "    \n",
    "    a, b = sym.symbols('a b', real=True)\n",
    "\n",
    "    valid_solutions = []\n",
    "\n",
    "    for ax,ay,bx,by,x,y in all_machines:\n",
    "        # Set up and solve the equations\n",
    "        eq1 = sym.Eq(ax*a + bx*b, x+p2_addition)\n",
    "        eq2 = sym.Eq(ay*a + by*b, y+p2_addition)\n",
    "\n",
    "        solutions = sym.solve([eq1, eq2], (a, b), dict=True)\n",
    "\n",
    "        for sol in solutions:\n",
    "            a_val = sol[a]\n",
    "            b_val = sol[b]\n",
    "            # Check if a and b are integers and ≤ 100\n",
    "            if a_val.is_integer and b_val.is_integer:\n",
    "                if p2_addition == 0: # additional constraints in p1\n",
    "                    if a_val <= 100 and b_val <= 100:\n",
    "                        valid_solutions.append([sol])\n",
    "                else:\n",
    "                    valid_solutions.append([sol])\n",
    "\n",
    "    ans = 0\n",
    "    for sols in valid_solutions:\n",
    "        local_min = float('inf')\n",
    "        for s in sols:\n",
    "            new_min = 3*s[a] + s[b]\n",
    "            if new_min < local_min:\n",
    "                local_min = new_min\n",
    "        ans += local_min\n",
    "\n",
    "    return ans"
   ]
  },
  {
   "cell_type": "code",
   "execution_count": 155,
   "metadata": {},
   "outputs": [
    {
     "data": {
      "text/latex": [
       "$\\displaystyle 480$"
      ],
      "text/plain": [
       "480"
      ]
     },
     "execution_count": 155,
     "metadata": {},
     "output_type": "execute_result"
    }
   ],
   "source": [
    "p1(test)"
   ]
  },
  {
   "cell_type": "code",
   "execution_count": 156,
   "metadata": {},
   "outputs": [
    {
     "data": {
      "text/latex": [
       "$\\displaystyle 25751$"
      ],
      "text/plain": [
       "25751"
      ]
     },
     "execution_count": 156,
     "metadata": {},
     "output_type": "execute_result"
    }
   ],
   "source": [
    "p1(inp)"
   ]
  },
  {
   "cell_type": "code",
   "execution_count": 157,
   "metadata": {},
   "outputs": [
    {
     "data": {
      "text/latex": [
       "$\\displaystyle 108528956728655$"
      ],
      "text/plain": [
       "108528956728655"
      ]
     },
     "execution_count": 157,
     "metadata": {},
     "output_type": "execute_result"
    }
   ],
   "source": [
    "p1(inp,p2_addition=10000000000000)"
   ]
  },
  {
   "cell_type": "code",
   "execution_count": null,
   "metadata": {},
   "outputs": [],
   "source": []
  }
 ],
 "metadata": {
  "kernelspec": {
   "display_name": "venv_semantic-demo",
   "language": "python",
   "name": "venv_semantic-demo"
  },
  "language_info": {
   "codemirror_mode": {
    "name": "ipython",
    "version": 3
   },
   "file_extension": ".py",
   "mimetype": "text/x-python",
   "name": "python",
   "nbconvert_exporter": "python",
   "pygments_lexer": "ipython3",
   "version": "3.9.6"
  }
 },
 "nbformat": 4,
 "nbformat_minor": 2
}
