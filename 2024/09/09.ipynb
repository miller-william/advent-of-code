{
 "cells": [
  {
   "cell_type": "code",
   "execution_count": 1,
   "metadata": {},
   "outputs": [],
   "source": [
    "test = \"\"\"2333133121414131402\"\"\""
   ]
  },
  {
   "cell_type": "code",
   "execution_count": 9,
   "metadata": {},
   "outputs": [],
   "source": [
    "def p1(inp):\n",
    "    processed = []\n",
    "    n=0\n",
    "    for i in range(len(inp)):\n",
    "        if i % 2 == 0:\n",
    "            processed.append([n,int(inp[i])])\n",
    "            n += 1\n",
    "        else:\n",
    "            processed.append([\".\",int(inp[i])])\n",
    "\n",
    "    pos = 0\n",
    "    last_file = len(processed) - 1\n",
    "    while last_file > pos:\n",
    "\n",
    "        if processed[last_file][0] != \".\" and processed[last_file][1] != 0:\n",
    "\n",
    "            if processed[pos][0] == '.': # we're in a blank spot, let's fill from the end\n",
    "                spaces_after_filled = processed[pos][1] - processed[last_file][1]\n",
    "                if spaces_after_filled == 0: # perfect fill\n",
    "                    processed[pos][0] = processed[last_file][0] # update current gaps with end files\n",
    "                    processed[last_file][0] = '.'\n",
    "                    last_file -= 1 # move end file\n",
    "\n",
    "                elif spaces_after_filled > 0: # all last files moved but still a gap in current spot\n",
    "                    processed[pos][0] = processed[last_file][0] # update current gap with file\n",
    "                    processed[pos][1] = processed[last_file][1] # update number to what's at end\n",
    "                    processed.insert(pos+1,['.',spaces_after_filled]) # create new gap \n",
    "                    processed[last_file+1][0] = '.'\n",
    "                    pos += 1\n",
    "\n",
    "                else: # all current gaps filled, but still files in last spot\n",
    "                    processed[pos][0] = processed[last_file][0]\n",
    "                    processed[last_file][1] = processed[last_file][1] - processed[pos][1]\n",
    "                    pos += 1\n",
    "\n",
    "            else:\n",
    "                pos += 1\n",
    "        else:\n",
    "            last_file -= 1   \n",
    "\n",
    "    checksum = 0\n",
    "    n = 0\n",
    "    for a,b in processed:\n",
    "        if a != '.':\n",
    "            for i in range(1,b+1):\n",
    "                checksum = checksum + (a*n)\n",
    "                n += 1\n",
    "\n",
    "    return checksum"
   ]
  },
  {
   "cell_type": "code",
   "execution_count": 10,
   "metadata": {},
   "outputs": [
    {
     "data": {
      "text/plain": [
       "1928"
      ]
     },
     "execution_count": 10,
     "metadata": {},
     "output_type": "execute_result"
    }
   ],
   "source": [
    "p1(test)"
   ]
  },
  {
   "cell_type": "code",
   "execution_count": 11,
   "metadata": {},
   "outputs": [
    {
     "data": {
      "text/plain": [
       "6359213660505"
      ]
     },
     "execution_count": 11,
     "metadata": {},
     "output_type": "execute_result"
    }
   ],
   "source": [
    "p1(open('data09').read())"
   ]
  },
  {
   "cell_type": "code",
   "execution_count": 12,
   "metadata": {},
   "outputs": [],
   "source": [
    "def spot_to_fill(processed):\n",
    "    for i in range(len(processed)):\n",
    "        if processed[i][0] == \".\":\n",
    "            return i\n",
    "    return False"
   ]
  },
  {
   "cell_type": "code",
   "execution_count": null,
   "metadata": {},
   "outputs": [],
   "source": [
    "def p2(inp):\n",
    "    processed = []\n",
    "    n=0\n",
    "    for i in range(len(inp)):\n",
    "        if i % 2 == 0:\n",
    "            processed.append([n,int(inp[i])])\n",
    "            n += 1\n",
    "        else:\n",
    "            processed.append([\".\",int(inp[i])])\n",
    "\n",
    "    last_file = len(processed) - 1\n",
    "\n",
    "    pos = spot_to_fill(processed) \n",
    "\n",
    "    while True:\n",
    "\n",
    "        if processed[pos][0] != '.':\n",
    "            pos +=1\n",
    "        else:\n",
    "\n",
    "            if last_file < pos: # tried current file in all spaces\n",
    "                last_file -= 1\n",
    "                pos = spot_to_fill(processed) # leftmost vacancy\n",
    "                if last_file < pos:\n",
    "                    break\n",
    "\n",
    "            if processed[last_file][0] != \".\" and processed[last_file][1] != 0:\n",
    "\n",
    "                spaces_after_filled = processed[pos][1] - processed[last_file][1]\n",
    "                if spaces_after_filled == 0: # perfect fill\n",
    "                    processed[pos][0] = processed[last_file][0] # update current gaps with end files\n",
    "                    processed[last_file][0] = '.'\n",
    "                    last_file -= 1\n",
    "                    pos = spot_to_fill(processed)\n",
    "\n",
    "                elif spaces_after_filled > 0: # all last files moved but still a gap in current spot\n",
    "                    processed[pos][0] = processed[last_file][0] # update current gap with file\n",
    "                    processed[pos][1] = processed[last_file][1] # update number to what's at end\n",
    "                    processed.insert(pos+1,['.',spaces_after_filled]) # create new gap \n",
    "                    processed[last_file+1][0] = '.'\n",
    "                    pos = spot_to_fill(processed)\n",
    "\n",
    "                \n",
    "                else:\n",
    "                    pos += 1\n",
    "\n",
    "            else:\n",
    "                last_file -= 1\n",
    "\n",
    "    checksum = 0\n",
    "    n = 0\n",
    "    for a,b in processed:\n",
    "        if a != '.':\n",
    "            if b != 0:\n",
    "                for i in range(1,b+1):\n",
    "                    checksum = checksum + (a*n)\n",
    "                    n += 1\n",
    "        else:\n",
    "            for i in range(1,b+1):\n",
    "                n+=1\n",
    "\n",
    "    return checksum"
   ]
  },
  {
   "cell_type": "code",
   "execution_count": 60,
   "metadata": {},
   "outputs": [
    {
     "data": {
      "text/plain": [
       "2858"
      ]
     },
     "execution_count": 60,
     "metadata": {},
     "output_type": "execute_result"
    }
   ],
   "source": [
    "p2(test)"
   ]
  },
  {
   "cell_type": "code",
   "execution_count": 63,
   "metadata": {},
   "outputs": [
    {
     "data": {
      "text/plain": [
       "6381624803796"
      ]
     },
     "execution_count": 63,
     "metadata": {},
     "output_type": "execute_result"
    }
   ],
   "source": [
    "p2(open('data09').read())"
   ]
  }
 ],
 "metadata": {
  "kernelspec": {
   "display_name": "venv_semantic-demo",
   "language": "python",
   "name": "venv_semantic-demo"
  },
  "language_info": {
   "codemirror_mode": {
    "name": "ipython",
    "version": 3
   },
   "file_extension": ".py",
   "mimetype": "text/x-python",
   "name": "python",
   "nbconvert_exporter": "python",
   "pygments_lexer": "ipython3",
   "version": "3.9.6"
  }
 },
 "nbformat": 4,
 "nbformat_minor": 2
}
