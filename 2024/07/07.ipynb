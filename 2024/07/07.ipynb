{
 "cells": [
  {
   "cell_type": "code",
   "execution_count": 97,
   "metadata": {},
   "outputs": [],
   "source": [
    "test = \"\"\"190: 10 19\n",
    "3267: 81 40 27\n",
    "83: 17 5\n",
    "156: 15 6\n",
    "7290: 6 8 6 15\n",
    "161011: 16 10 13\n",
    "192: 17 8 14\n",
    "21037: 9 7 18 13\n",
    "292: 11 6 16 20\"\"\""
   ]
  },
  {
   "cell_type": "code",
   "execution_count": 98,
   "metadata": {},
   "outputs": [],
   "source": [
    "import itertools\n",
    "def p1(inp):\n",
    "\n",
    "    clean = [[int(a),[int(n) for n in b.split()]] for a,b in [x.split(\":\") for x in inp.splitlines()]]\n",
    "\n",
    "    ans = 0\n",
    "    for target, nums in clean:\n",
    "        n_operations = len(nums) - 1\n",
    "\n",
    "        for operator_order in list(itertools.product(['+', '*'], repeat=n_operations)):\n",
    "\n",
    "            operator_total = nums[0]\n",
    "            for i in range(1,len(nums)):\n",
    "                if operator_order[i-1] == '+':\n",
    "                    operator_total = operator_total + nums[i]\n",
    "                else:\n",
    "                    operator_total = operator_total * nums[i]\n",
    "            if operator_total == target:\n",
    "                ans = ans + target\n",
    "                break\n",
    "    return ans\n"
   ]
  },
  {
   "cell_type": "code",
   "execution_count": 99,
   "metadata": {},
   "outputs": [
    {
     "data": {
      "text/plain": [
       "3749"
      ]
     },
     "execution_count": 99,
     "metadata": {},
     "output_type": "execute_result"
    }
   ],
   "source": [
    "p1(test)"
   ]
  },
  {
   "cell_type": "code",
   "execution_count": 100,
   "metadata": {},
   "outputs": [
    {
     "data": {
      "text/plain": [
       "2299996598890"
      ]
     },
     "execution_count": 100,
     "metadata": {},
     "output_type": "execute_result"
    }
   ],
   "source": [
    "p1(open('data07').read())"
   ]
  },
  {
   "cell_type": "code",
   "execution_count": 94,
   "metadata": {},
   "outputs": [],
   "source": [
    "def p2(inp):\n",
    "\n",
    "    clean = [[int(a),[int(n) for n in b.split()]] for a,b in [x.split(\":\") for x in inp.splitlines()]]\n",
    "\n",
    "    ans = 0\n",
    "    for target, nums in clean:\n",
    "        n_operations = len(nums) - 1\n",
    "\n",
    "        for operator_order in list(itertools.product(['+', '*','||'], repeat=n_operations)):\n",
    "\n",
    "            operator_total = nums[0]\n",
    "            for i in range(1,len(nums)):\n",
    "                if operator_order[i-1] == '+':\n",
    "                    operator_total = operator_total + nums[i]\n",
    "                elif operator_order[i-1] == '*':\n",
    "                    operator_total = operator_total * nums[i]\n",
    "                else:\n",
    "                    operator_total = eval(str(operator_total)+str(nums[i]))\n",
    "                    \n",
    "            if operator_total == target:\n",
    "                ans = ans + target\n",
    "                break\n",
    "    return ans"
   ]
  },
  {
   "cell_type": "code",
   "execution_count": 95,
   "metadata": {},
   "outputs": [
    {
     "data": {
      "text/plain": [
       "11387"
      ]
     },
     "execution_count": 95,
     "metadata": {},
     "output_type": "execute_result"
    }
   ],
   "source": [
    "p2(test)"
   ]
  },
  {
   "cell_type": "code",
   "execution_count": 96,
   "metadata": {},
   "outputs": [
    {
     "data": {
      "text/plain": [
       "362646859298554"
      ]
     },
     "execution_count": 96,
     "metadata": {},
     "output_type": "execute_result"
    }
   ],
   "source": [
    "p2(open('data07').read())"
   ]
  }
 ],
 "metadata": {
  "kernelspec": {
   "display_name": "venv_semantic-demo",
   "language": "python",
   "name": "venv_semantic-demo"
  },
  "language_info": {
   "codemirror_mode": {
    "name": "ipython",
    "version": 3
   },
   "file_extension": ".py",
   "mimetype": "text/x-python",
   "name": "python",
   "nbconvert_exporter": "python",
   "pygments_lexer": "ipython3",
   "version": "3.9.6"
  }
 },
 "nbformat": 4,
 "nbformat_minor": 2
}
