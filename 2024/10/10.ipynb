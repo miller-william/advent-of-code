{
 "cells": [
  {
   "cell_type": "code",
   "execution_count": 1,
   "metadata": {},
   "outputs": [],
   "source": [
    "test = \"\"\"89010123\n",
    "78121874\n",
    "87430965\n",
    "96549874\n",
    "45678903\n",
    "32019012\n",
    "01329801\n",
    "10456732\"\"\""
   ]
  },
  {
   "cell_type": "code",
   "execution_count": 2,
   "metadata": {},
   "outputs": [],
   "source": [
    "directions = [(0,1),(0,-1),(1,0),(-1,0)]"
   ]
  },
  {
   "cell_type": "code",
   "execution_count": 3,
   "metadata": {},
   "outputs": [],
   "source": [
    "def in_bound(pos, grid):\n",
    "    a,b = pos\n",
    "    if a >= 0 and a < len(grid):\n",
    "        if b >= 0 and b < len(grid[0]):\n",
    "            return True\n",
    "    return False"
   ]
  },
  {
   "cell_type": "code",
   "execution_count": 4,
   "metadata": {},
   "outputs": [],
   "source": [
    "def paths(grid,pos):\n",
    "\n",
    "    current_height = grid[pos[0]][pos[1]]\n",
    "\n",
    "    if grid[pos[0]][pos[1]] == 9: # end of path\n",
    "        global trailfinish\n",
    "        trailfinish.add(pos)\n",
    "    \n",
    "    for dir in directions:\n",
    "        new_pos = (pos[0] + dir[0], pos[1] + dir[1])\n",
    "        if in_bound(new_pos,grid):\n",
    "            if grid[new_pos[0]][new_pos[1]] == current_height + 1:\n",
    "                paths(grid, new_pos) # path from new position\n",
    "\n",
    "    return 0"
   ]
  },
  {
   "cell_type": "code",
   "execution_count": 5,
   "metadata": {},
   "outputs": [],
   "source": [
    "def p1(inp):\n",
    "    global trailfinish\n",
    "    grid = [[int(n) for n in row] for row in inp.splitlines()]\n",
    "    starting_positions = [(i,j) for i in range(len(grid)) for j in range(len(grid[0])) if grid[i][j] == 0 ]\n",
    "    ans = 0 \n",
    "    for start in starting_positions:\n",
    "        trailfinish = set()\n",
    "        paths(grid,start)\n",
    "        ans = ans + len(trailfinish)\n",
    "\n",
    "    return ans"
   ]
  },
  {
   "cell_type": "code",
   "execution_count": 6,
   "metadata": {},
   "outputs": [
    {
     "data": {
      "text/plain": [
       "36"
      ]
     },
     "execution_count": 6,
     "metadata": {},
     "output_type": "execute_result"
    }
   ],
   "source": [
    "p1(test)"
   ]
  },
  {
   "cell_type": "code",
   "execution_count": 7,
   "metadata": {},
   "outputs": [
    {
     "data": {
      "text/plain": [
       "531"
      ]
     },
     "execution_count": 7,
     "metadata": {},
     "output_type": "execute_result"
    }
   ],
   "source": [
    "p1(open('data10').read())"
   ]
  },
  {
   "cell_type": "markdown",
   "metadata": {},
   "source": [
    "# Part 2"
   ]
  },
  {
   "cell_type": "code",
   "execution_count": null,
   "metadata": {},
   "outputs": [],
   "source": [
    "def paths(grid,pos,path):\n",
    "\n",
    "    if path == []:\n",
    "        path = [pos]\n",
    "\n",
    "    current_height = grid[pos[0]][pos[1]]\n",
    "\n",
    "    if grid[pos[0]][pos[1]] == 9: # end of path\n",
    "        global paths_to_finish\n",
    "        paths_to_finish.append(path)\n",
    "    \n",
    "    for dir in directions:\n",
    "        new_pos = (pos[0] + dir[0], pos[1] + dir[1])\n",
    "        if in_bound(new_pos,grid):\n",
    "            if grid[new_pos[0]][new_pos[1]] == current_height + 1:\n",
    "                path.append(new_pos)\n",
    "                paths(grid, new_pos, path) # path from new position\n",
    "\n",
    "    return 0"
   ]
  },
  {
   "cell_type": "code",
   "execution_count": 12,
   "metadata": {},
   "outputs": [],
   "source": [
    "def p2(inp):\n",
    "    global paths_to_finish\n",
    "    grid = [[int(n) for n in row] for row in inp.splitlines()]\n",
    "    starting_positions = [(i,j) for i in range(len(grid)) for j in range(len(grid[0])) if grid[i][j] == 0 ]\n",
    "    ans = 0 \n",
    "    for start in starting_positions:\n",
    "        paths_to_finish = []\n",
    "        paths(grid,start,[])\n",
    "        ans = ans + len(paths_to_finish)\n",
    "\n",
    "    return ans"
   ]
  },
  {
   "cell_type": "code",
   "execution_count": 13,
   "metadata": {},
   "outputs": [
    {
     "data": {
      "text/plain": [
       "81"
      ]
     },
     "execution_count": 13,
     "metadata": {},
     "output_type": "execute_result"
    }
   ],
   "source": [
    "p2(test)"
   ]
  },
  {
   "cell_type": "code",
   "execution_count": 14,
   "metadata": {},
   "outputs": [
    {
     "data": {
      "text/plain": [
       "1210"
      ]
     },
     "execution_count": 14,
     "metadata": {},
     "output_type": "execute_result"
    }
   ],
   "source": [
    "p2(open('data10').read())"
   ]
  }
 ],
 "metadata": {
  "kernelspec": {
   "display_name": "venv_semantic-demo",
   "language": "python",
   "name": "venv_semantic-demo"
  },
  "language_info": {
   "codemirror_mode": {
    "name": "ipython",
    "version": 3
   },
   "file_extension": ".py",
   "mimetype": "text/x-python",
   "name": "python",
   "nbconvert_exporter": "python",
   "pygments_lexer": "ipython3",
   "version": "3.9.6"
  }
 },
 "nbformat": 4,
 "nbformat_minor": 2
}
