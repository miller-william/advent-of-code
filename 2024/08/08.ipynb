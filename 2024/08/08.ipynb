{
 "cells": [
  {
   "cell_type": "code",
   "execution_count": 1,
   "metadata": {},
   "outputs": [],
   "source": [
    "import itertools"
   ]
  },
  {
   "cell_type": "code",
   "execution_count": 2,
   "metadata": {},
   "outputs": [],
   "source": [
    "test = \"\"\"............\n",
    "........0...\n",
    ".....0......\n",
    ".......0....\n",
    "....0.......\n",
    "......A.....\n",
    "............\n",
    "............\n",
    "........A...\n",
    ".........A..\n",
    "............\n",
    "............\n",
    "\"\"\""
   ]
  },
  {
   "cell_type": "code",
   "execution_count": 3,
   "metadata": {},
   "outputs": [],
   "source": [
    "def antinode_location(a,b,n):\n",
    "    a_x, a_y = a\n",
    "    b_x, b_y = b\n",
    "\n",
    "    dx = a_x - b_x\n",
    "    dy = a_y - b_y\n",
    "\n",
    "    antinode = (a_x + (n*dx) , a_y + (n*dy))\n",
    "\n",
    "    return antinode"
   ]
  },
  {
   "cell_type": "code",
   "execution_count": 4,
   "metadata": {},
   "outputs": [],
   "source": [
    "def boundary_check(a,grid):\n",
    "    x, y = a\n",
    "    \n",
    "    if x < len(grid) and x > -1 and y < len(grid[0]) and y > -1:\n",
    "        return True\n",
    "    else:\n",
    "        return False\n"
   ]
  },
  {
   "cell_type": "code",
   "execution_count": 5,
   "metadata": {},
   "outputs": [],
   "source": [
    "def p1(inp):\n",
    "    results = set()\n",
    "\n",
    "    antennas = set(inp)\n",
    "    antennas.remove('.')\n",
    "    antennas.remove('\\n')\n",
    "\n",
    "    grid = inp.splitlines()\n",
    "    antenna_locations = dict()\n",
    "    for antenna in antennas:\n",
    "        antenna_locations[antenna] = [(i,j) for i in range(len(grid)) for j in range(len(grid[0])) if grid[i][j]==antenna]\n",
    "    \n",
    "    for antenna in antennas:\n",
    "\n",
    "        for pair in list(itertools.combinations(antenna_locations.get(antenna), 2)) :\n",
    "            a, b = pair\n",
    "            ana = antinode_location(a,b,1)\n",
    "            anb = antinode_location(a,b,-2)\n",
    "\n",
    "            if boundary_check(ana, grid):\n",
    "                results.add(ana)\n",
    "            if boundary_check(anb, grid):\n",
    "                results.add(anb)\n",
    "    \n",
    "    return results\n"
   ]
  },
  {
   "cell_type": "code",
   "execution_count": 6,
   "metadata": {},
   "outputs": [
    {
     "data": {
      "text/plain": [
       "14"
      ]
     },
     "execution_count": 6,
     "metadata": {},
     "output_type": "execute_result"
    }
   ],
   "source": [
    "len(p1(test))"
   ]
  },
  {
   "cell_type": "code",
   "execution_count": 7,
   "metadata": {},
   "outputs": [
    {
     "data": {
      "text/plain": [
       "265"
      ]
     },
     "execution_count": 7,
     "metadata": {},
     "output_type": "execute_result"
    }
   ],
   "source": [
    "len(p1(open('data08').read()))"
   ]
  },
  {
   "cell_type": "code",
   "execution_count": 10,
   "metadata": {},
   "outputs": [],
   "source": [
    "def p2(inp):\n",
    "    results = set()\n",
    "\n",
    "    antennas = set(inp)\n",
    "    antennas.remove('.')\n",
    "    antennas.remove('\\n')\n",
    "\n",
    "    grid = inp.splitlines()\n",
    "    antenna_locations = dict()\n",
    "    for antenna in antennas:\n",
    "        antenna_locations[antenna] = [(i,j) for i in range(len(grid)) for j in range(len(grid[0])) if grid[i][j]==antenna]\n",
    "\n",
    "    \n",
    "    for antenna in antennas:\n",
    "\n",
    "        for pair in list(itertools.combinations(antenna_locations.get(antenna), 2)) :\n",
    "            a, b = pair\n",
    "            n = 0 \n",
    "            while True:\n",
    "                an = antinode_location(a,b,n)\n",
    "                if boundary_check(an, grid):\n",
    "                    results.add(an)\n",
    "                    n += 1\n",
    "                else:\n",
    "                    break\n",
    "                \n",
    "            n = -1\n",
    "            while True:\n",
    "                an = antinode_location(a,b,n)\n",
    "                if boundary_check(an, grid):\n",
    "                    results.add(an)\n",
    "                    n -= 1\n",
    "                else:\n",
    "                    break\n",
    "    \n",
    "    return results"
   ]
  },
  {
   "cell_type": "code",
   "execution_count": 11,
   "metadata": {},
   "outputs": [
    {
     "data": {
      "text/plain": [
       "34"
      ]
     },
     "execution_count": 11,
     "metadata": {},
     "output_type": "execute_result"
    }
   ],
   "source": [
    "len(p2(test))"
   ]
  },
  {
   "cell_type": "code",
   "execution_count": 12,
   "metadata": {},
   "outputs": [
    {
     "data": {
      "text/plain": [
       "962"
      ]
     },
     "execution_count": 12,
     "metadata": {},
     "output_type": "execute_result"
    }
   ],
   "source": [
    "len(p2(open('data08').read()))"
   ]
  }
 ],
 "metadata": {
  "kernelspec": {
   "display_name": "venv_semantic-demo",
   "language": "python",
   "name": "venv_semantic-demo"
  },
  "language_info": {
   "codemirror_mode": {
    "name": "ipython",
    "version": 3
   },
   "file_extension": ".py",
   "mimetype": "text/x-python",
   "name": "python",
   "nbconvert_exporter": "python",
   "pygments_lexer": "ipython3",
   "version": "3.9.6"
  }
 },
 "nbformat": 4,
 "nbformat_minor": 2
}
