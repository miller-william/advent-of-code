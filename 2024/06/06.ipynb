{
 "cells": [
  {
   "cell_type": "markdown",
   "metadata": {},
   "source": [
    "# Advent of Code - Day 06"
   ]
  },
  {
   "cell_type": "code",
   "execution_count": 4,
   "metadata": {},
   "outputs": [],
   "source": [
    "test = \"\"\"....#.....\n",
    ".........#\n",
    "..........\n",
    "..#.......\n",
    ".......#..\n",
    "..........\n",
    ".#..^.....\n",
    "........#.\n",
    "#.........\n",
    "......#...\"\"\"\n",
    "\n"
   ]
  },
  {
   "cell_type": "code",
   "execution_count": 23,
   "metadata": {},
   "outputs": [],
   "source": [
    "\n",
    "def path(grid,start,dir, new_obstacle=None):\n",
    "\n",
    "    dirs_dict = {\n",
    "    \"^\": [(-1,0),\">\"],\n",
    "    \">\": [(0,1),\"v\"],\n",
    "    \"v\": [(1,0),\"<\"],\n",
    "    \"<\": [(0,-1),\"^\"]\n",
    "    }\n",
    "\n",
    "    visited = set()\n",
    "    visited_with_dir = set()\n",
    "\n",
    "    pos = start\n",
    "    obstacles = start_obstacles.copy()\n",
    "\n",
    "    if new_obstacle:\n",
    "        obstacles.add(new_obstacle)\n",
    "\n",
    "    while True:\n",
    "        if (pos[0] < 0 or pos[0] >= len(grid)) or (pos[1] < 0 or pos[1] >= len(grid[0])): #Guard has left the grid\n",
    "            return visited, False\n",
    "        \n",
    "        # Loop - we have already been in this position and direction\n",
    "        if (pos,dir) in visited_with_dir:\n",
    "            return visited, True\n",
    "        else:\n",
    "            visited_with_dir.add((pos,dir))\n",
    "        \n",
    "        visited.add(pos)\n",
    "\n",
    "        new_pos = (pos[0] + dirs_dict.get(dir)[0][0] ,pos[1] + dirs_dict.get(dir)[0][1])\n",
    "\n",
    "        if new_pos in obstacles: # change direction\n",
    "            dir = dirs_dict.get(dir)[1]\n",
    "\n",
    "        else:\n",
    "            pos = new_pos\n",
    "        "
   ]
  },
  {
   "cell_type": "code",
   "execution_count": 8,
   "metadata": {},
   "outputs": [],
   "source": [
    "def p1(inp):\n",
    "    start_obstacles = set([(row,column) for row in range(len(grid)) for column in range(len(grid[0])) if grid[row][column] == \"#\"])\n",
    "    start = [(row,column) for row in range(len(grid)) for column in range(len(grid[0])) if grid[row][column] == \"^\"][0]\n",
    "    return len(path(grid,start,\"^\")[0])"
   ]
  },
  {
   "cell_type": "code",
   "execution_count": 9,
   "metadata": {},
   "outputs": [
    {
     "name": "stdout",
     "output_type": "stream",
     "text": [
      "(6, 4)\n"
     ]
    },
    {
     "data": {
      "text/plain": [
       "41"
      ]
     },
     "execution_count": 9,
     "metadata": {},
     "output_type": "execute_result"
    }
   ],
   "source": [
    "p1(test.splitlines())"
   ]
  },
  {
   "cell_type": "code",
   "execution_count": 10,
   "metadata": {},
   "outputs": [
    {
     "name": "stdout",
     "output_type": "stream",
     "text": [
      "(69, 91)\n"
     ]
    },
    {
     "data": {
      "text/plain": [
       "4515"
      ]
     },
     "execution_count": 10,
     "metadata": {},
     "output_type": "execute_result"
    }
   ],
   "source": [
    "grid = open('data06').read().splitlines()\n",
    "start_obstacles = set([(row,column) for row in range(len(grid)) for column in range(len(grid[0])) if grid[row][column] == \"#\"])\n",
    "p1(grid)"
   ]
  },
  {
   "cell_type": "code",
   "execution_count": 25,
   "metadata": {},
   "outputs": [
    {
     "data": {
      "text/plain": [
       "1309"
      ]
     },
     "execution_count": 25,
     "metadata": {},
     "output_type": "execute_result"
    }
   ],
   "source": [
    "inp = open('data06').read()\n",
    "grid = inp.splitlines()\n",
    "start_obstacles = set([(row,column) for row in range(len(grid)) for column in range(len(grid[0])) if grid[row][column] == \"#\"])\n",
    "start = [(row,column) for row in range(len(grid)) for column in range(len(grid[0])) if grid[row][column] == \"^\"][0]\n",
    "potential_obstacles= {o for o in path(grid,start,\"^\")[0] if o != start}\n",
    "\n",
    "sum([path(grid, start,\"^\", o)[1] for o in potential_obstacles])"
   ]
  }
 ],
 "metadata": {
  "kernelspec": {
   "display_name": "venv_semantic-demo",
   "language": "python",
   "name": "venv_semantic-demo"
  },
  "language_info": {
   "codemirror_mode": {
    "name": "ipython",
    "version": 3
   },
   "file_extension": ".py",
   "mimetype": "text/x-python",
   "name": "python",
   "nbconvert_exporter": "python",
   "pygments_lexer": "ipython3",
   "version": "3.9.6"
  }
 },
 "nbformat": 4,
 "nbformat_minor": 2
}
