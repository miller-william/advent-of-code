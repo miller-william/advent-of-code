{
 "cells": [
  {
   "cell_type": "markdown",
   "metadata": {},
   "source": [
    "# Advent of Code 2024 - Day 04"
   ]
  },
  {
   "cell_type": "code",
   "execution_count": 182,
   "metadata": {},
   "outputs": [],
   "source": [
    "test = \"\"\"MMMSXXMASM\n",
    "MSAMXMSMSA\n",
    "AMXSXMAAMM\n",
    "MSAMASMSMX\n",
    "XMASAMXAMM\n",
    "XXAMMXXAMA\n",
    "SMSMSASXSS\n",
    "SAXAMASAAA\n",
    "MAMMMXMMMM\n",
    "MXMXAXMASX\"\"\""
   ]
  },
  {
   "cell_type": "code",
   "execution_count": 183,
   "metadata": {},
   "outputs": [],
   "source": [
    "def p1(inp):\n",
    "\n",
    "    size_i = len(inp)\n",
    "    size_j = len(inp[0])\n",
    "\n",
    "    count = 0\n",
    "\n",
    "    # for each position in matrix\n",
    "    for i in range(size_i):\n",
    "        for j in range(size_j):\n",
    "            \n",
    "            if inp[i][j] == \"X\":\n",
    "\n",
    "                #check horiz\n",
    "                for dir in [1,-1]:\n",
    "                    try:\n",
    "                        section = \"X\"\n",
    "                        for n in range(1,4):\n",
    "                            if (j+(dir*n))< 0:\n",
    "                                raise ValueError()\n",
    "                            section = section + inp[i][j+(dir*n)]\n",
    "                        if section == \"XMAS\":\n",
    "                            count += 1\n",
    "                    except:\n",
    "                        IndexError()\n",
    "\n",
    "                # check vertical\n",
    "                for dir in [1,-1]:\n",
    "                    try:\n",
    "                        section = \"X\"\n",
    "                        for n in range(1,4):\n",
    "                            if (i-(dir*n))< 0:\n",
    "                                raise ValueError()\n",
    "                            section = section + inp[i-(dir*n)][j]\n",
    "                        if section == \"XMAS\":\n",
    "                            count += 1\n",
    "\n",
    "                    except:\n",
    "                        IndexError()\n",
    "\n",
    "                # diag\n",
    "                for a,b in [(1,1),(1,-1),(-1,1),(-1,-1)]:\n",
    "                    try:\n",
    "                        section = \"X\"\n",
    "                        for n in range(1,4):\n",
    "                            if (i+(a*n))< 0 or (j+(b*n))<0:\n",
    "                                raise ValueError()\n",
    "                            section = section + inp[i+(a*n)][j+(b*n)]\n",
    "                        if section == \"XMAS\":\n",
    "                            count += 1\n",
    "                    except:\n",
    "                        IndexError()\n",
    "\n",
    "    return count"
   ]
  },
  {
   "cell_type": "code",
   "execution_count": 184,
   "metadata": {},
   "outputs": [
    {
     "data": {
      "text/plain": [
       "18"
      ]
     },
     "execution_count": 184,
     "metadata": {},
     "output_type": "execute_result"
    }
   ],
   "source": [
    "p1(test.splitlines())"
   ]
  },
  {
   "cell_type": "code",
   "execution_count": 185,
   "metadata": {},
   "outputs": [
    {
     "data": {
      "text/plain": [
       "2521"
      ]
     },
     "execution_count": 185,
     "metadata": {},
     "output_type": "execute_result"
    }
   ],
   "source": [
    "p1(open(\"data04\").read().splitlines())"
   ]
  },
  {
   "cell_type": "code",
   "execution_count": 186,
   "metadata": {},
   "outputs": [],
   "source": [
    "def p2(inp):\n",
    "\n",
    "    size_i = len(inp)\n",
    "    size_j = len(inp[0])\n",
    "\n",
    "    count = 0\n",
    "\n",
    "    # for each position in matrix\n",
    "    for i in range(size_i):\n",
    "        for j in range(size_j):\n",
    "\n",
    "            if inp[i][j] == \"A\": #check the corners around it\n",
    "\n",
    "                try:\n",
    "                    if (i-1) < 0 or (j-1) < 0:\n",
    "                        raise ValueError\n",
    "                    diag_1 = inp[i-1][j+1] + inp[i+1][j-1] #  / diagonal\n",
    "                    diag_2 = inp[i-1][j-1] + inp[i+1][j+1] #  \\ diagonal\n",
    "\n",
    "                    if diag_1 in [\"MS\",\"SM\"] and diag_2 in [\"MS\",\"SM\"]:\n",
    "                        count += 1\n",
    "                except:\n",
    "                    IndexError\n",
    "    return count\n",
    "    "
   ]
  },
  {
   "cell_type": "code",
   "execution_count": 187,
   "metadata": {},
   "outputs": [
    {
     "data": {
      "text/plain": [
       "9"
      ]
     },
     "execution_count": 187,
     "metadata": {},
     "output_type": "execute_result"
    }
   ],
   "source": [
    "p2(test.splitlines())"
   ]
  },
  {
   "cell_type": "code",
   "execution_count": 188,
   "metadata": {},
   "outputs": [
    {
     "data": {
      "text/plain": [
       "1912"
      ]
     },
     "execution_count": 188,
     "metadata": {},
     "output_type": "execute_result"
    }
   ],
   "source": [
    "p2(open(\"data04\").read().splitlines())"
   ]
  }
 ],
 "metadata": {
  "kernelspec": {
   "display_name": "venv_semantic-demo",
   "language": "python",
   "name": "venv_semantic-demo"
  },
  "language_info": {
   "codemirror_mode": {
    "name": "ipython",
    "version": 3
   },
   "file_extension": ".py",
   "mimetype": "text/x-python",
   "name": "python",
   "nbconvert_exporter": "python",
   "pygments_lexer": "ipython3",
   "version": "3.9.6"
  }
 },
 "nbformat": 4,
 "nbformat_minor": 2
}
