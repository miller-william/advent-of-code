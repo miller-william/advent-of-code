{
 "cells": [
  {
   "cell_type": "code",
   "execution_count": 34,
   "metadata": {},
   "outputs": [],
   "source": [
    "test = \"\"\"3   4\n",
    "4   3\n",
    "2   5\n",
    "1   3\n",
    "3   9\n",
    "3   3\n",
    "\"\"\""
   ]
  },
  {
   "cell_type": "code",
   "execution_count": 40,
   "metadata": {},
   "outputs": [],
   "source": [
    "def p1(data):\n",
    "    left = []\n",
    "    right = []\n",
    "    for x,y in [x.split() for x in data.splitlines()]:\n",
    "        left.append(int(x))\n",
    "        right.append(int(y))\n",
    "    left.sort()\n",
    "    right.sort()\n",
    "\n",
    "    total = 0\n",
    "    for i in range(len(left)):\n",
    "        total = total + abs(left[i] - right[i])\n",
    "\n",
    "    return total\n"
   ]
  },
  {
   "cell_type": "code",
   "execution_count": 41,
   "metadata": {},
   "outputs": [
    {
     "data": {
      "text/plain": [
       "11"
      ]
     },
     "execution_count": 41,
     "metadata": {},
     "output_type": "execute_result"
    }
   ],
   "source": [
    "p1(test)\n"
   ]
  },
  {
   "cell_type": "code",
   "execution_count": 45,
   "metadata": {},
   "outputs": [
    {
     "data": {
      "text/plain": [
       "1580061"
      ]
     },
     "execution_count": 45,
     "metadata": {},
     "output_type": "execute_result"
    }
   ],
   "source": [
    "p1(open('data01').read())"
   ]
  },
  {
   "cell_type": "code",
   "execution_count": null,
   "metadata": {},
   "outputs": [],
   "source": [
    "# part 2"
   ]
  },
  {
   "cell_type": "code",
   "execution_count": null,
   "metadata": {},
   "outputs": [],
   "source": [
    "def p2(data):\n",
    "    left = []\n",
    "    right = []\n",
    "    for x,y in [x.split() for x in data.splitlines()]:\n",
    "        left.append(int(x))\n",
    "        right.append(int(y))\n",
    "    left.sort()\n",
    "    right.sort()\n",
    "    similarity = 0\n",
    "    for item_l in left:\n",
    "        count_l = 0\n",
    "        for item_r in right:\n",
    "            if item_r > item_l:\n",
    "                break\n",
    "            if item_l == item_r:\n",
    "                count_l += 1\n",
    "        similarity = similarity + (item_l * count_l)\n",
    "    return similarity"
   ]
  },
  {
   "cell_type": "code",
   "execution_count": 77,
   "metadata": {},
   "outputs": [
    {
     "data": {
      "text/plain": [
       "23046913"
      ]
     },
     "execution_count": 77,
     "metadata": {},
     "output_type": "execute_result"
    }
   ],
   "source": [
    "p2(open('data01').read())"
   ]
  }
 ],
 "metadata": {
  "kernelspec": {
   "display_name": "venv_semantic-demo",
   "language": "python",
   "name": "venv_semantic-demo"
  },
  "language_info": {
   "codemirror_mode": {
    "name": "ipython",
    "version": 3
   },
   "file_extension": ".py",
   "mimetype": "text/x-python",
   "name": "python",
   "nbconvert_exporter": "python",
   "pygments_lexer": "ipython3",
   "version": "3.9.6"
  }
 },
 "nbformat": 4,
 "nbformat_minor": 2
}
