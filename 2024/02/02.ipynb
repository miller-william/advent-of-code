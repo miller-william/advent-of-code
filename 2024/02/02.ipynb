{
 "cells": [
  {
   "cell_type": "markdown",
   "metadata": {},
   "source": [
    "# AoC 2024 - Day 02"
   ]
  },
  {
   "cell_type": "code",
   "execution_count": 189,
   "metadata": {},
   "outputs": [],
   "source": [
    "test = \"\"\"7 6 4 2 1\n",
    "1 2 7 8 9\n",
    "9 7 6 2 1\n",
    "1 3 2 4 5\n",
    "8 6 4 4 1\n",
    "1 3 6 7 9\"\"\""
   ]
  },
  {
   "cell_type": "markdown",
   "metadata": {},
   "source": [
    "The levels are either all increasing or all decreasing.\n",
    "Any two adjacent levels differ by at least one and at most three."
   ]
  },
  {
   "cell_type": "code",
   "execution_count": 49,
   "metadata": {},
   "outputs": [
    {
     "data": {
      "text/plain": [
       "[[7, 6, 4, 2, 1],\n",
       " [1, 2, 7, 8, 9],\n",
       " [9, 7, 6, 2, 1],\n",
       " [1, 3, 2, 4, 5],\n",
       " [8, 6, 4, 4, 1],\n",
       " [1, 3, 6, 7, 9]]"
      ]
     },
     "execution_count": 49,
     "metadata": {},
     "output_type": "execute_result"
    }
   ],
   "source": [
    "data = [list(map(int,x.split())) for x in test.splitlines()]\n",
    "data"
   ]
  },
  {
   "cell_type": "code",
   "execution_count": 98,
   "metadata": {},
   "outputs": [],
   "source": [
    "def check_safe(report):\n",
    "    report_length = len(report)\n",
    "    change = report[-1] - report[0]\n",
    "\n",
    "    if abs(change) > (report_length - 1) * 3:\n",
    "        return 0\n",
    "    if abs(change) < report_length - 1:\n",
    "        return 0\n",
    "\n",
    "    if change > 0:\n",
    "        sign_change = 1\n",
    "    else: \n",
    "        sign_change = -1\n",
    "\n",
    "    for i in range(1, report_length):\n",
    "        level_change = report[i] - report[i-1]\n",
    "        if (level_change * sign_change) < 0:\n",
    "            return 0\n",
    "        if abs(level_change) > 3 or abs(level_change) < 1:\n",
    "            return 0\n",
    "    return 1"
   ]
  },
  {
   "cell_type": "code",
   "execution_count": 99,
   "metadata": {},
   "outputs": [],
   "source": [
    "def p1(inp):\n",
    "    data = [list(map(int,x.split())) for x in inp.splitlines()]\n",
    "    ans = 0\n",
    "    for report in data:\n",
    "        ans = ans + check_safe(report)\n",
    "    return ans"
   ]
  },
  {
   "cell_type": "code",
   "execution_count": 100,
   "metadata": {},
   "outputs": [
    {
     "data": {
      "text/plain": [
       "True"
      ]
     },
     "execution_count": 100,
     "metadata": {},
     "output_type": "execute_result"
    }
   ],
   "source": [
    "p1(test) == 2"
   ]
  },
  {
   "cell_type": "code",
   "execution_count": 96,
   "metadata": {},
   "outputs": [
    {
     "data": {
      "text/plain": [
       "197"
      ]
     },
     "execution_count": 96,
     "metadata": {},
     "output_type": "execute_result"
    }
   ],
   "source": [
    "p1(open(\"data02\").read())"
   ]
  },
  {
   "cell_type": "markdown",
   "metadata": {},
   "source": [
    "# Part 2"
   ]
  },
  {
   "cell_type": "code",
   "execution_count": null,
   "metadata": {},
   "outputs": [],
   "source": [
    "def check_safe2(report):\n",
    "    report_length = len(report)\n",
    "    change = report[-1] - report[0]\n",
    "\n",
    "    if change > 0:\n",
    "        sign_change = 1\n",
    "    else: \n",
    "        sign_change = -1\n",
    "        \n",
    "    for i in range(0, report_length - 1):\n",
    "        \n",
    "        level_change = report[i+1] - report[i]\n",
    "        \n",
    "        if (abs(level_change) > 3) or ((level_change * sign_change)) < 0 or (abs(level_change) < 1): \n",
    "            if check_safe(report[:i] + report[i+1:]) == 1: # see if deleting current fixes it\n",
    "                return 1\n",
    "            elif i != (report_length - 1) : # try deleting next, if we're not at the end\n",
    "                return check_safe(report[:i+1] + report[i+2:]) \n",
    "        \n",
    "    return 1"
   ]
  },
  {
   "cell_type": "code",
   "execution_count": 186,
   "metadata": {},
   "outputs": [],
   "source": [
    "def p2(inp):\n",
    "    data = [list(map(int,x.split())) for x in inp.splitlines()]\n",
    "    ans = 0\n",
    "    for report in data:\n",
    "        ans = ans + check_safe2(report)\n",
    "    return ans"
   ]
  },
  {
   "cell_type": "code",
   "execution_count": 190,
   "metadata": {},
   "outputs": [
    {
     "data": {
      "text/plain": [
       "4"
      ]
     },
     "execution_count": 190,
     "metadata": {},
     "output_type": "execute_result"
    }
   ],
   "source": [
    "p2(test)"
   ]
  },
  {
   "cell_type": "code",
   "execution_count": 191,
   "metadata": {},
   "outputs": [
    {
     "data": {
      "text/plain": [
       "428"
      ]
     },
     "execution_count": 191,
     "metadata": {},
     "output_type": "execute_result"
    }
   ],
   "source": [
    "p2(open(\"data02\").read())"
   ]
  }
 ],
 "metadata": {
  "kernelspec": {
   "display_name": "venv_semantic-demo",
   "language": "python",
   "name": "venv_semantic-demo"
  },
  "language_info": {
   "codemirror_mode": {
    "name": "ipython",
    "version": 3
   },
   "file_extension": ".py",
   "mimetype": "text/x-python",
   "name": "python",
   "nbconvert_exporter": "python",
   "pygments_lexer": "ipython3",
   "version": "3.9.6"
  }
 },
 "nbformat": 4,
 "nbformat_minor": 2
}
