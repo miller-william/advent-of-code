{
 "cells": [
  {
   "cell_type": "code",
   "execution_count": 180,
   "metadata": {},
   "outputs": [],
   "source": [
    "test1 = \"\"\"AAAA\n",
    "BBCD\n",
    "BBCC\n",
    "EEEC\"\"\""
   ]
  },
  {
   "cell_type": "code",
   "execution_count": 181,
   "metadata": {},
   "outputs": [],
   "source": [
    "test2 = \"\"\"RRRRIICCFF\n",
    "RRRRIICCCF\n",
    "VVRRRCCFFF\n",
    "VVRCCCJFFF\n",
    "VVVVCJJCFE\n",
    "VVIVCCJJEE\n",
    "VVIIICJJEE\n",
    "MIIIIIJJEE\n",
    "MIIISIJEEE\n",
    "MMMISSJEEE\"\"\""
   ]
  },
  {
   "cell_type": "markdown",
   "metadata": {},
   "source": [
    "for each item in grid\n",
    "\n",
    "check if it's in a region already\n",
    "\n",
    "if not work out all connected items\n",
    "\n",
    "\n"
   ]
  },
  {
   "cell_type": "code",
   "execution_count": 182,
   "metadata": {},
   "outputs": [],
   "source": [
    "def in_bound(pos, grid):\n",
    "    a,b = pos\n",
    "    if a >= 0 and a < len(grid):\n",
    "        if b >= 0 and b < len(grid[0]):\n",
    "            return True\n",
    "    return False"
   ]
  },
  {
   "cell_type": "code",
   "execution_count": 183,
   "metadata": {},
   "outputs": [],
   "source": [
    "def connected(pos, grid, region = set(), perim = 0):\n",
    "\n",
    "    crop = grid[pos[0]][pos[1]]\n",
    "\n",
    "    region.add(pos)\n",
    "\n",
    "    perim += 4 #have 4 boundaries for each new position until we remove these\n",
    "\n",
    "    directions = [(0,1),(0,-1),(1,0),(-1,0)]\n",
    "\n",
    "    for dir in directions:\n",
    "        new_pos = (pos[0] + dir[0], pos[1] + dir[1])\n",
    "        if in_bound(new_pos,grid):\n",
    "            if new_pos not in region: # not already in region\n",
    "                if grid[new_pos[0]][new_pos[1]] == crop: # adjacent is same type \n",
    "                    new_regions, perim_update = connected(new_pos, grid, region, 0)\n",
    "                    region = region.union(new_regions)\n",
    "                    perim = perim - 1 + perim_update\n",
    "\n",
    "            else: # adjacent is in a region so reduce perimeter\n",
    "                perim = perim - 1\n",
    "                    \n",
    "    return region, perim"
   ]
  },
  {
   "cell_type": "code",
   "execution_count": 185,
   "metadata": {},
   "outputs": [],
   "source": [
    "def get_regions(inp):\n",
    "    grid = inp.splitlines()\n",
    "\n",
    "    in_region = set()\n",
    "    distinct_regions = []\n",
    "\n",
    "    for i in range(len(grid)):\n",
    "        for j in range(len(grid[0])):\n",
    "            start_region = (i,j)\n",
    "            region = set()\n",
    "\n",
    "            if not start_region in in_region: # if starting position is not already in a region\n",
    "                new_region, perim = connected(start_region, grid, region, 0)\n",
    "                region = region.union(new_region)\n",
    "                in_region = in_region.union(region)\n",
    "                distinct_regions.append([region,perim])\n",
    "\n",
    "    return distinct_regions"
   ]
  },
  {
   "cell_type": "code",
   "execution_count": 186,
   "metadata": {},
   "outputs": [],
   "source": [
    "def p1(inp):\n",
    "    ans = 0\n",
    "    all_regions = get_regions(inp)\n",
    "    for regions, perim in all_regions:\n",
    "        ans = ans + (len(regions)*perim)\n",
    "\n",
    "    return ans"
   ]
  },
  {
   "cell_type": "code",
   "execution_count": 187,
   "metadata": {},
   "outputs": [
    {
     "data": {
      "text/plain": [
       "1930"
      ]
     },
     "execution_count": 187,
     "metadata": {},
     "output_type": "execute_result"
    }
   ],
   "source": [
    "p1(test2)"
   ]
  },
  {
   "cell_type": "code",
   "execution_count": 188,
   "metadata": {},
   "outputs": [
    {
     "data": {
      "text/plain": [
       "1456082"
      ]
     },
     "execution_count": 188,
     "metadata": {},
     "output_type": "execute_result"
    }
   ],
   "source": [
    "p1(open('data12').read())"
   ]
  },
  {
   "cell_type": "code",
   "execution_count": 189,
   "metadata": {},
   "outputs": [],
   "source": [
    "def connected(pos, grid, region=None, fences=None):\n",
    "    if region is None:\n",
    "        region = set()\n",
    "    if fences is None:\n",
    "        fences = {}\n",
    "\n",
    "    crop = grid[pos[0]][pos[1]]\n",
    "\n",
    "    region.add(pos)\n",
    "\n",
    "    directions = [(0, 1), (0, -1), (1, 0), (-1, 0)]\n",
    "\n",
    "\n",
    "    fences[pos] = set(directions)  # have 4 fences for each new position until we remove these\n",
    "\n",
    "    #print(f'pos: {pos}')\n",
    "    for dir in directions:\n",
    "        new_pos = (pos[0] + dir[0], pos[1] + dir[1])\n",
    "        if in_bound(new_pos, grid):\n",
    "            if new_pos not in region:  # not already in region\n",
    "                #print(f'adding {new_pos} to {region}')\n",
    "\n",
    "                if grid[new_pos[0]][new_pos[1]] == crop:  # adjacent is the same type\n",
    "                    new_regions, new_fences = connected(new_pos, grid, region, fences)\n",
    "                    region.update(new_regions)  # Merge new regions into the current region\n",
    "\n",
    "                    # Merge fences from the new recursive call\n",
    "                    for key, value in new_fences.items():\n",
    "                        if key in fences:\n",
    "                            fences[key].update(value)\n",
    "                        else:\n",
    "                            fences[key] = value\n",
    "\n",
    "                    # Remove the fence because the other side is within the region\n",
    "                    if pos in fences and dir in fences[pos]:\n",
    "                        fences[pos].remove(dir)\n",
    "\n",
    "            else:\n",
    "                #print(f'fences: {fences}')\n",
    "                if pos in fences and dir in fences[pos]:  # Remove fence because the other side is within region\n",
    "                    #print(f'removing {dir} from {pos}')\n",
    "                    fences[pos].remove(dir)\n",
    "\n",
    "    return region, fences\n"
   ]
  },
  {
   "cell_type": "code",
   "execution_count": 190,
   "metadata": {},
   "outputs": [],
   "source": [
    "def get_regions(inp):\n",
    "    grid = inp.splitlines()\n",
    "\n",
    "    in_region = set()\n",
    "    distinct_regions = []\n",
    "\n",
    "    for i in range(len(grid)):\n",
    "        for j in range(len(grid[0])):\n",
    "            start_region = (i,j)\n",
    "            region = set()\n",
    "\n",
    "            if not start_region in in_region: # if starting position is not already in a region\n",
    "                new_region, fences = connected(start_region, grid, region)\n",
    "                region = region.union(new_region)\n",
    "                in_region = in_region.union(region)\n",
    "                distinct_regions.append(fences)\n",
    "\n",
    "    return distinct_regions"
   ]
  },
  {
   "cell_type": "code",
   "execution_count": 191,
   "metadata": {},
   "outputs": [],
   "source": [
    "distinct_regions = get_regions(test2)\n",
    "distinct_regions = get_regions(open('data12').read())"
   ]
  },
  {
   "cell_type": "markdown",
   "metadata": {},
   "source": [
    "This is painful.\n",
    "\n",
    "hacked together solution to order the list of fences, and count new side if there's a discontinous jump"
   ]
  },
  {
   "cell_type": "code",
   "execution_count": null,
   "metadata": {},
   "outputs": [],
   "source": [
    "def neighbour(a,b, colchange=True):\n",
    "    if a==b:\n",
    "        raise ValueError(\"same position compared\")\n",
    "    \n",
    "    if colchange:\n",
    "        if a[1] != b[1]:\n",
    "            return False\n",
    "    else:\n",
    "        if a[0] != a[0]:\n",
    "            return False\n",
    "\n",
    "    if abs(a[0]-b[0]) + abs(a[1]-b[1]) == 1:\n",
    "        return True\n",
    "    return False"
   ]
  },
  {
   "cell_type": "code",
   "execution_count": null,
   "metadata": {},
   "outputs": [],
   "source": [
    "def p2(inp):\n",
    "    distinct_regions = get_regions(inp)\n",
    "    directions = [(0,1),(0,-1),(1,0),(-1,0)]\n",
    "    region_sides = []\n",
    "    ans = 0\n",
    "    for region in distinct_regions:\n",
    "        sides = 0\n",
    "        directions_master = []\n",
    "\n",
    "        for dir in directions:\n",
    "            dir_list = []\n",
    "            for k, v in region.items():\n",
    "                if dir in v:\n",
    "                    dir_list.append(k)\n",
    "            directions_master.append(dir_list)\n",
    "        \n",
    "        count = 1\n",
    "        for dir_item in directions_master:\n",
    "            prev = (-100000,-100000)\n",
    "            if count < 3:\n",
    "                sorted_dir_item = sorted(dir_item, key=lambda x: (x[1], x[0]))\n",
    "            else:\n",
    "                sorted_dir_item = sorted(dir_item, key=lambda x: (x[0], x[1]))\n",
    "\n",
    "            for item in sorted_dir_item:\n",
    "                if count > 2:\n",
    "                    colchange = False\n",
    "                else:\n",
    "                    colchange = True\n",
    "                if not neighbour(prev,item, colchange):\n",
    "                    sides += 1\n",
    "                prev = item\n",
    "            count += 1\n",
    "        region_sides.append(sides)\n",
    "        ans = ans + (sides*len(region))\n",
    "\n",
    "    return(ans)\n",
    " "
   ]
  },
  {
   "cell_type": "code",
   "execution_count": 179,
   "metadata": {},
   "outputs": [
    {
     "data": {
      "text/plain": [
       "80"
      ]
     },
     "execution_count": 179,
     "metadata": {},
     "output_type": "execute_result"
    }
   ],
   "source": [
    "p2(test1)"
   ]
  },
  {
   "cell_type": "code",
   "execution_count": 176,
   "metadata": {},
   "outputs": [
    {
     "data": {
      "text/plain": [
       "872382"
      ]
     },
     "execution_count": 176,
     "metadata": {},
     "output_type": "execute_result"
    }
   ],
   "source": [
    "p2(open('data12').read())"
   ]
  }
 ],
 "metadata": {
  "kernelspec": {
   "display_name": "venv_semantic-demo",
   "language": "python",
   "name": "venv_semantic-demo"
  },
  "language_info": {
   "codemirror_mode": {
    "name": "ipython",
    "version": 3
   },
   "file_extension": ".py",
   "mimetype": "text/x-python",
   "name": "python",
   "nbconvert_exporter": "python",
   "pygments_lexer": "ipython3",
   "version": "3.9.6"
  }
 },
 "nbformat": 4,
 "nbformat_minor": 2
}
