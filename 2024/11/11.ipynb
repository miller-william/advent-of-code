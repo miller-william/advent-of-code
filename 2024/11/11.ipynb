{
 "cells": [
  {
   "cell_type": "code",
   "execution_count": 82,
   "metadata": {},
   "outputs": [],
   "source": [
    "test = \"125 17\""
   ]
  },
  {
   "cell_type": "code",
   "execution_count": 83,
   "metadata": {},
   "outputs": [],
   "source": [
    "inp = test"
   ]
  },
  {
   "cell_type": "code",
   "execution_count": 97,
   "metadata": {},
   "outputs": [
    {
     "data": {
      "text/plain": [
       "['125', '17']"
      ]
     },
     "execution_count": 97,
     "metadata": {},
     "output_type": "execute_result"
    }
   ],
   "source": [
    "stones = [n for n in inp.split(\" \")]\n",
    "stones"
   ]
  },
  {
   "cell_type": "code",
   "execution_count": null,
   "metadata": {},
   "outputs": [],
   "source": [
    "def p1(inp, blinks):\n",
    "    stones = [n for n in inp.split(\" \")]\n",
    "\n",
    "    for blink in range(blinks):\n",
    "        i=0\n",
    "        while i < len(stones):\n",
    "\n",
    "            stone = stones[i]\n",
    "            #print(stone)\n",
    "            if stone == '0':\n",
    "                #print('making it 1')\n",
    "                stones[i] = '1'\n",
    "            \n",
    "            elif (len(stone) % 2) == 0:\n",
    "                #print('splitting')\n",
    "                #print(f'len: {len(stone)}')\n",
    "                stones[i] = str(int(stone[:int(len(stone)/2)]))\n",
    "                stones.insert(i+1,str(int(stone[int(len(stone)/2):])))\n",
    "                i += 1\n",
    "            \n",
    "            else:\n",
    "                #print('multiplying')\n",
    "                stones[i] = str(int(stone) * 2024)\n",
    "            i += 1            \n",
    "    \n",
    "    return len(stones)"
   ]
  },
  {
   "cell_type": "code",
   "execution_count": 135,
   "metadata": {},
   "outputs": [
    {
     "data": {
      "text/plain": [
       "55312"
      ]
     },
     "execution_count": 135,
     "metadata": {},
     "output_type": "execute_result"
    }
   ],
   "source": [
    "p1(test, 25)"
   ]
  },
  {
   "cell_type": "code",
   "execution_count": 136,
   "metadata": {},
   "outputs": [
    {
     "data": {
      "text/plain": [
       "198089"
      ]
     },
     "execution_count": 136,
     "metadata": {},
     "output_type": "execute_result"
    }
   ],
   "source": [
    "p1(open('data11').read(),25)"
   ]
  },
  {
   "cell_type": "code",
   "execution_count": 168,
   "metadata": {},
   "outputs": [
    {
     "data": {
      "text/plain": [
       "{125: 1, 17: 1}"
      ]
     },
     "execution_count": 168,
     "metadata": {},
     "output_type": "execute_result"
    }
   ],
   "source": [
    "stones = inp.split()\n",
    "stones = {int(x):stones.count(x) for x in stones}\n",
    "stones"
   ]
  },
  {
   "cell_type": "code",
   "execution_count": 169,
   "metadata": {},
   "outputs": [],
   "source": [
    "stones[1] = stones.get(1,0) + 1"
   ]
  },
  {
   "cell_type": "code",
   "execution_count": 170,
   "metadata": {},
   "outputs": [
    {
     "name": "stdout",
     "output_type": "stream",
     "text": [
      "125 1\n",
      "17 1\n",
      "1 1\n"
     ]
    }
   ],
   "source": [
    "for k,v in stones.items():\n",
    "    print(k,v)"
   ]
  },
  {
   "cell_type": "code",
   "execution_count": null,
   "metadata": {},
   "outputs": [],
   "source": [
    "def p2(inp, blinks):\n",
    "    stones = inp.split()\n",
    "    stones = {int(x):stones.count(x) for x in stones}\n",
    "    \n",
    "    for blink in range(blinks):\n",
    "\n",
    "        for stone_id,count in stones.items():\n",
    "\n",
    "            new_stones = stones.copy()\n",
    "            \n",
    "            if stone_id == 0:\n",
    "                #print('making it 1')\n",
    "                new_stones[1] = new_stones.get(1,0) + count\n",
    "                new_stones[stone_id] = 0\n",
    "             \n",
    "            elif (len(str(stone_id)) % 2) == 0:\n",
    "                #print('splitting')\n",
    "                #print(f'len: {len(stone)}')\n",
    "                stone_left = int(str(stone_id)[:int(len(str(stone_id))/2)])\n",
    "                stone_right = int(str(stone_id)[int(len(str(stone_id))/2):])\n",
    "\n",
    "                new_stones[stone_left] = new_stones.get(stone_left,0) + count\n",
    "                new_stones[stone_right] = new_stones.get(stone_right,0) + count\n",
    "\n",
    "                new_stones[stone_id] = 0\n",
    "            \n",
    "            else:\n",
    "                #print('multiplying')\n",
    "                multiplied = stone_id * 2024\n",
    "                new_stones[multiplied] = new_stones.get(multiplied,0) + count\n",
    "                \n",
    "                new_stones[stone_id] = 0\n",
    "\n",
    "        stones = new_stones\n",
    "    \n",
    "    return stones"
   ]
  },
  {
   "cell_type": "code",
   "execution_count": 182,
   "metadata": {},
   "outputs": [],
   "source": [
    "stones = p2(test, 25)"
   ]
  },
  {
   "cell_type": "code",
   "execution_count": null,
   "metadata": {},
   "outputs": [],
   "source": []
  }
 ],
 "metadata": {
  "kernelspec": {
   "display_name": "venv_semantic-demo",
   "language": "python",
   "name": "venv_semantic-demo"
  },
  "language_info": {
   "codemirror_mode": {
    "name": "ipython",
    "version": 3
   },
   "file_extension": ".py",
   "mimetype": "text/x-python",
   "name": "python",
   "nbconvert_exporter": "python",
   "pygments_lexer": "ipython3",
   "version": "3.9.6"
  }
 },
 "nbformat": 4,
 "nbformat_minor": 2
}
