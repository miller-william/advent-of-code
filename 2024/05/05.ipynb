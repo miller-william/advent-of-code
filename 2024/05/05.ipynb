{
 "cells": [
  {
   "cell_type": "markdown",
   "metadata": {},
   "source": []
  },
  {
   "cell_type": "code",
   "execution_count": 74,
   "metadata": {},
   "outputs": [],
   "source": [
    "test = \"\"\"47|53\n",
    "97|13\n",
    "97|61\n",
    "97|47\n",
    "75|29\n",
    "61|13\n",
    "75|53\n",
    "29|13\n",
    "97|29\n",
    "53|29\n",
    "61|53\n",
    "97|53\n",
    "61|29\n",
    "47|13\n",
    "75|47\n",
    "97|75\n",
    "47|61\n",
    "75|61\n",
    "47|29\n",
    "75|13\n",
    "53|13\n",
    "\n",
    "75,47,61,53,29\n",
    "97,61,53,29,13\n",
    "75,29,13\n",
    "75,97,47,61,53\n",
    "61,13,29\n",
    "97,13,75,29,47\"\"\""
   ]
  },
  {
   "cell_type": "code",
   "execution_count": 108,
   "metadata": {},
   "outputs": [],
   "source": [
    "rules,manuals = test.split(\"\\n\\n\")"
   ]
  },
  {
   "cell_type": "code",
   "execution_count": 118,
   "metadata": {},
   "outputs": [
    {
     "data": {
      "text/plain": [
       "[[75, 47, 61, 53, 29],\n",
       " [97, 61, 53, 29, 13],\n",
       " [75, 29, 13],\n",
       " [75, 97, 47, 61, 53],\n",
       " [61, 13, 29],\n",
       " [97, 13, 75, 29, 47]]"
      ]
     },
     "execution_count": 118,
     "metadata": {},
     "output_type": "execute_result"
    }
   ],
   "source": [
    "[[int(n) for n in x.split(',')] for x in manuals.splitlines()]"
   ]
  },
  {
   "cell_type": "code",
   "execution_count": null,
   "metadata": {},
   "outputs": [],
   "source": [
    "rules,manuals = inp.split(\"\\n\\n\")\n",
    "rules_list = [[int(l),int(r)] for l,r in [x.split('|') for x in rules.splitlines()]]\n",
    "rules_dict = {}\n",
    "for rule in rules_list:\n",
    "    #left\n",
    "    if rules_dict.get(rule[0]):\n",
    "        #add to existing dict\n",
    "        rules_dict[rule[0]]['r'].append(rule[1])\n",
    "    else: #initialise dict\n",
    "        rules_dict[rule[0]] = {'l':[],'r':[rule[1]]}\n",
    "\n",
    "    #right\n",
    "    if rules_dict.get(rule[1]):\n",
    "        #add to existing dict\n",
    "        rules_dict[rule[1]]['l'].append(rule[0])\n",
    "    else: #initialise dict\n",
    "        rules_dict[rule[1]] = {'l':[rule[0]],'r':[]}"
   ]
  },
  {
   "cell_type": "code",
   "execution_count": 61,
   "metadata": {},
   "outputs": [
    {
     "data": {
      "text/plain": [
       "{47: {'l': [97, 75], 'r': [53, 13, 61, 29]},\n",
       " 53: {'l': [47, 75, 61, 97], 'r': [29, 13]},\n",
       " 97: {'l': [], 'r': [13, 61, 47, 29, 53, 75]},\n",
       " 13: {'l': [97, 61, 29, 47, 75, 53], 'r': []},\n",
       " 61: {'l': [97, 47, 75], 'r': [13, 53, 29]},\n",
       " 75: {'l': [97], 'r': [29, 53, 47, 61, 13]},\n",
       " 29: {'l': [75, 97, 53, 61, 47], 'r': [13]}}"
      ]
     },
     "execution_count": 61,
     "metadata": {},
     "output_type": "execute_result"
    }
   ],
   "source": [
    "rules_dict"
   ]
  },
  {
   "cell_type": "code",
   "execution_count": 121,
   "metadata": {},
   "outputs": [],
   "source": [
    "def p1(inp):\n",
    "\n",
    "    rules,manuals = inp.split(\"\\n\\n\")\n",
    "    manuals = [[int(n) for n in x.split(',')] for x in manuals.splitlines()]\n",
    "    rules_list = [[int(l),int(r)] for l,r in [x.split('|') for x in rules.splitlines()]]\n",
    "    rules_dict = {}\n",
    "    for rule in rules_list:\n",
    "        #left\n",
    "        if rules_dict.get(rule[0]):\n",
    "            #add to existing dict\n",
    "            rules_dict[rule[0]]['r'].append(rule[1])\n",
    "        else: #initialise dict\n",
    "            rules_dict[rule[0]] = {'l':[],'r':[rule[1]]}\n",
    "\n",
    "        #right\n",
    "        if rules_dict.get(rule[1]):\n",
    "            #add to existing dict\n",
    "            rules_dict[rule[1]]['l'].append(rule[0])\n",
    "        else: #initialise dict\n",
    "            rules_dict[rule[1]] = {'l':[rule[0]],'r':[]}\n",
    "        \n",
    "    middle_page_total = 0\n",
    "\n",
    "    for manual in manuals:\n",
    "        include_manual = True\n",
    "        for i in range(len(manual)):\n",
    "            if include_manual:\n",
    "                rules_i = rules_dict.get(manual[i])\n",
    "\n",
    "                if rules_i:\n",
    "                    for page in manual[i+1:]: # check pages to the right\n",
    "                        if page in rules_i.get('l'):\n",
    "                            include_manual = False \n",
    "                            break\n",
    "        if include_manual:\n",
    "            middle_page_total += int(manual[int((len(manual)-1)/2)])\n",
    "\n",
    "    return middle_page_total\n",
    "            \n"
   ]
  },
  {
   "cell_type": "code",
   "execution_count": 122,
   "metadata": {},
   "outputs": [
    {
     "data": {
      "text/plain": [
       "143"
      ]
     },
     "execution_count": 122,
     "metadata": {},
     "output_type": "execute_result"
    }
   ],
   "source": [
    "p1(test)"
   ]
  },
  {
   "cell_type": "code",
   "execution_count": 134,
   "metadata": {},
   "outputs": [],
   "source": [
    "def p2(inp):\n",
    "\n",
    "    rules,manuals = inp.split(\"\\n\\n\")\n",
    "    manuals = [[int(n) for n in x.split(',')] for x in manuals.splitlines()]\n",
    "    rules_list = [[int(l),int(r)] for l,r in [x.split('|') for x in rules.splitlines()]]\n",
    "    rules_dict = {}\n",
    "    for rule in rules_list:\n",
    "        #left\n",
    "        if rules_dict.get(rule[0]):\n",
    "            #add to existing dict\n",
    "            rules_dict[rule[0]]['r'].append(rule[1])\n",
    "        else: #initialise dict\n",
    "            rules_dict[rule[0]] = {'l':[],'r':[rule[1]]}\n",
    "\n",
    "        #right\n",
    "        if rules_dict.get(rule[1]):\n",
    "            #add to existing dict\n",
    "            rules_dict[rule[1]]['l'].append(rule[0])\n",
    "        else: #initialise dict\n",
    "            rules_dict[rule[1]] = {'l':[rule[0]],'r':[]}\n",
    "        \n",
    "    wrong_manuals = []\n",
    "\n",
    "    for manual in manuals:\n",
    "        include_manual = True\n",
    "        for i in range(len(manual)):\n",
    "            if include_manual:\n",
    "                rules_i = rules_dict.get(manual[i])\n",
    "\n",
    "                if rules_i:\n",
    "                    for page in manual[i+1:]: # check pages to the right\n",
    "                        if page in rules_i.get('l'):\n",
    "                            include_manual = False \n",
    "                            break\n",
    "        if not include_manual:\n",
    "            wrong_manuals = wrong_manuals + [manual]     \n",
    "\n",
    "    return wrong_manuals\n",
    "            \n"
   ]
  },
  {
   "cell_type": "code",
   "execution_count": 136,
   "metadata": {},
   "outputs": [
    {
     "data": {
      "text/plain": [
       "[[75, 97, 47, 61, 53], [61, 13, 29], [97, 13, 75, 29, 47]]"
      ]
     },
     "execution_count": 136,
     "metadata": {},
     "output_type": "execute_result"
    }
   ],
   "source": [
    "p2(test)"
   ]
  },
  {
   "cell_type": "code",
   "execution_count": 142,
   "metadata": {},
   "outputs": [
    {
     "data": {
      "text/plain": [
       "{47: {'l': [97, 75], 'r': [53, 13, 61, 29]},\n",
       " 53: {'l': [47, 75, 61, 97], 'r': [29, 13]},\n",
       " 97: {'l': [], 'r': [13, 61, 47, 29, 53, 75]},\n",
       " 13: {'l': [97, 61, 29, 47, 75, 53], 'r': []},\n",
       " 61: {'l': [97, 47, 75], 'r': [13, 53, 29]},\n",
       " 75: {'l': [97], 'r': [29, 53, 47, 61, 13]},\n",
       " 29: {'l': [75, 97, 53, 61, 47], 'r': [13]}}"
      ]
     },
     "execution_count": 142,
     "metadata": {},
     "output_type": "execute_result"
    }
   ],
   "source": [
    "rules_dict"
   ]
  },
  {
   "cell_type": "code",
   "execution_count": null,
   "metadata": {},
   "outputs": [],
   "source": [
    "61,13,29,55,76\n",
    "\n",
    "\n",
    "13\n",
    "\n",
    "[13,55,61,28,]"
   ]
  },
  {
   "cell_type": "code",
   "execution_count": null,
   "metadata": {},
   "outputs": [],
   "source": [
    "def add_page_to_ordered_manual(unordered_manual, rules_dict, ordered_manual = []):\n",
    "\n",
    "    for page_to_place in unordered_manual:\n",
    "\n",
    "        if ordered_manual == []:\n",
    "            ordered_manual = [page_to_place]\n",
    "\n",
    "        else: # figure out where to place the page\n",
    "            need_to_place = True\n",
    "            i = 0\n",
    "            while True:\n",
    "                if i >= len(ordered_manual): # at the end of the current ordered list\n",
    "                    ordered_manual.append(page_to_place)\n",
    "                    break\n",
    "\n",
    "                elif page_to_place in rules_dict.get(ordered_manual[i])['l']: # if there's a rule which says current page has to be on left of i th element\n",
    "                    ordered_manual.insert(i, page_to_place)\n",
    "                    break\n",
    "\n",
    "                elif i == len(unordered_manual) - 1: # last item to place\n",
    "                    ordered_manual.append(page_to_place)\n",
    "                    break\n",
    "\n",
    "                else:\n",
    "                    i = i + 1\n",
    "\n",
    "    return ordered_manual\n",
    "                                   \n",
    "\n",
    "                \n",
    "            \n"
   ]
  },
  {
   "cell_type": "code",
   "execution_count": 185,
   "metadata": {},
   "outputs": [
    {
     "name": "stdout",
     "output_type": "stream",
     "text": [
      "0\n",
      "[97]\n",
      "1\n",
      "[97]\n",
      "0\n",
      "[97, 13]\n",
      "1\n",
      "[97, 13]\n",
      "0\n",
      "[97, 75, 13]\n",
      "1\n",
      "[97, 75, 13]\n",
      "2\n",
      "[97, 75, 13]\n",
      "0\n",
      "[97, 75, 29, 13]\n",
      "1\n",
      "[97, 75, 29, 13]\n",
      "2\n",
      "[97, 75, 29, 13]\n"
     ]
    },
    {
     "data": {
      "text/plain": [
       "[97, 75, 47, 29, 13]"
      ]
     },
     "execution_count": 185,
     "metadata": {},
     "output_type": "execute_result"
    }
   ],
   "source": [
    "add_page_to_ordered_manual([97,13,75,29,47], rules_dict, ordered_manual = [])"
   ]
  },
  {
   "cell_type": "code",
   "execution_count": 186,
   "metadata": {},
   "outputs": [
    {
     "ename": "SyntaxError",
     "evalue": "'return' outside function (3683698934.py, line 10)",
     "output_type": "error",
     "traceback": [
      "\u001b[0;36m  Cell \u001b[0;32mIn[186], line 10\u001b[0;36m\u001b[0m\n\u001b[0;31m    return ordered_manual\u001b[0m\n\u001b[0m    ^\u001b[0m\n\u001b[0;31mSyntaxError\u001b[0m\u001b[0;31m:\u001b[0m 'return' outside function\n"
     ]
    }
   ],
   "source": [
    "\n",
    "\n",
    "                for i in range(len(starting_list)): #look at each position currently\n",
    "                    if page in rules_dict.get(starting_list[i])['l']:\n",
    "                        starting_list = page + starting_list\n",
    "                \n",
    "\n",
    "\n",
    "\n",
    "\n",
    "\n",
    "    return ordered_manual"
   ]
  },
  {
   "cell_type": "code",
   "execution_count": null,
   "metadata": {},
   "outputs": [],
   "source": []
  }
 ],
 "metadata": {
  "kernelspec": {
   "display_name": "venv_semantic-demo",
   "language": "python",
   "name": "venv_semantic-demo"
  },
  "language_info": {
   "codemirror_mode": {
    "name": "ipython",
    "version": 3
   },
   "file_extension": ".py",
   "mimetype": "text/x-python",
   "name": "python",
   "nbconvert_exporter": "python",
   "pygments_lexer": "ipython3",
   "version": "3.9.6"
  }
 },
 "nbformat": 4,
 "nbformat_minor": 2
}
