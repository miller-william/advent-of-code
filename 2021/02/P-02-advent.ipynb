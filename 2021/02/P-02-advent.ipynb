{
 "cells": [
  {
   "cell_type": "code",
   "execution_count": 158,
   "metadata": {},
   "outputs": [
    {
     "name": "stdout",
     "output_type": "stream",
     "text": [
      "             X\n",
      "0    forward 9\n",
      "1    forward 9\n",
      "2    forward 3\n",
      "3       down 2\n",
      "4    forward 8\n",
      "..         ...\n",
      "995       up 8\n",
      "996  forward 6\n",
      "997     down 9\n",
      "998  forward 2\n",
      "999  forward 6\n",
      "\n",
      "[1000 rows x 1 columns]\n"
     ]
    }
   ],
   "source": [
    "import pandas as pd\n",
    "#read in and clean data\n",
    "data = pd.read_csv('day-2-input.csv', header=None)\n",
    "data = data.rename(columns={0: \"X\"})\n",
    "print(data)"
   ]
  },
  {
   "cell_type": "code",
   "execution_count": 159,
   "metadata": {},
   "outputs": [
    {
     "data": {
      "text/html": [
       "<div>\n",
       "<style scoped>\n",
       "    .dataframe tbody tr th:only-of-type {\n",
       "        vertical-align: middle;\n",
       "    }\n",
       "\n",
       "    .dataframe tbody tr th {\n",
       "        vertical-align: top;\n",
       "    }\n",
       "\n",
       "    .dataframe thead th {\n",
       "        text-align: right;\n",
       "    }\n",
       "</style>\n",
       "<table border=\"1\" class=\"dataframe\">\n",
       "  <thead>\n",
       "    <tr style=\"text-align: right;\">\n",
       "      <th></th>\n",
       "      <th>X</th>\n",
       "      <th>direction</th>\n",
       "    </tr>\n",
       "  </thead>\n",
       "  <tbody>\n",
       "    <tr>\n",
       "      <th>0</th>\n",
       "      <td>9</td>\n",
       "      <td>forward</td>\n",
       "    </tr>\n",
       "    <tr>\n",
       "      <th>1</th>\n",
       "      <td>9</td>\n",
       "      <td>forward</td>\n",
       "    </tr>\n",
       "    <tr>\n",
       "      <th>2</th>\n",
       "      <td>3</td>\n",
       "      <td>forward</td>\n",
       "    </tr>\n",
       "    <tr>\n",
       "      <th>3</th>\n",
       "      <td>2</td>\n",
       "      <td>down</td>\n",
       "    </tr>\n",
       "    <tr>\n",
       "      <th>4</th>\n",
       "      <td>8</td>\n",
       "      <td>forward</td>\n",
       "    </tr>\n",
       "    <tr>\n",
       "      <th>...</th>\n",
       "      <td>...</td>\n",
       "      <td>...</td>\n",
       "    </tr>\n",
       "    <tr>\n",
       "      <th>995</th>\n",
       "      <td>8</td>\n",
       "      <td>up</td>\n",
       "    </tr>\n",
       "    <tr>\n",
       "      <th>996</th>\n",
       "      <td>6</td>\n",
       "      <td>forward</td>\n",
       "    </tr>\n",
       "    <tr>\n",
       "      <th>997</th>\n",
       "      <td>9</td>\n",
       "      <td>down</td>\n",
       "    </tr>\n",
       "    <tr>\n",
       "      <th>998</th>\n",
       "      <td>2</td>\n",
       "      <td>forward</td>\n",
       "    </tr>\n",
       "    <tr>\n",
       "      <th>999</th>\n",
       "      <td>6</td>\n",
       "      <td>forward</td>\n",
       "    </tr>\n",
       "  </tbody>\n",
       "</table>\n",
       "<p>1000 rows × 2 columns</p>\n",
       "</div>"
      ],
      "text/plain": [
       "     X direction\n",
       "0    9   forward\n",
       "1    9   forward\n",
       "2    3   forward\n",
       "3    2      down\n",
       "4    8   forward\n",
       "..  ..       ...\n",
       "995  8        up\n",
       "996  6   forward\n",
       "997  9      down\n",
       "998  2   forward\n",
       "999  6   forward\n",
       "\n",
       "[1000 rows x 2 columns]"
      ]
     },
     "execution_count": 159,
     "metadata": {},
     "output_type": "execute_result"
    }
   ],
   "source": [
    "data[['direction', 'X']] = data.X.str.split(' ', 1, expand=True)\n",
    "data.X = pd.to_numeric(data.X)\n",
    "data"
   ]
  },
  {
   "cell_type": "markdown",
   "metadata": {},
   "source": [
    "## Part 1"
   ]
  },
  {
   "cell_type": "code",
   "execution_count": 147,
   "metadata": {},
   "outputs": [
    {
     "name": "stdout",
     "output_type": "stream",
     "text": [
      "1989265\n"
     ]
    }
   ],
   "source": [
    "#Counting different directions\n",
    "forward = data.loc[data['direction'] == \"forward\"].X.sum()\n",
    "down = data.loc[data['direction'] == \"down\"].X.sum()\n",
    "up = data.loc[data['direction'] == \"up\"].X.sum()\n",
    "\n",
    "#by question definition of depth\n",
    "depth = down - up\n",
    "\n",
    "#Answer is depth times forward\n",
    "answer = depth * forward\n",
    "print(answer)"
   ]
  },
  {
   "cell_type": "markdown",
   "metadata": {},
   "source": [
    "## Part 2"
   ]
  },
  {
   "cell_type": "code",
   "execution_count": 172,
   "metadata": {},
   "outputs": [],
   "source": [
    "aim = 0\n",
    "horizontal = 0\n",
    "depth = 0"
   ]
  },
  {
   "cell_type": "code",
   "execution_count": 181,
   "metadata": {},
   "outputs": [
    {
     "name": "stdout",
     "output_type": "stream",
     "text": [
      "2089174012\n"
     ]
    }
   ],
   "source": [
    "for i in range(0,len(data)):\n",
    "    \n",
    "    if data.loc[i,\"direction\"] == \"down\":\n",
    "        aim += data.loc[i,\"X\"]\n",
    "    if data.loc[i,\"direction\"] == \"up\":\n",
    "        aim -= data.loc[i,\"X\"]\n",
    "    if data.loc[i,\"direction\"] == \"forward\": \n",
    "        horizontal += data.loc[i,\"X\"]\n",
    "        depth += aim * data.loc[i,\"X\"]\n",
    "\n",
    "print(horizontal*depth)"
   ]
  }
 ],
 "metadata": {
  "kernelspec": {
   "display_name": "Prisoids-Academy",
   "language": "python",
   "name": "venv"
  },
  "language_info": {
   "codemirror_mode": {
    "name": "ipython",
    "version": 3
   },
   "file_extension": ".py",
   "mimetype": "text/x-python",
   "name": "python",
   "nbconvert_exporter": "python",
   "pygments_lexer": "ipython3",
   "version": "3.7.1"
  }
 },
 "nbformat": 4,
 "nbformat_minor": 4
}
