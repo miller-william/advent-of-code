{
 "cells": [
  {
   "cell_type": "code",
   "execution_count": 44,
   "metadata": {},
   "outputs": [
    {
     "name": "stdout",
     "output_type": "stream",
     "text": [
      "          X\n",
      "0       137\n",
      "1       138\n",
      "2       139\n",
      "3       140\n",
      "4       143\n",
      "...     ...\n",
      "1995  10139\n",
      "1996  10179\n",
      "1997  10180\n",
      "1998  10182\n",
      "1999  10194\n",
      "\n",
      "[2000 rows x 1 columns]\n"
     ]
    }
   ],
   "source": [
    "import pandas as pd\n",
    "import math\n",
    "#read in and clean data\n",
    "data = pd.read_csv('day-1-input.csv', header=None)\n",
    "data = data.rename(columns={0: \"X\"})\n",
    "print(data)"
   ]
  },
  {
   "cell_type": "markdown",
   "metadata": {},
   "source": [
    "## Part 1"
   ]
  },
  {
   "cell_type": "code",
   "execution_count": 43,
   "metadata": {},
   "outputs": [
    {
     "name": "stdout",
     "output_type": "stream",
     "text": [
      "1711\n"
     ]
    }
   ],
   "source": [
    "count=0\n",
    "\n",
    "for i in range(0,len(data)-1):\n",
    "    if data.at[i+1,\"X\"] > data.at[i,\"X\"]:\n",
    "        count += 1\n",
    "        \n",
    "print(count)"
   ]
  },
  {
   "cell_type": "markdown",
   "metadata": {},
   "source": [
    "## Part 2"
   ]
  },
  {
   "cell_type": "code",
   "execution_count": 62,
   "metadata": {},
   "outputs": [
    {
     "name": "stdout",
     "output_type": "stream",
     "text": [
      "1743\n"
     ]
    }
   ],
   "source": [
    "count = -1 #Not 0 because we don't want to count the first case where we don't have a previous sum to compare\n",
    "old_sum = 0\n",
    "\n",
    "#number in rolling sum\n",
    "n=3\n",
    "#full cases of 3 rows\n",
    "cases = n * math.floor(len(data)/n)\n",
    "\n",
    "for i in range(0,cases):\n",
    "    new_sum = (data.iloc[i:(i+n), 0]).sum() \n",
    "    if new_sum > old_sum:\n",
    "        count += 1\n",
    "    old_sum = new_sum\n",
    "\n",
    "print(count)"
   ]
  }
 ],
 "metadata": {
  "kernelspec": {
   "display_name": "Prisoids-Academy",
   "language": "python",
   "name": "venv"
  },
  "language_info": {
   "codemirror_mode": {
    "name": "ipython",
    "version": 3
   },
   "file_extension": ".py",
   "mimetype": "text/x-python",
   "name": "python",
   "nbconvert_exporter": "python",
   "pygments_lexer": "ipython3",
   "version": "3.7.1"
  }
 },
 "nbformat": 4,
 "nbformat_minor": 4
}
