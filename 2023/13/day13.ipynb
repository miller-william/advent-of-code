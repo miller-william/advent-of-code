{
 "cells": [
  {
   "cell_type": "markdown",
   "metadata": {},
   "source": [
    "# Day 13"
   ]
  },
  {
   "cell_type": "code",
   "execution_count": 439,
   "metadata": {},
   "outputs": [],
   "source": [
    "ex1 = \"\"\"#.##..##.\n",
    "..#.##.#.\n",
    "##......#\n",
    "##......#\n",
    "..#.##.#.\n",
    "..##..##.\n",
    "#.#.##.#.\n",
    "\n",
    "#...##..#\n",
    "#....#..#\n",
    "..##..###\n",
    "#####.##.\n",
    "#####.##.\n",
    "..##..###\n",
    "#....#..#\"\"\""
   ]
  },
  {
   "cell_type": "code",
   "execution_count": 440,
   "metadata": {},
   "outputs": [],
   "source": [
    "d = open('day13.txt').read()"
   ]
  },
  {
   "cell_type": "code",
   "execution_count": 441,
   "metadata": {},
   "outputs": [
    {
     "data": {
      "text/plain": [
       "[['#.##..##.',\n",
       "  '..#.##.#.',\n",
       "  '##......#',\n",
       "  '##......#',\n",
       "  '..#.##.#.',\n",
       "  '..##..##.',\n",
       "  '#.#.##.#.'],\n",
       " ['#...##..#',\n",
       "  '#....#..#',\n",
       "  '..##..###',\n",
       "  '#####.##.',\n",
       "  '#####.##.',\n",
       "  '..##..###',\n",
       "  '#....#..#']]"
      ]
     },
     "execution_count": 441,
     "metadata": {},
     "output_type": "execute_result"
    }
   ],
   "source": [
    "def process_data(inp):\n",
    "    return [x.splitlines() for x in inp.split('\\n\\n')]\n",
    "\n",
    "process_data(ex1)"
   ]
  },
  {
   "cell_type": "code",
   "execution_count": 442,
   "metadata": {},
   "outputs": [],
   "source": [
    "def columns_match(pattern, index1, index2):\n",
    "    row = 0\n",
    "    while row < len(pattern):\n",
    "        if pattern[row][index1] != pattern[row][index2]:\n",
    "            return False\n",
    "        row += 1\n",
    "    return True\n",
    "\n",
    "def rows_match(pattern, index1,index2):\n",
    "    col = 0\n",
    "    while col < len(pattern[0]) :\n",
    "        if pattern[index1][col] != pattern[index2][col]:\n",
    "            return False\n",
    "        col += 1\n",
    "    return True  "
   ]
  },
  {
   "cell_type": "code",
   "execution_count": 443,
   "metadata": {},
   "outputs": [],
   "source": [
    "def col_mirror(pattern, col):\n",
    "    #print(col)\n",
    "\n",
    "    max_col = len(pattern[0]) - 1 # max col index\n",
    "    \n",
    "    if col == max_col: # base case - we've reached the end of the columns and no matches\n",
    "        return 0\n",
    "\n",
    "    #check col and adjacent col first\n",
    "    left_col = col\n",
    "    right_col = col + 1\n",
    "    while (left_col > -1) and (right_col < (max_col + 1)):\n",
    "        #print(f'left:{left_col}')\n",
    "        #print(f'right:{right_col}')\n",
    "        if columns_match(pattern, left_col, right_col): # if the first one matches do iterative match checks\n",
    "            #print(f'col-match: {left_col},{right_col}')\n",
    "            if left_col == 0: # reflection between 0 and 1 or last col - no further checks requires\n",
    "                return col+1 # number of cols to left of reflection\n",
    "                    \n",
    "            if right_col == (max_col): # reflection in last column\n",
    "                    return col+1 # number of cols to left of reflection\n",
    "            # need to check outer columns\n",
    "            left_col -= 1\n",
    "            right_col += 1 \n",
    "        else:\n",
    "             #print('no match')\n",
    "             break    \n",
    "    #print('recursion')\n",
    "    return col_mirror(pattern, col+1)"
   ]
  },
  {
   "cell_type": "code",
   "execution_count": 444,
   "metadata": {},
   "outputs": [],
   "source": [
    "def row_mirror(pattern, row):\n",
    "    #print(row)\n",
    "    max_row = len(pattern) - 1 # max row index\n",
    "    \n",
    "    if row == max_row: # base case - we've reached the end of the rows and no matches\n",
    "        return 0\n",
    "\n",
    "    #check col and adjacent col first\n",
    "    top_row = row\n",
    "    bottom_row = row + 1\n",
    "    while (top_row > -1) and (bottom_row < (max_row + 1)):\n",
    "        #print(f'left:{left_col}')\n",
    "        #print(f'right:{right_col}')\n",
    "        if rows_match(pattern, top_row, bottom_row): # if the first one matches do iterative match checks\n",
    "            #print(f'col-match: {left_col},{right_col}')\n",
    "            if top_row == 0: # reflection between 0 and 1 or last col - no further checks requires\n",
    "                return 100*(row+1) # number of cols to left of reflection\n",
    "                    \n",
    "            if bottom_row == (max_row): # reflection in last column\n",
    "                    return 100*(row+1) # number of cols to left of reflection\n",
    "            # need to check outer columns\n",
    "            top_row -= 1\n",
    "            bottom_row += 1 \n",
    "        else:\n",
    "             #print('no match')\n",
    "             break    \n",
    "    #print('recursion')\n",
    "    return row_mirror(pattern, row+1)"
   ]
  },
  {
   "cell_type": "code",
   "execution_count": 445,
   "metadata": {},
   "outputs": [],
   "source": [
    "def p1(inp):\n",
    "    ans = 0\n",
    "    for p in process_data(inp):\n",
    "        ans = ans + row_mirror(p,0)\n",
    "        ans = ans + col_mirror(p,0)\n",
    "    return ans"
   ]
  },
  {
   "cell_type": "code",
   "execution_count": 446,
   "metadata": {},
   "outputs": [
    {
     "data": {
      "text/plain": [
       "405"
      ]
     },
     "execution_count": 446,
     "metadata": {},
     "output_type": "execute_result"
    }
   ],
   "source": [
    "p1(ex1)"
   ]
  },
  {
   "cell_type": "code",
   "execution_count": 447,
   "metadata": {},
   "outputs": [
    {
     "data": {
      "text/plain": [
       "32723"
      ]
     },
     "execution_count": 447,
     "metadata": {},
     "output_type": "execute_result"
    }
   ],
   "source": [
    "p1(d)"
   ]
  },
  {
   "cell_type": "markdown",
   "metadata": {},
   "source": [
    "# Part 2\n",
    "\n",
    "Want to find cases would match but for exactly one character being different."
   ]
  },
  {
   "cell_type": "code",
   "execution_count": 448,
   "metadata": {},
   "outputs": [],
   "source": [
    "#return boolean list of whether each matches\n",
    "\n",
    "def columns_match_p2(pattern, index1, index2):\n",
    "    return [[x==y] for x,y in zip([s[index1] for s in pattern],[s[index2] for s in pattern])].count([False])\n",
    "\n",
    "\n",
    "def rows_match_p2(pattern, index1, index2):\n",
    "    return [[x==y] for x,y in zip(pattern[index1],pattern[index2])].count([False])"
   ]
  },
  {
   "cell_type": "code",
   "execution_count": 449,
   "metadata": {},
   "outputs": [],
   "source": [
    "def col_mirror_p2(pattern, col, smudge_count):\n",
    "    #print(col)\n",
    "\n",
    "    max_col = len(pattern[0]) - 1 # max col index\n",
    "    \n",
    "    if col == max_col: # base case - we've reached the end of the columns and no matches\n",
    "        return 0\n",
    "\n",
    "    #check col and adjacent col first\n",
    "    left_col = col\n",
    "    right_col = col + 1\n",
    "    while (left_col > -1) and (right_col < (max_col + 1)) and smudge_count < 2:\n",
    "        \n",
    "        smudge_count = smudge_count + columns_match_p2(pattern, left_col, right_col)\n",
    "\n",
    "        if smudge_count > 1: # too many errors to get a match\n",
    "             break\n",
    "\n",
    "        if left_col == 0: # reflection between 0 and 1 or last col - no further checks requires\n",
    "            if smudge_count == 1: # we have exactly one error\n",
    "                 return col+1 # number of cols to left of reflection\n",
    "            break # we're at the end and we don't have a valid match\n",
    "                    \n",
    "        if right_col == (max_col): # reflection in last column\n",
    "            if smudge_count == 1:\n",
    "                return col+1 # number of cols to left of reflection\n",
    "            break \n",
    "\n",
    "        # need to check outer columns\n",
    "        left_col -= 1\n",
    "        right_col += 1 \n",
    "    \n",
    "    #take smudge count forward to the next column check\n",
    "    return col_mirror_p2(pattern, col+1, 0)"
   ]
  },
  {
   "cell_type": "code",
   "execution_count": 450,
   "metadata": {},
   "outputs": [],
   "source": [
    "def row_mirror_p2(pattern, row, smudge_count):\n",
    "    #print(row)\n",
    "\n",
    "    max_row = len(pattern) - 1 # max row index\n",
    "    \n",
    "    if row == max_row: # base case - we've reached the end of the rows and no matches\n",
    "        return 0\n",
    "\n",
    "    #check row and adjacent row first\n",
    "    top_row = row\n",
    "    bottom_row = row + 1\n",
    "    while (top_row > -1) and (bottom_row < (max_row + 1)) and smudge_count < 2:\n",
    "        #print(f'top row: {top_row}')\n",
    "        #print(f'bottom row: {bottom_row}')\n",
    "        smudge_count = smudge_count + rows_match_p2(pattern, top_row, bottom_row)\n",
    "\n",
    "        if smudge_count > 1: # too many errors to get a match\n",
    "             break\n",
    "\n",
    "        if top_row == 0: # reflection between 0 and 1 or last row - no further checks requires\n",
    "            if smudge_count == 1: # we have exactly one error\n",
    "                 return 100 * (row+1) # number of cols to left of reflection\n",
    "            break # we're at the end and we don't have a valid match\n",
    "                    \n",
    "        if bottom_row == (max_row): # reflection in last row\n",
    "            if smudge_count == 1:\n",
    "                return 100 * (row+1) # number of rows to left of reflection\n",
    "            break \n",
    "\n",
    "        # need to check outer columns\n",
    "        top_row -= 1\n",
    "        bottom_row += 1 \n",
    "    \n",
    "    #take smudge count forward to the next column check\n",
    "    return row_mirror_p2(pattern, row+1, 0)"
   ]
  },
  {
   "cell_type": "code",
   "execution_count": 451,
   "metadata": {},
   "outputs": [],
   "source": [
    "def p2(inp):\n",
    "    ans = 0\n",
    "    for p in process_data(inp):\n",
    "        ans = ans + row_mirror_p2(p,0,0) \n",
    "        ans = ans + col_mirror_p2(p,0,0)\n",
    "    return ans"
   ]
  },
  {
   "cell_type": "code",
   "execution_count": 452,
   "metadata": {},
   "outputs": [
    {
     "data": {
      "text/plain": [
       "400"
      ]
     },
     "execution_count": 452,
     "metadata": {},
     "output_type": "execute_result"
    }
   ],
   "source": [
    "p2(ex1)"
   ]
  },
  {
   "cell_type": "code",
   "execution_count": 453,
   "metadata": {},
   "outputs": [
    {
     "data": {
      "text/plain": [
       "34536"
      ]
     },
     "execution_count": 453,
     "metadata": {},
     "output_type": "execute_result"
    }
   ],
   "source": [
    "p2(d)"
   ]
  }
 ],
 "metadata": {
  "kernelspec": {
   "display_name": "Python 3",
   "language": "python",
   "name": "python3"
  },
  "language_info": {
   "codemirror_mode": {
    "name": "ipython",
    "version": 3
   },
   "file_extension": ".py",
   "mimetype": "text/x-python",
   "name": "python",
   "nbconvert_exporter": "python",
   "pygments_lexer": "ipython3",
   "version": "3.9.6"
  }
 },
 "nbformat": 4,
 "nbformat_minor": 2
}
