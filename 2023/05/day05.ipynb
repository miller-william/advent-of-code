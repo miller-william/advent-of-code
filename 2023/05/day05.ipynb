{
 "cells": [
  {
   "cell_type": "markdown",
   "metadata": {},
   "source": [
    "# Day 5"
   ]
  },
  {
   "cell_type": "code",
   "execution_count": 1,
   "metadata": {},
   "outputs": [],
   "source": [
    "ex1 = \"\"\"seeds: 79 14 55 13\n",
    "\n",
    "seed-to-soil map:\n",
    "50 98 2\n",
    "52 50 48\n",
    "\n",
    "soil-to-fertilizer map:\n",
    "0 15 37\n",
    "37 52 2\n",
    "39 0 15\n",
    "\n",
    "fertilizer-to-water map:\n",
    "49 53 8\n",
    "0 11 42\n",
    "42 0 7\n",
    "57 7 4\n",
    "\n",
    "water-to-light map:\n",
    "88 18 7\n",
    "18 25 70\n",
    "\n",
    "light-to-temperature map:\n",
    "45 77 23\n",
    "81 45 19\n",
    "68 64 13\n",
    "\n",
    "temperature-to-humidity map:\n",
    "0 69 1\n",
    "1 0 69\n",
    "\n",
    "humidity-to-location map:\n",
    "60 56 37\n",
    "56 93 4\"\"\""
   ]
  },
  {
   "cell_type": "code",
   "execution_count": 19,
   "metadata": {},
   "outputs": [],
   "source": [
    "#data\n",
    "d = open('day05.txt').read()"
   ]
  },
  {
   "cell_type": "code",
   "execution_count": 2,
   "metadata": {},
   "outputs": [],
   "source": [
    "def process_data(inp):\n",
    "    clean = [b.strip().splitlines() for a,b in [x.split(\":\") for x in inp.split(\"\\n\\n\")]]\n",
    "    seeds = [int(i) for i in [x.split(\" \") for x in clean[0]][0]]\n",
    "    maps = []\n",
    "    for i in range(1,len(clean)):\n",
    "        submap = []\n",
    "        for m in clean[i]:\n",
    "            submap.append([int(i) for i in m.split(\" \")])\n",
    "        maps.append(submap)\n",
    "\n",
    "    return seeds, maps\n"
   ]
  },
  {
   "cell_type": "code",
   "execution_count": 3,
   "metadata": {},
   "outputs": [],
   "source": [
    "def mapper(seed_in, maps):\n",
    "    for m in maps:\n",
    "        map_min = m[1] # source\n",
    "        map_max = m[1] + m[2] # source + range\n",
    "\n",
    "        if seed_in <= map_max and seed_in >= map_min: #if it's within the source range\n",
    "            diff = seed_in - map_min # calculate difference between source and destination\n",
    "            return  m[0] + diff # destination plus offset\n",
    "    return seed_in"
   ]
  },
  {
   "cell_type": "code",
   "execution_count": 4,
   "metadata": {},
   "outputs": [],
   "source": [
    "def p1(inp):\n",
    "\n",
    "    seeds, maps = process_data(inp)\n",
    "\n",
    "    best_location = None\n",
    "\n",
    "    for s in seeds: #for each seed \n",
    "        for current_map in maps: # map through\n",
    "            s = mapper(s,current_map)\n",
    "            \n",
    "        if best_location is None or s < best_location:\n",
    "            best_location = s\n",
    "    return best_location"
   ]
  },
  {
   "cell_type": "code",
   "execution_count": 20,
   "metadata": {},
   "outputs": [
    {
     "data": {
      "text/plain": [
       "35"
      ]
     },
     "execution_count": 20,
     "metadata": {},
     "output_type": "execute_result"
    }
   ],
   "source": [
    "p1(ex1)"
   ]
  },
  {
   "cell_type": "code",
   "execution_count": 21,
   "metadata": {},
   "outputs": [
    {
     "data": {
      "text/plain": [
       "388071289"
      ]
     },
     "execution_count": 21,
     "metadata": {},
     "output_type": "execute_result"
    }
   ],
   "source": [
    "p1(d)"
   ]
  },
  {
   "cell_type": "markdown",
   "metadata": {},
   "source": [
    "## Part 2\n",
    "\n",
    "Going to need to do something different to avoid bruteforcing ~100,000,000+ seeds.\n",
    "\n",
    "Can we process ranges of seeds rather than individual seeds? \n",
    "\n",
    "Use list of ranges [min_seed,max_seed +1]"
   ]
  },
  {
   "cell_type": "code",
   "execution_count": 9,
   "metadata": {},
   "outputs": [],
   "source": [
    "#seeds, maps = process_data(ex1)\n",
    "seeds, maps = process_data(open('day05.txt').read())\n"
   ]
  },
  {
   "cell_type": "code",
   "execution_count": 14,
   "metadata": {},
   "outputs": [],
   "source": [
    "# turn seeds data into a list of seed_ranges like [min_seed, max_seed + 1]\n",
    "def get_seed_ranges(seeds):\n",
    "    seed_range = []\n",
    "    for i in range(0,int(len(seeds)/2)):\n",
    "        i = i * 2\n",
    "        seed_range.append([seeds[i],seeds[i]+(seeds[i+1])])\n",
    "    return seed_range"
   ]
  },
  {
   "cell_type": "code",
   "execution_count": 15,
   "metadata": {},
   "outputs": [],
   "source": [
    "# check whether to ranges in the format [min, max+1], if they overlap, return the overlap range. else return None\n",
    "def overlap_range(x, y):\n",
    "    try:\n",
    "        # Check for no overlap\n",
    "        if max(x[0], y[0]) >= min(x[-1], y[-1]):\n",
    "            return None\n",
    "        \n",
    "        if x[0] == x[1] or y[0] == y[1]:\n",
    "            return None\n",
    "\n",
    "        # Calculate overlap\n",
    "        return [max(x[0], y[0]), min(x[-1], y[-1]) ]\n",
    "    except Exception as e:\n",
    "        print(f\"An error occurred with inputs x: {x}, y: {y}. Error: {e}\")\n",
    "        raise  # Re-raise the exception\n"
   ]
  },
  {
   "cell_type": "code",
   "execution_count": 16,
   "metadata": {},
   "outputs": [],
   "source": [
    "def mapper_range(seed_ranges, current_map):\n",
    "# take in a seed range, output mapped ranges\n",
    "    output = [] # list of output ranges\n",
    "\n",
    "    for s in seed_ranges:\n",
    "        process_seeds = [s] #seed range to be processed against each map\n",
    "        \n",
    "        for m in current_map: # need to iterate through each map\n",
    "\n",
    "                range_m = [m[1],m[1]+m[2]] #the map represented as a range\n",
    "                shift = m[0] - m[1] # shift amount\n",
    "\n",
    "                carry_forward = [] # store ranges that need to be processed in the next map\n",
    "\n",
    "                for sub_range in process_seeds: # we might have before and afters from a previous mapping to check\n",
    "                    overlap = overlap_range(sub_range,range_m) # the bit of the source range that needs to be mapped\n",
    "\n",
    "                    if overlap: #if there's an overlap, add the mapped range to the output\n",
    "                        mapped_overlap = [min(overlap) + shift , max(overlap) + shift] # new mapped range\n",
    "                        output.append(mapped_overlap) # this is definitely in our output\n",
    "                        if sub_range[0] < min(overlap):\n",
    "                            carry_forward.append([sub_range[0],min(overlap)]) # range before, still to be checked against other maps\n",
    "                        if max(overlap) < max(sub_range):\n",
    "                            carry_forward.append([max(overlap),max(sub_range)]) # range after, still to be checked against other maps\n",
    "                    \n",
    "                    else: #no overlaps, we need to carry forward the whole sub_range to the next map\n",
    "                        carry_forward.append(sub_range)\n",
    "\n",
    "                # these need to be processed by the next map\n",
    "                process_seeds = carry_forward\n",
    "\n",
    "        #at the end of all the mapping passes, any unprocessed contents of s just map as they are\n",
    "        for element in process_seeds:\n",
    "            output.append(element)\n",
    "\n",
    "    return output"
   ]
  },
  {
   "cell_type": "code",
   "execution_count": 17,
   "metadata": {},
   "outputs": [],
   "source": [
    "def p2(inp):\n",
    "    seeds, maps = process_data(inp)\n",
    "    seed_range = get_seed_ranges(seeds)\n",
    "\n",
    "    for current_map in maps:\n",
    "        seed_range = mapper_range(seed_range, current_map)\n",
    "    \n",
    "    return min(min(x) for x in seed_range if x)"
   ]
  },
  {
   "cell_type": "code",
   "execution_count": 23,
   "metadata": {},
   "outputs": [
    {
     "data": {
      "text/plain": [
       "46"
      ]
     },
     "execution_count": 23,
     "metadata": {},
     "output_type": "execute_result"
    }
   ],
   "source": [
    "p2(ex1)"
   ]
  },
  {
   "cell_type": "code",
   "execution_count": 22,
   "metadata": {},
   "outputs": [
    {
     "data": {
      "text/plain": [
       "84206669"
      ]
     },
     "execution_count": 22,
     "metadata": {},
     "output_type": "execute_result"
    }
   ],
   "source": [
    "# part 2 answer\n",
    "p2(d)"
   ]
  }
 ],
 "metadata": {
  "kernelspec": {
   "display_name": "Python 3",
   "language": "python",
   "name": "python3"
  },
  "language_info": {
   "codemirror_mode": {
    "name": "ipython",
    "version": 3
   },
   "file_extension": ".py",
   "mimetype": "text/x-python",
   "name": "python",
   "nbconvert_exporter": "python",
   "pygments_lexer": "ipython3",
   "version": "3.9.6"
  }
 },
 "nbformat": 4,
 "nbformat_minor": 2
}
