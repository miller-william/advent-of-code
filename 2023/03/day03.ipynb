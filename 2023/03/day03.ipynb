{
 "cells": [
  {
   "cell_type": "markdown",
   "metadata": {},
   "source": [
    "# Day 3"
   ]
  },
  {
   "cell_type": "code",
   "execution_count": 153,
   "metadata": {},
   "outputs": [],
   "source": [
    "ex1 = \"\"\"467..114..\n",
    "...*......\n",
    "..35..633.\n",
    "......#...\n",
    "617*......\n",
    ".....+.58.\n",
    "..592.....\n",
    "......755.\n",
    "...$.*....\n",
    ".664.598..\"\"\""
   ]
  },
  {
   "cell_type": "code",
   "execution_count": 173,
   "metadata": {},
   "outputs": [],
   "source": [
    "#grid = ex1.splitlines()\n",
    "grid = open('day03.txt').read().splitlines()"
   ]
  },
  {
   "cell_type": "code",
   "execution_count": 155,
   "metadata": {},
   "outputs": [],
   "source": [
    "# iterate through the string and find the symbols\n",
    "# find all numbers diagonal to the symbol\n",
    "# replace any number that's already been counted with a '.'"
   ]
  },
  {
   "cell_type": "code",
   "execution_count": 156,
   "metadata": {},
   "outputs": [],
   "source": [
    "# given a position on our grid which contains a digit, return the total value of the complete number and a modified grid which has that complete number replaced with '.'\n",
    "\n",
    "def process_number(row, col, grid):\n",
    "    num = []\n",
    "    #find start of number\n",
    "    first = col\n",
    "    while first > 0:\n",
    "        if grid[row][first-1].isnumeric():\n",
    "            first = first - 1\n",
    "        else:\n",
    "            break\n",
    "\n",
    "    #start of number\n",
    "    num.append(grid[row][first]) #append first number\n",
    "\n",
    "    # Rebuild the string with the desired modification\n",
    "    modified_string = grid[row][:first] + \".\" + grid[row][first+1:]\n",
    "    # Replace the original string with the modified one\n",
    "    grid[row] = modified_string   \n",
    "\n",
    "    pos = first + 1\n",
    "\n",
    "    while pos < len(grid[0]): #don't go off the right\n",
    "        if grid[row][pos].isnumeric():\n",
    "            num.append(grid[row][pos])\n",
    "            # Rebuild the string with the desired modification\n",
    "            modified_string = grid[row][:pos] + \".\" + grid[row][pos+1:]\n",
    "            # Replace the original string with the modified one\n",
    "            grid[row] = modified_string   \n",
    "            pos = pos + 1\n",
    "        else: # if it's not numeric we're at the end of the number\n",
    "            break \n",
    "    #print(f'adding: {int(\"\".join(num))}')\n",
    "\n",
    "    return grid, int(\"\".join(num))\n"
   ]
  },
  {
   "cell_type": "code",
   "execution_count": 157,
   "metadata": {},
   "outputs": [],
   "source": [
    "# given a position on a grid (which we know contains a symbol) check each adjacent position and process the digit using `process_number`. \n",
    "# return the fully modified grid and the total added\n",
    "\n",
    "def process_adj(row, col, grid):\n",
    "    total = 0\n",
    "    #left\n",
    "    if col > 0:\n",
    "        if grid[row][col - 1].isnumeric():\n",
    "            grid, to_add = process_number(row, col-1, grid)\n",
    "            total = total + to_add\n",
    "\n",
    "    #right\n",
    "    if col < len(grid[0]) - 1:\n",
    "        if grid[row][col+1].isnumeric():\n",
    "            grid, to_add = process_number(row, col+1, grid)\n",
    "            total = total + to_add    \n",
    "\n",
    "    #up \n",
    "    if row > 0:\n",
    "        if grid[row-1][col].isnumeric():\n",
    "            grid, to_add = process_number(row-1, col, grid)\n",
    "            total = total + to_add \n",
    "\n",
    "    #down\n",
    "    if row < len(grid) - 1 :\n",
    "        if grid[row][col+1].isnumeric():\n",
    "            grid, to_add = process_number(row, col+1, grid)\n",
    "            total = total + to_add   \n",
    "\n",
    "    #diagonal left - up\n",
    "    if (col > 0) and (row > 0):\n",
    "        if grid[row-1][col-1].isnumeric():\n",
    "            grid, to_add = process_number(row-1, col-1, grid)\n",
    "            total = total + to_add             \n",
    "\n",
    "    #diagonal right - up\n",
    "    if (col < len(grid[0]) - 1) and (row > 0):\n",
    "        if grid[row-1][col+1].isnumeric():\n",
    "            grid, to_add = process_number(row-1, col+1, grid)\n",
    "            total = total + to_add \n",
    "\n",
    "    #diagonal left - down\n",
    "    if (col > 0) and (row < len(grid) - 1):\n",
    "        if grid[row+1][col-1].isnumeric():\n",
    "            grid, to_add = process_number(row+1, col-1, grid)\n",
    "            total = total + to_add \n",
    "\n",
    "    #diagonal right - down\n",
    "    if (col < len(grid[0]) - 1) and row < len(grid) - 1:\n",
    "        if grid[row+1][col+1].isnumeric():\n",
    "            grid, to_add = process_number(row+1, col+1, grid)\n",
    "            total = total + to_add\n",
    "\n",
    "    return total, grid\n"
   ]
  },
  {
   "cell_type": "code",
   "execution_count": 158,
   "metadata": {},
   "outputs": [],
   "source": [
    "# loop through each position in the grid looking for symbols and processing using the two functions defined above.\n",
    "\n",
    "total = 0\n",
    "for row in range(0,len(grid)):\n",
    "    for col in range(0,len(grid[0])):\n",
    "        current = grid[row][col]\n",
    "        if current != '.' and current.isnumeric() == False: # if it's a symbol\n",
    "            # process adjacents\n",
    "            symbol_total, grid = process_adj(row, col, grid)\n",
    "            total = total + symbol_total"
   ]
  },
  {
   "cell_type": "code",
   "execution_count": 159,
   "metadata": {},
   "outputs": [
    {
     "data": {
      "text/plain": [
       "540025"
      ]
     },
     "execution_count": 159,
     "metadata": {},
     "output_type": "execute_result"
    }
   ],
   "source": [
    "# p1 answer\n",
    "total"
   ]
  },
  {
   "cell_type": "markdown",
   "metadata": {},
   "source": [
    "## Part 2\n",
    "Need to modify my process_adj function from part 1 :) "
   ]
  },
  {
   "cell_type": "code",
   "execution_count": 169,
   "metadata": {},
   "outputs": [],
   "source": [
    "# given a position on a grid (which we know contains a GEAr) check each adjacent position and process the digit using `process_number`. \n",
    "# return the fully modified grid and the multiplication where there is exactly 2 numbers joining a gear\n",
    "\n",
    "def process_adj(row, col, grid):\n",
    "    gear_numbers = []\n",
    "    #left\n",
    "    if col > 0:\n",
    "        if grid[row][col - 1].isnumeric():\n",
    "            grid_na, to_add = process_number(row, col-1, grid) #we don't need to overwrite the numbers with '.' hence the grid_na\n",
    "            gear_numbers.append(to_add)\n",
    "\n",
    "    #right\n",
    "    if col < len(grid[0]) - 1:\n",
    "        if grid[row][col+1].isnumeric():\n",
    "            grid_na, to_add = process_number(row, col+1, grid)\n",
    "            gear_numbers.append(to_add)  \n",
    "\n",
    "    #up \n",
    "    if row > 0:\n",
    "        if grid[row-1][col].isnumeric():\n",
    "            grid_na, to_add = process_number(row-1, col, grid)\n",
    "            gear_numbers.append(to_add)\n",
    "\n",
    "    #down\n",
    "    if row < len(grid) - 1 :\n",
    "        if grid[row][col+1].isnumeric():\n",
    "            grid_na, to_add = process_number(row, col+1, grid)\n",
    "            gear_numbers.append(to_add)  \n",
    "\n",
    "    #diagonal left - up\n",
    "    if (col > 0) and (row > 0):\n",
    "        if grid[row-1][col-1].isnumeric():\n",
    "            grid_na, to_add = process_number(row-1, col-1, grid)\n",
    "            gear_numbers.append(to_add)            \n",
    "\n",
    "    #diagonal right - up\n",
    "    if (col < len(grid[0]) - 1) and (row > 0):\n",
    "        if grid[row-1][col+1].isnumeric():\n",
    "            grid_na, to_add = process_number(row-1, col+1, grid)\n",
    "            gear_numbers.append(to_add) \n",
    "\n",
    "    #diagonal left - down\n",
    "    if (col > 0) and (row < len(grid) - 1):\n",
    "        if grid[row+1][col-1].isnumeric():\n",
    "            grid_na, to_add = process_number(row+1, col-1, grid)\n",
    "            gear_numbers.append(to_add) \n",
    "\n",
    "    #diagonal right - down\n",
    "    if (col < len(grid[0]) - 1) and row < len(grid) - 1:\n",
    "        if grid[row+1][col+1].isnumeric():\n",
    "            grid_na, to_add = process_number(row+1, col+1, grid)\n",
    "            gear_numbers.append(to_add)\n",
    "    \n",
    "    if len(gear_numbers) == 2:\n",
    "        return gear_numbers[0] * gear_numbers[1]"
   ]
  },
  {
   "cell_type": "code",
   "execution_count": 170,
   "metadata": {},
   "outputs": [
    {
     "data": {
      "text/plain": [
       "['467..114..',\n",
       " '...*......',\n",
       " '..35..633.',\n",
       " '......#...',\n",
       " '617*......',\n",
       " '.....+.58.',\n",
       " '..592.....',\n",
       " '......755.',\n",
       " '...$.*....',\n",
       " '.664.598..']"
      ]
     },
     "execution_count": 170,
     "metadata": {},
     "output_type": "execute_result"
    }
   ],
   "source": [
    "grid = ex1.splitlines()\n",
    "grid"
   ]
  },
  {
   "cell_type": "code",
   "execution_count": 174,
   "metadata": {},
   "outputs": [],
   "source": [
    "\n",
    "total = 0\n",
    "for row in range(0,len(grid)):\n",
    "    for col in range(0,len(grid[0])):\n",
    "        current = grid[row][col]\n",
    "        if current == '*': # gear!\n",
    "            # process adjacents\n",
    "            gear_total = process_adj(row, col, grid)\n",
    "            if gear_total:\n",
    "                total = total + gear_total"
   ]
  },
  {
   "cell_type": "code",
   "execution_count": 175,
   "metadata": {},
   "outputs": [
    {
     "data": {
      "text/plain": [
       "84584891"
      ]
     },
     "execution_count": 175,
     "metadata": {},
     "output_type": "execute_result"
    }
   ],
   "source": [
    "total"
   ]
  },
  {
   "cell_type": "code",
   "execution_count": null,
   "metadata": {},
   "outputs": [],
   "source": []
  }
 ],
 "metadata": {
  "kernelspec": {
   "display_name": "Python 3",
   "language": "python",
   "name": "python3"
  },
  "language_info": {
   "codemirror_mode": {
    "name": "ipython",
    "version": 3
   },
   "file_extension": ".py",
   "mimetype": "text/x-python",
   "name": "python",
   "nbconvert_exporter": "python",
   "pygments_lexer": "ipython3",
   "version": "3.9.6"
  }
 },
 "nbformat": 4,
 "nbformat_minor": 2
}
