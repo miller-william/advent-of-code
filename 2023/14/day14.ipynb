{
 "cells": [
  {
   "cell_type": "markdown",
   "metadata": {},
   "source": [
    "# Day 14"
   ]
  },
  {
   "cell_type": "code",
   "execution_count": 103,
   "metadata": {},
   "outputs": [],
   "source": [
    "ex1 = \"\"\"O....#....\n",
    "O.OO#....#\n",
    ".....##...\n",
    "OO.#O....O\n",
    ".O.....O#.\n",
    "O.#..O.#.#\n",
    "..O..#O..O\n",
    ".......O..\n",
    "#....###..\n",
    "#OO..#....\"\"\""
   ]
  },
  {
   "cell_type": "code",
   "execution_count": 4,
   "metadata": {},
   "outputs": [],
   "source": [
    "d = open('day14.txt').read()"
   ]
  },
  {
   "cell_type": "code",
   "execution_count": 5,
   "metadata": {},
   "outputs": [],
   "source": [
    "def rock_score(platform):\n",
    "    score = 0 \n",
    "    idx = 0\n",
    "    while idx < len(platform[0]): # increment through columns\n",
    "        idy = 0\n",
    "        current_rock_score = len(platform)\n",
    "\n",
    "        while idy < len(platform): # increment through rows\n",
    "\n",
    "            if platform[idy][idx] == 'O': #rock found\n",
    "                score += current_rock_score\n",
    "                current_rock_score -= 1\n",
    "                idy += 1\n",
    "                \n",
    "            elif platform[idy][idx] == '#': # cube rock found\n",
    "                current_rock_score = len(platform) - idy - 1 # next rock will be scored at one row below current\n",
    "                idy += 1\n",
    "            # we have a '.' so move on\n",
    "            else:\n",
    "                idy += 1\n",
    "        #at end of current column, so move to next column\n",
    "        idx += 1\n",
    "    return score\n"
   ]
  },
  {
   "cell_type": "code",
   "execution_count": 6,
   "metadata": {},
   "outputs": [
    {
     "data": {
      "text/plain": [
       "136"
      ]
     },
     "execution_count": 6,
     "metadata": {},
     "output_type": "execute_result"
    }
   ],
   "source": [
    "rock_score(ex1.splitlines())"
   ]
  },
  {
   "cell_type": "code",
   "execution_count": 7,
   "metadata": {},
   "outputs": [
    {
     "name": "stdout",
     "output_type": "stream",
     "text": [
      "CPU times: user 2 ms, sys: 14 µs, total: 2.01 ms\n",
      "Wall time: 2.04 ms\n"
     ]
    },
    {
     "data": {
      "text/plain": [
       "110274"
      ]
     },
     "execution_count": 7,
     "metadata": {},
     "output_type": "execute_result"
    }
   ],
   "source": [
    "%%time\n",
    "rock_score(d.splitlines())"
   ]
  },
  {
   "cell_type": "markdown",
   "metadata": {},
   "source": [
    "# Part 2"
   ]
  },
  {
   "cell_type": "code",
   "execution_count": 8,
   "metadata": {},
   "outputs": [],
   "source": [
    "#first solution isn't going to work"
   ]
  },
  {
   "cell_type": "code",
   "execution_count": 9,
   "metadata": {},
   "outputs": [],
   "source": [
    "#function to move row/column in string format e.g '...O.#O.#'\n",
    "\n",
    "def tilt(string_input, direction):\n",
    "\n",
    "    if direction == 'e':\n",
    "        while string_input.find('O.') > -1:\n",
    "            string_input = string_input.replace('O.','.O')\n",
    "    \n",
    "    if direction == 'w':\n",
    "         while string_input.find('.O') > -1:\n",
    "            string_input = string_input.replace('.O','O.')\n",
    "\n",
    "    return string_input    "
   ]
  },
  {
   "cell_type": "code",
   "execution_count": 10,
   "metadata": {},
   "outputs": [
    {
     "data": {
      "text/plain": [
       "['O....#....',\n",
       " 'O.OO#....#',\n",
       " '.....##...',\n",
       " 'OO.#O....O',\n",
       " '.O.....O#.',\n",
       " 'O.#..O.#.#',\n",
       " '..O..#O..O',\n",
       " '.......O..',\n",
       " '#....###..',\n",
       " '#OO..#....']"
      ]
     },
     "execution_count": 10,
     "metadata": {},
     "output_type": "execute_result"
    }
   ],
   "source": [
    "inp = ex1.splitlines()\n",
    "inp"
   ]
  },
  {
   "cell_type": "code",
   "execution_count": 11,
   "metadata": {},
   "outputs": [],
   "source": [
    "def cycle(inp):\n",
    "    # tilt north\n",
    "    x=[]\n",
    "    for n in range(0,len(inp)):\n",
    "        x.append(tilt(''.join([x[n] for x in inp]),'w')) # north\n",
    "    x = [\"\".join(i) for i in zip(*x)]\n",
    "\n",
    "    x = [tilt(n,'w') for n in x] # west\n",
    "\n",
    "    # south\n",
    "    y=[]\n",
    "    for n in range(0,len(x)):\n",
    "        y.append(tilt(''.join([a[n] for a in x]),'e')) # south\n",
    "    y = [\"\".join(i) for i in zip(*y)]\n",
    "\n",
    "    x = [tilt(n,'e') for n in y] # east\n",
    "\n",
    "    return x\n"
   ]
  },
  {
   "cell_type": "code",
   "execution_count": 12,
   "metadata": {},
   "outputs": [],
   "source": [
    "def score(grid):\n",
    "    result = 0\n",
    "    rows = len(grid)\n",
    "    for row_num in range(0,rows):\n",
    "        result = result + ((rows - row_num) * grid[row_num].count('O'))\n",
    "    return result"
   ]
  },
  {
   "cell_type": "code",
   "execution_count": 19,
   "metadata": {},
   "outputs": [],
   "source": [
    "def p2(x, num_cycles):\n",
    "    ans = []\n",
    "    for i in range(num_cycles):\n",
    "        x = cycle(x)\n",
    "        ans.append(score(x))\n",
    "    return ans"
   ]
  },
  {
   "cell_type": "code",
   "execution_count": 157,
   "metadata": {},
   "outputs": [],
   "source": [
    "#work backwards to identify cycles\n",
    "def cycle_length(results):\n",
    "    for i in range(1,len(results)):\n",
    "        if results[-1] == results[-1-i]: # if we have a match\n",
    "            if results[-2] == results[-2-i]: #check we have a match with the entry before\n",
    "                if results[-1] == results[-1-(2*i)]: #check the original match repeats twice at least...\n",
    "                    return i\n"
   ]
  },
  {
   "cell_type": "code",
   "execution_count": 162,
   "metadata": {},
   "outputs": [],
   "source": [
    "def p2_ans(inp):\n",
    "    results = p2(inp.splitlines(), 500)\n",
    "    cyc = cycle_length(results)\n",
    "    offset = (1000000000 - 500) % cyc # left over\n",
    "    return results[offset-cyc-1] #start of cycle + offset"
   ]
  },
  {
   "cell_type": "code",
   "execution_count": 163,
   "metadata": {},
   "outputs": [
    {
     "data": {
      "text/plain": [
       "64"
      ]
     },
     "execution_count": 163,
     "metadata": {},
     "output_type": "execute_result"
    }
   ],
   "source": [
    "p2_ans(ex1)"
   ]
  },
  {
   "cell_type": "code",
   "execution_count": 164,
   "metadata": {},
   "outputs": [
    {
     "data": {
      "text/plain": [
       "90982"
      ]
     },
     "execution_count": 164,
     "metadata": {},
     "output_type": "execute_result"
    }
   ],
   "source": [
    "p2_ans(d)"
   ]
  }
 ],
 "metadata": {
  "kernelspec": {
   "display_name": "Python 3",
   "language": "python",
   "name": "python3"
  },
  "language_info": {
   "codemirror_mode": {
    "name": "ipython",
    "version": 3
   },
   "file_extension": ".py",
   "mimetype": "text/x-python",
   "name": "python",
   "nbconvert_exporter": "python",
   "pygments_lexer": "ipython3",
   "version": "3.9.6"
  }
 },
 "nbformat": 4,
 "nbformat_minor": 2
}
