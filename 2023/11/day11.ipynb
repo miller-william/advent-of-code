{
 "cells": [
  {
   "cell_type": "markdown",
   "metadata": {},
   "source": [
    "# Day 11"
   ]
  },
  {
   "cell_type": "code",
   "execution_count": 1,
   "metadata": {},
   "outputs": [],
   "source": [
    "ex1 = \"\"\"...#......\n",
    ".......#..\n",
    "#.........\n",
    "..........\n",
    "......#...\n",
    ".#........\n",
    ".........#\n",
    "..........\n",
    ".......#..\n",
    "#...#.....\"\"\""
   ]
  },
  {
   "cell_type": "code",
   "execution_count": 2,
   "metadata": {},
   "outputs": [],
   "source": [
    "# FIND expansions - return (blank row indexes, blank column indexes)\n",
    "def expand_grid(inp):\n",
    "    br = []\n",
    "    bc = []\n",
    "    #expand rows\n",
    "    n_rows = len(inp)\n",
    "    i = 0\n",
    "    while i < n_rows:\n",
    "        if set(inp[i]) == {'.'}:\n",
    "            br.append(i)\n",
    "        i += 1\n",
    "\n",
    "    n_cols = len(inp[0])\n",
    "    j = 0\n",
    "    # expand columns\n",
    "    while j < n_cols:\n",
    "        if set([x[j] for x in inp]) == {'.'}:\n",
    "            bc.append(j)\n",
    "        j +=1 \n",
    "\n",
    "    return br,bc"
   ]
  },
  {
   "cell_type": "code",
   "execution_count": 4,
   "metadata": {},
   "outputs": [],
   "source": [
    "#create function to calculate Manhattan distance accounting for blanks\n",
    "def manhattan(a, b, blanks, scale):\n",
    "    row_blank = blanks[0]\n",
    "    col_blank = blanks[1]\n",
    "\n",
    "    # how many blanks does x cross?\n",
    "    blank_cross = 0\n",
    "    for i in row_blank:\n",
    "        if i > min(a[0],b[0]) and i < max(a[0],b[0]):\n",
    "            blank_cross += 1\n",
    "\n",
    "    # how many blanks does y cross?\n",
    "    for i in col_blank:\n",
    "        if i > min(a[1],b[1]) and i < max(a[1],b[1]):\n",
    "            blank_cross += 1\n",
    "\n",
    "    blank_cross = blank_cross * scale # for part 2\n",
    "\n",
    "    return sum(abs(val1-val2) for val1, val2 in zip(a,b)) + blank_cross"
   ]
  },
  {
   "cell_type": "code",
   "execution_count": 5,
   "metadata": {},
   "outputs": [],
   "source": [
    "import itertools\n",
    "\n",
    "# Unique Combination Pairs for list of elements\n",
    "def uniqueCombinations(list_elements):\n",
    "    l = list(itertools.combinations(list_elements, 2))\n",
    "    s = set(l)\n",
    "    return list(s)"
   ]
  },
  {
   "cell_type": "code",
   "execution_count": 7,
   "metadata": {},
   "outputs": [],
   "source": [
    "def p1(inp, scale):\n",
    "    galaxy_coords = []\n",
    "    grid = inp.splitlines()\n",
    "    counter = 1\n",
    "    for i in range(len(grid)):\n",
    "        for j in range(len(grid[0])):\n",
    "            if grid[i][j] == '#':\n",
    "                galaxy_coords.append((i,j))\n",
    "    ans = []\n",
    "    for x,compare in uniqueCombinations(galaxy_coords):\n",
    "        distance = manhattan(x,compare, expand_grid(grid), scale)\n",
    "        ans.append(distance)\n",
    "    return sum(ans)"
   ]
  },
  {
   "cell_type": "code",
   "execution_count": 14,
   "metadata": {},
   "outputs": [
    {
     "data": {
      "text/plain": [
       "374"
      ]
     },
     "execution_count": 14,
     "metadata": {},
     "output_type": "execute_result"
    }
   ],
   "source": [
    "p1(ex1,1)"
   ]
  },
  {
   "cell_type": "code",
   "execution_count": 13,
   "metadata": {},
   "outputs": [
    {
     "data": {
      "text/plain": [
       "10276166"
      ]
     },
     "execution_count": 13,
     "metadata": {},
     "output_type": "execute_result"
    }
   ],
   "source": [
    "p1(open('day11.txt').read(), 1)"
   ]
  },
  {
   "cell_type": "code",
   "execution_count": 11,
   "metadata": {},
   "outputs": [
    {
     "data": {
      "text/plain": [
       "8410"
      ]
     },
     "execution_count": 11,
     "metadata": {},
     "output_type": "execute_result"
    }
   ],
   "source": [
    "# Part 2 answers\n",
    "p1(ex1,(100-1))"
   ]
  },
  {
   "cell_type": "code",
   "execution_count": 12,
   "metadata": {},
   "outputs": [
    {
     "data": {
      "text/plain": [
       "598693078798"
      ]
     },
     "execution_count": 12,
     "metadata": {},
     "output_type": "execute_result"
    }
   ],
   "source": [
    "p1(open('day11.txt').read(), (1000000-1))"
   ]
  }
 ],
 "metadata": {
  "kernelspec": {
   "display_name": "Python 3",
   "language": "python",
   "name": "python3"
  },
  "language_info": {
   "codemirror_mode": {
    "name": "ipython",
    "version": 3
   },
   "file_extension": ".py",
   "mimetype": "text/x-python",
   "name": "python",
   "nbconvert_exporter": "python",
   "pygments_lexer": "ipython3",
   "version": "3.9.6"
  }
 },
 "nbformat": 4,
 "nbformat_minor": 2
}
