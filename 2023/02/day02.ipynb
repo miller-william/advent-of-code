{
 "cells": [
  {
   "cell_type": "markdown",
   "metadata": {},
   "source": [
    "# Day 02"
   ]
  },
  {
   "cell_type": "code",
   "execution_count": 59,
   "metadata": {},
   "outputs": [],
   "source": [
    "import numpy as np"
   ]
  },
  {
   "cell_type": "code",
   "execution_count": 4,
   "metadata": {},
   "outputs": [],
   "source": [
    "ex1 = \"\"\"Game 1: 3 blue, 4 red; 1 red, 2 green, 6 blue; 2 green\n",
    "Game 2: 1 blue, 2 green; 3 green, 4 blue, 1 red; 1 green, 1 blue\n",
    "Game 3: 8 green, 6 blue, 20 red; 5 blue, 4 red, 13 green; 5 green, 1 red\n",
    "Game 4: 1 green, 3 red, 6 blue; 3 green, 6 red; 3 green, 15 blue, 14 red\n",
    "Game 5: 6 red, 1 blue, 3 green; 2 blue, 1 red, 2 green\"\"\""
   ]
  },
  {
   "cell_type": "code",
   "execution_count": null,
   "metadata": {},
   "outputs": [],
   "source": [
    "# work out max r, max g, max b for each line\n",
    "# if max > test, fail"
   ]
  },
  {
   "cell_type": "code",
   "execution_count": 85,
   "metadata": {},
   "outputs": [],
   "source": [
    "rtest = 12\n",
    "gtest = 13\n",
    "btest = 14\n",
    "#should have used a dictionary"
   ]
  },
  {
   "cell_type": "code",
   "execution_count": 86,
   "metadata": {},
   "outputs": [],
   "source": [
    "def p1(inp):\n",
    "    results = []\n",
    "    for game in inp.splitlines():\n",
    "        # For each game we record the max ball draw in a dictionary\n",
    "        max_dict = {'r' : 0,\n",
    "                    'g' : 0,\n",
    "                    'b' : 0}\n",
    "        draws_list = game[game.find(\":\")+2:].split(\";\") # fiddly to get a list of draws\n",
    "        for draw in draws_list: # for each 'draw'\n",
    "            balls = [x.strip() for x in draw.split(\",\")] # get list of cleaned balls e.g. '2 green'/'1 red'\n",
    "            for colour in balls: \n",
    "                c = colour.split(\" \")\n",
    "                num = int(c[0])\n",
    "                col = c[1][0]\n",
    "                max_dict[col] = max(num,max_dict[col]) # do we have a new max number for this game and colour of ball\n",
    "        if max_dict['r'] > rtest or max_dict['g'] > gtest or max_dict['b'] > btest: # inefficient - could end loop as soon as one colour is impossible\n",
    "            results.append(0) #impossible\n",
    "        else:\n",
    "            results.append(1)\n",
    "    indexes = list(range(1,1+len(results)))\n",
    "    return np.dot(results,indexes)\n",
    "\n",
    "            "
   ]
  },
  {
   "cell_type": "code",
   "execution_count": 87,
   "metadata": {},
   "outputs": [
    {
     "data": {
      "text/plain": [
       "8"
      ]
     },
     "execution_count": 87,
     "metadata": {},
     "output_type": "execute_result"
    }
   ],
   "source": [
    "p1(ex1)"
   ]
  },
  {
   "cell_type": "code",
   "execution_count": 88,
   "metadata": {},
   "outputs": [
    {
     "data": {
      "text/plain": [
       "3099"
      ]
     },
     "execution_count": 88,
     "metadata": {},
     "output_type": "execute_result"
    }
   ],
   "source": [
    "p1(open('day02.txt').read())"
   ]
  },
  {
   "cell_type": "markdown",
   "metadata": {},
   "source": [
    "## Part 2"
   ]
  },
  {
   "cell_type": "code",
   "execution_count": 81,
   "metadata": {},
   "outputs": [],
   "source": [
    "#modify function to output the max_dicts per game\n",
    "\n",
    "def p2(inp):\n",
    "    results = []\n",
    "    for game in inp.splitlines():\n",
    "        # For each game we record the max ball draw in a dictionary\n",
    "        max_dict = {'r' : 0,\n",
    "                    'g' : 0,\n",
    "                    'b' : 0}\n",
    "        draws_list = game[game.find(\":\")+2:].split(\";\") \n",
    "        for draw in draws_list:\n",
    "            balls = [x.strip() for x in draw.split(\",\")]\n",
    "            for colour in balls:\n",
    "                c = colour.split(\" \")\n",
    "                num = int(c[0])\n",
    "                col = c[1][0]\n",
    "                max_dict[col] = max(num,max_dict[col])\n",
    "        power = 1\n",
    "        for v in max_dict.values():\n",
    "            power = power * v\n",
    "        results.append(power)\n",
    "    \n",
    "    return  sum(results)"
   ]
  },
  {
   "cell_type": "code",
   "execution_count": 82,
   "metadata": {},
   "outputs": [
    {
     "data": {
      "text/plain": [
       "2286"
      ]
     },
     "execution_count": 82,
     "metadata": {},
     "output_type": "execute_result"
    }
   ],
   "source": [
    "p2(ex1)"
   ]
  },
  {
   "cell_type": "code",
   "execution_count": 83,
   "metadata": {},
   "outputs": [
    {
     "data": {
      "text/plain": [
       "72970"
      ]
     },
     "execution_count": 83,
     "metadata": {},
     "output_type": "execute_result"
    }
   ],
   "source": [
    "p2(open('day02.txt').read())"
   ]
  }
 ],
 "metadata": {
  "kernelspec": {
   "display_name": "Python 3",
   "language": "python",
   "name": "python3"
  },
  "language_info": {
   "codemirror_mode": {
    "name": "ipython",
    "version": 3
   },
   "file_extension": ".py",
   "mimetype": "text/x-python",
   "name": "python",
   "nbconvert_exporter": "python",
   "pygments_lexer": "ipython3",
   "version": "3.9.6"
  }
 },
 "nbformat": 4,
 "nbformat_minor": 2
}
