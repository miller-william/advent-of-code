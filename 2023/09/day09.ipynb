{
 "cells": [
  {
   "cell_type": "markdown",
   "metadata": {},
   "source": [
    "# Day 09"
   ]
  },
  {
   "cell_type": "code",
   "execution_count": 101,
   "metadata": {},
   "outputs": [],
   "source": [
    "ex1 = \"\"\"0 3 6 9 12 15\n",
    "1 3 6 10 15 21\n",
    "10 13 16 21 30 45\"\"\""
   ]
  },
  {
   "cell_type": "code",
   "execution_count": 102,
   "metadata": {},
   "outputs": [],
   "source": [
    "d = open('day09.txt').read()"
   ]
  },
  {
   "cell_type": "code",
   "execution_count": 103,
   "metadata": {},
   "outputs": [],
   "source": [
    "def process_data(inp):\n",
    "    return [[int(i) for i in x.split()] for x in inp.splitlines()]"
   ]
  },
  {
   "cell_type": "code",
   "execution_count": 104,
   "metadata": {},
   "outputs": [],
   "source": [
    "# for a given sequence, return the differences\n",
    "def get_diffs(sequence):\n",
    "    step_diff = []\n",
    "    for i in range(0,len(sequence) - 1):\n",
    "        diff = sequence[i+1] - sequence[i]\n",
    "        step_diff.append(diff)\n",
    "    return step_diff"
   ]
  },
  {
   "cell_type": "code",
   "execution_count": 105,
   "metadata": {},
   "outputs": [],
   "source": [
    "# First recursive function of AoC 2023\n",
    "\n",
    "def next_in_seq(sequence):\n",
    "\n",
    "    sub_sequence = get_diffs(sequence)\n",
    "\n",
    "    if set(sub_sequence) == {0}: # We've reached the bottom\n",
    "        return sequence[0]\n",
    "    \n",
    "    else:\n",
    "        return sequence[-1] + next_in_seq(sub_sequence)"
   ]
  },
  {
   "cell_type": "code",
   "execution_count": 106,
   "metadata": {},
   "outputs": [],
   "source": [
    "def p1(inp):\n",
    "    answers = []\n",
    "    for sequence in process_data(inp):\n",
    "        answers.append(next_in_seq(sequence))\n",
    "    return sum(answers)"
   ]
  },
  {
   "cell_type": "code",
   "execution_count": 107,
   "metadata": {},
   "outputs": [
    {
     "data": {
      "text/plain": [
       "114"
      ]
     },
     "execution_count": 107,
     "metadata": {},
     "output_type": "execute_result"
    }
   ],
   "source": [
    "p1(ex1)"
   ]
  },
  {
   "cell_type": "code",
   "execution_count": 92,
   "metadata": {},
   "outputs": [
    {
     "data": {
      "text/plain": [
       "1762065988"
      ]
     },
     "execution_count": 92,
     "metadata": {},
     "output_type": "execute_result"
    }
   ],
   "source": [
    "p1(d)"
   ]
  },
  {
   "cell_type": "markdown",
   "metadata": {},
   "source": [
    "# Part 2"
   ]
  },
  {
   "cell_type": "code",
   "execution_count": 65,
   "metadata": {},
   "outputs": [],
   "source": [
    "# slight modification -> get first in sequence rather than last\n",
    "def first_in_seq(sequence):\n",
    "\n",
    "    sub_sequence = get_diffs(sequence)\n",
    "\n",
    "    if set(sub_sequence) == {0}:\n",
    "        return sequence[0]\n",
    "    \n",
    "    else:\n",
    "        return sequence[0] - first_in_seq(sub_sequence)"
   ]
  },
  {
   "cell_type": "code",
   "execution_count": 66,
   "metadata": {},
   "outputs": [],
   "source": [
    "def p2(inp):\n",
    "    answers = []\n",
    "    for sequence in process_data(inp):\n",
    "        answers.append(first_in_seq(sequence))\n",
    "    return sum(answers)"
   ]
  },
  {
   "cell_type": "code",
   "execution_count": 67,
   "metadata": {},
   "outputs": [
    {
     "data": {
      "text/plain": [
       "2"
      ]
     },
     "execution_count": 67,
     "metadata": {},
     "output_type": "execute_result"
    }
   ],
   "source": [
    "p2(ex1)"
   ]
  },
  {
   "cell_type": "code",
   "execution_count": 68,
   "metadata": {},
   "outputs": [
    {
     "data": {
      "text/plain": [
       "1066"
      ]
     },
     "execution_count": 68,
     "metadata": {},
     "output_type": "execute_result"
    }
   ],
   "source": [
    "p2(d)"
   ]
  }
 ],
 "metadata": {
  "kernelspec": {
   "display_name": "Python 3",
   "language": "python",
   "name": "python3"
  },
  "language_info": {
   "codemirror_mode": {
    "name": "ipython",
    "version": 3
   },
   "file_extension": ".py",
   "mimetype": "text/x-python",
   "name": "python",
   "nbconvert_exporter": "python",
   "pygments_lexer": "ipython3",
   "version": "3.9.6"
  }
 },
 "nbformat": 4,
 "nbformat_minor": 2
}
