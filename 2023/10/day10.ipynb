{
 "cells": [
  {
   "cell_type": "markdown",
   "metadata": {},
   "source": [
    "# Day 10"
   ]
  },
  {
   "cell_type": "markdown",
   "metadata": {},
   "source": [
    "| is a vertical pipe connecting north and south.\n",
    "- is a horizontal pipe connecting east and west.\n",
    "L is a 90-degree bend connecting north and east.\n",
    "J is a 90-degree bend connecting north and west.\n",
    "7 is a 90-degree bend connecting south and west.\n",
    "F is a 90-degree bend connecting south and east.\n",
    ". is ground; there is no pipe in this tile.\n",
    "S is the starting position of the animal; there is a pipe on this tile, but your sketch doesn't show what shape the pipe has."
   ]
  },
  {
   "cell_type": "code",
   "execution_count": 1,
   "metadata": {},
   "outputs": [],
   "source": [
    "ex1 = \"\"\"..F7.\n",
    ".FJ|.\n",
    "SJ.L7\n",
    "|F--J\n",
    "LJ...\"\"\""
   ]
  },
  {
   "cell_type": "code",
   "execution_count": 2,
   "metadata": {},
   "outputs": [],
   "source": [
    "d = open('day10.txt').read()"
   ]
  },
  {
   "cell_type": "code",
   "execution_count": 3,
   "metadata": {},
   "outputs": [],
   "source": [
    "def find_start(grid):\n",
    "    for i in range(1,len(grid)):\n",
    "        if grid[i].find(\"S\") > -1:\n",
    "            return (i,grid[i].find(\"S\"))"
   ]
  },
  {
   "cell_type": "code",
   "execution_count": 4,
   "metadata": {},
   "outputs": [
    {
     "data": {
      "text/plain": [
       "'b'"
      ]
     },
     "execution_count": 4,
     "metadata": {},
     "output_type": "execute_result"
    }
   ],
   "source": [
    "# entrance point -> next pipe entrance point\n",
    "pipe_dict = {\n",
    "    '|' : {'t' : 't', 'b' : 'b'},\n",
    "    '-' : {'l' : 'l', 'r' : 'r'},\n",
    "    'L' : {'t' : 'l', 'r' : 'b'},\n",
    "    'J' : {'t' : 'r', 'l' : 'b'},\n",
    "    '7' : {'l' : 't', 'b' : 'r'},\n",
    "    'F' : {'b' : 'l', 'r' : 't'}   \n",
    " }\n",
    "\n",
    "pipe_dict['|']['b']"
   ]
  },
  {
   "cell_type": "code",
   "execution_count": 5,
   "metadata": {},
   "outputs": [],
   "source": [
    "# if next pipes entrance point is top, this is the relative coord of the next pipe\n",
    "dir_to_coord = {\n",
    "    'b' : (-1,0),\n",
    "    't' : (1,0),\n",
    "    'r' : (0,-1), \n",
    "    'l' : (0,1) \n",
    "}\n"
   ]
  },
  {
   "cell_type": "code",
   "execution_count": 6,
   "metadata": {},
   "outputs": [],
   "source": [
    "def find_adjacent_indexes(pos, width, height):\n",
    "    adjacent = dict()\n",
    "    x,y = pos\n",
    "    # Check each of the four adjacent positions\n",
    "    if x > 0:  # pipe with right entrance\n",
    "        adjacent['r'] = (x-1, y)\n",
    "    if x < width - 1:  # pipe with left entrance\n",
    "        adjacent['l'] =  (x+1, y)\n",
    "    if y > 0:  # pipe with bottom entrance (above)\n",
    "        adjacent['b'] =  (x, y-1)\n",
    "    if y < height - 1:  # pipe with top entrance (below)\n",
    "        adjacent['t'] = (x, y+1)\n",
    "\n",
    "    return adjacent"
   ]
  },
  {
   "cell_type": "code",
   "execution_count": 7,
   "metadata": {},
   "outputs": [],
   "source": [
    "def first_position(grid):\n",
    "    start_pos = find_start(grid)\n",
    "    adj = find_adjacent_indexes(start_pos,len(grid[0]),len(grid))\n",
    "    for i in ['l','r','t','b']:\n",
    "        if adj.get(i):\n",
    "            new_pipe = grid[adj[i][0]][adj[i][1]]\n",
    "            if pipe_dict.get(new_pipe):\n",
    "                if pipe_dict[new_pipe].get(i):\n",
    "                    if pipe_dict[new_pipe][i] == 'l':\n",
    "                        move = 'r'\n",
    "                    if pipe_dict[new_pipe][i] == 'r':\n",
    "                        move = 'l'\n",
    "                    if pipe_dict[new_pipe][i] == 't':\n",
    "                        move = 'b'\n",
    "                    if pipe_dict[new_pipe][i] == 'b':\n",
    "                        move = 't'\n",
    "    return tuple(a + b for a, b in zip(start_pos, dir_to_coord[move])) , move    "
   ]
  },
  {
   "cell_type": "code",
   "execution_count": 9,
   "metadata": {},
   "outputs": [],
   "source": [
    "def move_direction(current_pos, next_entrance, grid):\n",
    "    current_pipe = grid[current_pos[0]][current_pos[1]]\n",
    "    entrance_point = pipe_dict[current_pipe][next_entrance] #next pipes entrance point\n",
    "    move_coord = dir_to_coord[entrance_point]\n",
    "    new_pos = tuple(a+b for a,b in zip(current_pos,move_coord))\n",
    "    print(new_pos)\n",
    "    \n",
    "    if grid[new_pos[0]][new_pos[1]] == 'S':\n",
    "        return 1\n",
    "    else:\n",
    "        return move_direction(new_pos, entrance_point, grid = grid) + 1\n",
    "    "
   ]
  },
  {
   "cell_type": "code",
   "execution_count": 11,
   "metadata": {},
   "outputs": [],
   "source": [
    "# take a current position and next entrance, and return coord and entrance next position \n",
    "def move_direction(current_pos, next_entrance, grid):\n",
    "    current_pipe = grid[current_pos[0]][current_pos[1]]\n",
    "    entrance_point = pipe_dict[current_pipe][next_entrance] #next pipes entrance point\n",
    "    move_coord = dir_to_coord[entrance_point]\n",
    "    new_pos = tuple(a+b for a,b in zip(current_pos,move_coord))\n",
    "    return new_pos, entrance_point\n",
    "    "
   ]
  },
  {
   "cell_type": "code",
   "execution_count": 18,
   "metadata": {},
   "outputs": [],
   "source": [
    "def p1(inp):\n",
    "    grid = inp.splitlines()\n",
    "    current_pos, next_entrance = first_position(grid)\n",
    "    steps = 1 # one to get off the S\n",
    "    while True:\n",
    "        current_pipe = grid[current_pos[0]][current_pos[1]]\n",
    "        if current_pipe == \"S\":\n",
    "            return int(steps/2)\n",
    "        else:\n",
    "            current_pos, next_entrance = move_direction(current_pos, next_entrance, grid)\n",
    "            steps = steps +1"
   ]
  },
  {
   "cell_type": "code",
   "execution_count": 19,
   "metadata": {},
   "outputs": [
    {
     "data": {
      "text/plain": [
       "6942"
      ]
     },
     "execution_count": 19,
     "metadata": {},
     "output_type": "execute_result"
    }
   ],
   "source": [
    "p1(d)"
   ]
  },
  {
   "cell_type": "markdown",
   "metadata": {},
   "source": [
    "## Part 2"
   ]
  },
  {
   "cell_type": "code",
   "execution_count": 22,
   "metadata": {},
   "outputs": [],
   "source": [
    "# modify part 1 to record the coords of the path\n",
    "def p2(inp):\n",
    "    grid = inp.splitlines()\n",
    "    current_pos, next_entrance = first_position(grid)\n",
    "    loop_coords = [find_start(grid), current_pos]\n",
    "    steps = 1 # one to get off the S\n",
    "    while True:\n",
    "        current_pipe = grid[current_pos[0]][current_pos[1]]\n",
    "        if current_pipe == \"S\":\n",
    "            return steps/2 , loop_coords\n",
    "        else:\n",
    "            current_pos, next_entrance = move_direction(current_pos, next_entrance, grid)\n",
    "            loop_coords.append(current_pos)\n",
    "            steps = steps +1"
   ]
  },
  {
   "cell_type": "code",
   "execution_count": 23,
   "metadata": {},
   "outputs": [],
   "source": [
    "ans, loop_coords = p2(d)"
   ]
  },
  {
   "cell_type": "code",
   "execution_count": 28,
   "metadata": {},
   "outputs": [],
   "source": [
    "grid = d.splitlines()\n",
    "new_grid = [list(s) for s in grid]\n",
    "\n",
    "for i in range(len(new_grid)):\n",
    "    for j in range(len(new_grid)):\n",
    "        if (i,j) not in loop_coords:\n",
    "            new_grid[i][j] = '*'"
   ]
  },
  {
   "cell_type": "code",
   "execution_count": 30,
   "metadata": {},
   "outputs": [
    {
     "name": "stdout",
     "output_type": "stream",
     "text": [
      "********************************************************************************************************************************************\n",
      "********************************************************************************************************************************************\n",
      "********************************************************************************************************************************************\n",
      "********************************************************************************************************************************************\n",
      "************************************************************************************F7**************************F7**************************\n",
      "************************************************************************************|L-7**********************F7||**************************\n",
      "************************************************************************************L-7L7*********************|LJ|**************************\n",
      "**********************************************************************************F7F7|FJ*********************L7FJ**************************\n",
      "******************************F7***************F-7********************************|||||L-7*****************F7*FJ|***************************\n",
      "***************************F7*||********F7*****L7|********************************|||||F-J*****F7********F-JL7|FJ***************************\n",
      "****************F7F-7F7F7**|L-JL--7**F7FJ|******|L7******************************FJLJLJ|******FJ|********L--7LJL-7**************************\n",
      "****************|||FJ|||L7*L7F--7FJ*FJ|L7|F7****|FJ********F7******************F-JF---7|F7F7*FJFJ*********F-JF7F-J**************************\n",
      "****************|||L-JLJFJF7||*FJL-7L7|FJ|||***FJL-7*******||********F7********L--J*F-JLJLJL-JFJ******F7**L-7|||****************************\n",
      "*************F--J||F7F--J*||LJ*L-7FJ*||L7||L-7*L7F-J*F-7**FJ|******F7|L7*******F7*F7L--7F-----JF7***F7|L7F7*||LJ*F7F7***********************\n",
      "*************L--7|LJ|L-7F7||F7**FJ|*FJL7|||F-J*FJ|F7FJFJF7|FJF7**F7||L7|F-7**F-JL-JL7F7|L7F7F7*||F7*|||FJ||FJL-7*|LJ|***********************\n",
      "*************F--JL-7|F-J|LJ|||F7L7|FJF-J|LJL7F7L7LJLJFJFJLJL-JL--J||L-JLJFJ**L-----7|||L7||LJL7|||L7||||FJ|L--7L-JF-J***********************\n",
      "*************L7F--7LJ|F7L7FJ||||FJ||FJF-JF--J||FJF---J*L---7F-----JL-7F--J**F7**F--JLJL7|||F--J|||FJ|||||FJF7*|F7FJF7****F7*****************\n",
      "**************LJF7L-7LJL-J|FJ|||L7|||*L-7|F7*||L7|F-7*F-7F7|L-7F7F---JL--7*FJL7*L---7F7LJ|||*F-JLJL7|LJ||L-JL-J|LJ*|L7F7FJL7****************\n",
      "***********F--7FJL-7L--7F-J|FJ||FJLJ|F-7|LJL7|L-J|L7L7L7||||F-J||L7F7F---J*|F-J*F7F7||L-7LJL-JF7F--JL-7|L--7F-7|F7*|FJ|LJF-J****************\n",
      "***********L-7|L7F7L7F-JL7FJL7||L7F-J|FJ|F--JL7F7|*|FJFJLJLJL7FJL7LJ||F--7*||F7*|LJ|LJF-JF----JLJF7F7FJL7F7LJFJLJL-J|*L-7L7*****************\n",
      "*************||*LJL7|L-7FJL-7|||*||F7|L7|L-7F7||LJFJL7L---7F-JL-7L7FJLJF-JFJ||L7L-7L7*L-7L-7F7F7FJLJ|L-7LJ|F7|F-----JF7FJFJF7**F-7**********\n",
      "*************|L----JL--JL---JLJL7|||LJFJ|F-J|LJL-7L-7L--7*|L-7F7|FJL7F7L7*L7LJFJ*FJFJF7FJF-J||||L--7|F7L7FJ||||F7F---J|L7L7||F7|FJ**********\n",
      "*************L-7F-7F7F----7F--7FJ|||F7L-J|F7L---7L7FJF--JFJF-J|LJ|F7LJ|FJF7L-7|F7L7L7||L7|F7|LJ|F7FJ||L-J|*|LJLJLJF7F-JFJFJ||||||***********\n",
      "***************LJ*LJLJF7F7LJF-JL7|||||F--J|L7*F7|FJL7L-7*L7L-7L-7||L7*|L7|L7FJ||L7|FJ|L-JLJLJF-J|||FJL--7L7L-7F---J|L7*L7L-J||LJL-7*********\n",
      "*************F7F-7F---JLJ|F-JF-7|||||LJF7*|FJFJLJ|*FJF-JF7L7FJF7|||FJFJFJ|FJL7|L7LJ|*L--7F7F-JF-J||L---7L7|F7||F7F7L-JF7|F--J|F---J*********\n",
      "*************|||FJ|F--7F-JL--J*|||LJL7FJL-JL7L--7L7L7L7FJL-J|FJLJ|||*L7|*||**||*L-7L7F7FJ|LJF7L-7||F---JFJLJLJLJ||L7F7||||F7FJL7************\n",
      "***********F7|LJL7||F-JL7F-----JLJF--J|F---7|F-7L7|FJFJ|F--7||F--J|L7FJL-JL7FJ|F-7|FJ||L7L7*||*FJ||L7*F7L---7F--JL7LJ||LJLJLJF7L-7**********\n",
      "***********||L-7FJLJL--7|L------7FJ*F7|L7F7LJL7|FJ||FJ*LJF7|LJL--7|FJL---7FJL7|L7|||FJ|*L7L-JL7L7||FJFJ|F-7*||F7F7|F-J|F7F-7FJL-7L7*********\n",
      "***********|L--JL--7*F7|L7F----7|L7FJLJFJ|L7F-J||FJ|L7*F-JLJF----J|L--7*FJL-7|L7||||L7|F7|F---JFJ||L-JFJL7|FJLJLJLJL--J|LJ*|L--7L-J*********\n",
      "***********|F7F-7F7L7|||FJL---7||FJL-7FJFJFJL-7||L7L7L7L---7L7F7F7L--7|FJF--J|FJ||||*||||||*F7*L7LJF--JF7||L-7F7F------J*F7L--7L-7**********\n",
      "***********LJLJ*LJL7LJLJL-7*F7||||F7FJL7|FJF7*||L7L7L7L7*F7L7||LJ|F7FJ||FJ*F-JL7||||FJLJLJ|FJL7*L-7L7F7|LJ|F7||LJF-7F7F7FJL--7|F-J**********\n",
      "************F--7*F7L---7F-JFJLJLJLJ||F7LJL7||FJ|*L7|FJFJFJ|FJ||F-J||L7|||F7L--7LJ|||L-7F--JL7FJF7FJFJ||L-7||||L--JFJ|||||F---J|L-7**********\n",
      "***********FJF7L7||F7F7||*FJF-7F7F7LJ|L---J||L7|F7|||FJ*L7|L7|||*FJL-JLJ|||*F7L7FJ||F7|L7F7FJL7||L7L7||*FJ||||F7F-JFJLJ||L---7L-7|**********\n",
      "***********L7|L7LJLJLJLJL-JFJFJ||||F7|F7F7FJL7|LJ||LJL7F7||FJ|||FJF-----J||FJ|FJ|FJ||||FJ|LJF7|||FJFJ||FJFJ||||LJF7|F--J|F---JF7LJ**********\n",
      "************LJ*L-7F7F-7F-7FJFJFJ||LJ||||||L7FJL-7||F--J||||L7||||FJ*F7F7*|||FJL7|L7|||||*L7FJLJ||L7|*||L7L7|||L7FJLJ|F7FJL---7||************\n",
      "***********F-7*F7LJLJ*||FJL7L-J*LJ*FJ||||L7|L7F7|||L7F7|LJ|FJ||LJL7FJ||L7|||L7FJL7|||||L7FJL-7FJL7||FJL7|FJ||L7||F--J|LJF----J||************\n",
      "***********L7L-JL-----J|L--J*F-----JFJ|||*||FJ|||||FJ||L7FJL7|L7F-J|*|L7LJ||*|L7FJ|||||FJL-7FJ|F-J|||F-J||*||*|LJL7F7L7FJF-7F7|L7***********\n",
      "************L------7F-7|F7F--JF7F7F7L7|||FJ|L7|LJ|||FJ|FJL7FJ|FJL-7L7|FJF-JL7|FJL7|||||L7F-J|FJL-7||||F-JL-JL7|F--J||FJL7|FJ|||FJ***********\n",
      "***********F------7LJFJ|||L---JLJLJL7LJ|||FJFJL-7|||L7||F-J|FJL7F-JFJ|L7L7F7|LJF7||||||FJ|*FJL--7||LJLJF7F7F7LJL7F7|LJF7LJ|FJLJL-7**********\n",
      "***********L--7F-7L7*L-J||F--7F7F7F-JF-J|LJ*L7F-J||L7||||F7|L7FJ|F7L7|FJ*|||L--J|||||||L7L7L-7F-J||F-7FJLJLJL7F7LJLJF7|L-7LJF----J**********\n",
      "**********F---J|*L7|F7F7||L-7LJLJ|L-7L-7L7F--JL7FJ|FJ|LJ||||FJL7LJL7|||F-J||F--7||||||L7L7|F-JL-7||L7|L-----7LJ|F7F7||L-7|F7L----7F7********\n",
      "**********L----JF-JLJLJLJ|F-JF--7|*FJF7L-JL-7F7|L-JL7|F-J|||L-7L-7*||LJ|F7||L-7|||||||FJFJ|L-7F7|LJFJL-7F--7L-7||LJ|||F-JLJ|F-7F7|||********\n",
      "************F-7*L-------7|L--J*FJ|FJFJL---7*LJ|L--7FJ|L-7|||F-JF7|FJL7FJ|||L7FJLJ||||LJ*L7L7*LJ||F-JF7FJL-7|F7||L-7|||L---7LJ*LJ|LJ|********\n",
      "************L7|F7F-7F7*FJL-7*F7L7|L-JF7F-7|F--JF7FJL7L7FJ|||L7FJ|||F7|L7|||FJL7F7LJLJF7F-JFJF7*LJL-7||L---JLJLJL--J|||F7F7L----7|F7|********\n",
      "************FJLJ|L7LJL7L7F7L7||FJL---J|L7|||F7FJ||F7L7|L-J||FJL7||LJ||FJ|LJ|F7LJL7F--JLJF7L-JL7F--7LJL-7F7F7F--7F-7LJ||LJL--7F7|LJ|L7*******\n",
      "************L--7L7L--7|*LJL7LJLJF----7|FJLJ||||FJLJ|FJL7F-J|L7FJLJ*FJ|L7L7FJ||F-7|L7F7F7||F7F7||F7L----J|LJLJF7LJFJF7|L---7FJ||L7FJFJ*******\n",
      "**********F-7F7|FJF--JL----JF7F7|F---JLJ*F7||LJL-7FJL-7|L-7|FJL---7|FJ*|FJ|FJ|L7||FJ|LJ||||||LJLJL-7F---JF-7FJ|F7L-J||F7F-JL-J|FJ|FJ********\n",
      "*******F7*L7||LJL-JF7F7F--7FJ||LJ|F-7F7F7|||L---7|L-7*LJF-J||F7F7FJ||F-J|FJ|FJFJLJL7|F-J|||||F----7LJF--7L7|L7LJL7F7|LJ|L----7LJ*LJ*********\n",
      "*******|L7FJ|L-7F-7|LJLJF7LJ*LJ*FJ|FJ|LJLJ||F7F-J|F7L7F-JF7||||||L7LJL-7|L-JL7L--7*LJ|F7|LJLJL--7FJF7L7FJFJL-J*F7LJ||F7|F----JF7F7**********\n",
      "*****F-JFJL7|F7LJ*LJ*F--JL7F7*F7L-JL-JF---J|||L-7||L-JL-7|||||LJ|FJF---JL-7F7|F7FJF--J||L---7F--JL-JL-JL-JF7F--JL-7|LJ||L7F7F7|LJL-7********\n",
      "*****L-7|F-JLJ|F7F--7L-7F7LJL7||F-7F--JF-7*LJL--J|L--7F-J|||||F-JL7L---7F7LJ|LJLJ*L--7||F7F-JL-7F7F7F-----JLJF7F7FJ|F-JL7LJLJLJF--7|********\n",
      "*****F7||L7F-7LJ|L7FJF7LJL--7|||L7|L---JFJF-7*F7*L7F7||F7||||||F7FJF-7FJ||F7L--7**F--J|LJ||F7F7LJLJLJF-------JLJLJ*LJF7*L----7FJ**||********\n",
      "*****|LJL7LJFJF7L7|L-J|*F7F-JLJL-JL-7F7FJ*|FJFJL-7||LJ||LJ||||LJ||*L7LJFJ|||F-7L7FJF-7L7FJ|||||*F--7*L7F--------7*F7FJL-7F--7LJ***LJ********\n",
      "*****L-7FJF7L-JL7|L7F7L7|||F----7F-7LJLJF7||FJF7FJLJF7LJF-J|LJF-JL-7L-7L7||||*L-JL7L7L-JL-J|LJL7|F7L--J|F--7F7F7L-JLJF--J|F-JF--7***********\n",
      "******FJL-JL-7*FJL-J|L7LJ||L7*F-J|*L--7FJLJLJFJ||F-7||F7L-7L-7|F7F7|F-JFJ|||L---7*L-JF-----JF-7LJ|L---7|L-7|||||F-7F7L---JL--JF-J***********\n",
      "******L-7F7F7|FJF7F7|*L-7|L-JFJF7|F---J|F-7F-J*LJ|FJ||||F7|F-JLJ||||L7FJ*||L7F--JF---JF--7F7|FJF-J*F7*LJ*FJLJLJLJFJ|L--------7L-7***********\n",
      "********LJLJ|LJFJ||||F--JL---JFJLJL----JL7|L--7*FJL-JLJLJ|LJF7*FJ|LJFJL-7||FJL-7FJF7F7L7*LJLJL-J*F-JL----J*F-7F7*L7L----7F--7|F-J***********\n",
      "*********F7*L--J*LJLJL--7F7F7FJF----7F7F7|L7F-JFJF7F7F---JF7|L7L7|F7L-7FJLJ|F7FJL7||||FJF-------7|F7F-----7|FJ|L7*L-7F--J|F-J||*************\n",
      "*******F-J|F-------7F---J||||L7L-7F7LJ||LJ*LJF7|FJLS||F7F7|LJFJ*|LJ|F7|L--7||||F-J||||L7L----7F7|||LJF----J|L7|FJF7*|L---JL-7|L7************\n",
      "*******L-7LJF-7F--7LJF7F7|LJL-JF7LJL-7|L-7F7FJLJL-7FJ||||LJF7|F7L--J|LJF7FJLJ|||F7|LJ|FJF--7*||||LJF-JF----JFJ|L-JL7L---7F7FJL7L-7**********\n",
      "********FJF7|*LJF-JF-JLJLJ*F7*FJL-7F-J|F-J|||F----JL-J|LJF-JLJ||*F7*L7FJLJ**FJ|LJLJF7||FJF7L-J||L7*L--JF---7L-JF7F-JF7F7LJLJF7L--J**********\n",
      "********L7|||F-7L--JF7F7F7FJL7L--7|L-7|L-7|||L-7F7*F7FJF7L7F7FJ|FJL-7||*****|FJ*F7*|LJ||FJ|F--J|FJF7*F7L--7L-7FJ|L--JLJL----JL---7**********\n",
      "*********||||L7L----JLJ|||L-7|*F7|L--J|F-J|||F-J|L7|||FJL-J|||FJL7F-JLJ*****LJF-J|*L7FJLJFJ|F7FJL-JL-JL---JF7LJFJF-7F---7F----7F-J**********\n",
      "*********LJLJ*L-------7||L--JL-JLJF--7LJF7||||F7|FJ|||L-7F7||||F7|L-7**F-7****L-7|F7LJF7*L-J||L-7F7F7F----7|L7*L7|FJL--7|L---7|L7***********\n",
      "**********F7*F--------JLJF-7F---7FJF-JF-JLJLJLJLJL-J||F-J|||LJLJLJF7L--JFJ****F-JLJ|*FJL7F7FJL-7||LJ||F---J|FJF7LJL-7F-J|F7F-J|FJ***********\n",
      "*********FJL-JF-7F7F7F-7FJFJ|F--J|*L7FJF--7F--7F---7LJL--JLJF7F7F-JL7F--JF7***L-7F7L7L7FJ||L-7FJLJF7LJL--7FJL-JL---7|L-7LJ|L-7||************\n",
      "*********L----JFJ|||LJFJL7L-JL7F7|F-J|FJF7|L-7|L--7L7F---7F7|||LJ**FJL---JL7****LJL7L-J|FJL--J|F7FJ|F----JL7F------J|F7L-7L--JLJ************\n",
      "*********F-----JFJLJF7L7FJ*F7*LJLJL--JL7||L--JL---J*|L--7|||||L-7F7|F-7F---J*******L--7||F---7LJ|L7|L--7F--JL-----7*LJL--JF--7**************\n",
      "*********L------JF--JL7LJF-J|F--------7LJL7*F7F--7F7L---JLJ|||F7LJ|LJ*LJ**********F7F7||LJ*F-JF7L-JL7F7LJF---7F---JF---7F-JF7|**************\n",
      "*******F--------7L---7|F7L-7|L-----7F7L7F-JFJLJF-J||*F---7*LJLJL-7|***************||||||*F7L-7|L7F-7LJ|F7L--7LJF---JF-7LJF7|LJ**************\n",
      "*******L-----7F7L7F--JLJL--JL------J|L7|L--JF-7L--JL-JF-7L------7LJ**********F----JLJLJL7||F7LJ*LJ*L-7LJL---JF7|F---J*L7FJLJ****************\n",
      "*********F-7*LJL7|L-7F--------------JFJ|F-7FJ*L7F-7F--J*L-----7FJ************|F--------7||||L7F7F----JF------JLJL--7F-7|L---7***************\n",
      "*********L7L7F--J|F7||F--------------J*LJ*|L--7LJ*|L---7F----7||*************LJF-------JLJ||FJ||L---7FJF-----------J|FJL---7L--7************\n",
      "**********L7LJF-7LJ|LJL---7F----------7F-7|F-7L--7L7F-7LJF7F-J|L7F-7*********F-JF7F7F-7F-7LJL-JL--7*LJFJF7F7F----7*FJL----7L---J************\n",
      "***********L7FJ*|F7L7*F---J|F7F7F-7F--J|FJLJ*L-7FJ*||FJF7||L-7L7LJFJ*********L-7|LJLJ*LJ*L-7F-7F-7|F7*L-JLJLJF7F7L-JF-----JF7F7*************\n",
      "************||F-J|L7L-JF--7||LJ|L7|L---J|F7F7F7LJF7LJL7|||L--J*|F-J*********F--J|***F------J|FJ|FJLJ|F7*F-7F7|LJL---JF7F7F7|||L-7***********\n",
      "*********F--J|L7FJ*L-7FJF-J||F7L-JL----7LJLJLJL-7|L--7|||L---7*||***********L---J*F7L7F--7F7|L-JL--7LJL7L7LJ||F7F7F7FJLJLJLJLJF7L7**********\n",
      "*********L-7FJ*LJ*F--JL7|F7|LJL7F7F---7|F----7F-J|F-7||||F---J*LJ*****F7F7*F-7*F7FJL-J|F7LJLJF7*F--JF-7L-JF7|LJLJLJLJF--------JL-J**********\n",
      "*********F7LJF7F-7L----JLJLJ*F7LJLJF--J|L---7|L--J|*LJLJ||F-7*******F7|LJL7L7|*|||F-7FJ|L--7FJ|FJF-7|FJF--J||F------7L--7F7*F7**************\n",
      "*********|L7*||L7|F-------7F-JL----JF7*L----J|F7F7L7F7F7LJ|FJ******FJ|L--7|FJL7||||FJL7L--7|L7|L-J*LJL7|F--JLJF7F--7L--7LJL-JL7*F7**********\n",
      "******F-7L7|FJL-JLJF-----7LJF7F-----JL-7F-7F7LJLJL-J|LJL--JL--7****L7L7F7|LJF7|||LJL-7|F--JL7||F7*F7F7LJL7F7*FJ||F-JF-7L7F7F--JFJL-7********\n",
      "******L7L-JLJF7F7F-JF----JF7||L7F------JL7LJL-7F7*F-JF--------J*****L7LJ||F-JLJ|L7*F7LJ|F7F7LJLJL7|LJ|F-7||L-JFJ|L-7L7L7LJ|L-7*L7F-JF-7*****\n",
      "*******|F7F7FJLJ|L-7L7F7F7|||L-JL7F7F----JF---J|L7|F-JF------7F7F7**FJF7LJ|F7F7|FJ*|L-7LJLJ|F7F-7|L7FJL7|LJF-7L-JF-JFJFJF7L--JF-JL--JFJ*****\n",
      "*******LJLJLJ*F7L--J*LJLJ||LJF7F7LJLJF----JF7F7L7LJL--JF--7F7||LJL7FJFJ|F-J|||||L-7L7FJF-7FJ|||FJL-JL--JL--J*L7F7|F-JFJFJL---7L7F----J******\n",
      "***********F--J|*F7F7F-7*LJF7|LJL----JF---7|LJ|FJF-7F7FJF7LJ|||F--JL7|FJ|F7|LJLJF-JFJL7L7|L-JLJL------7F----7FJ||LJF-JFJF----JFJL----7******\n",
      "***********L--7L-JLJ||FJF7*||L------7FJF7FJ|F-J|FJ*|||L7|L7*LJ||F7**LJL7LJ||F--7L-7L-7L-J|F------7F7F7LJF---JL7||F7L-7L7L-----JF-----J******\n",
      "***********F7FJF---7LJL-JL-JL-------J|FJ|L-JL7*||F7LJL7|L7L7*FJLJ|F7*F7|F-J||F7L--JF7L--7||F----7||LJL7*L----7|||||F7|FJF-----7L-----7******\n",
      "*********F7|||FJF7FJF----7F--7F------J|*L7F-7L-JLJL--7||*L7L7L7F-J||FJLJL7*|LJL-7F7||F--J|LJF---JLJF-7L------J||LJLJ|LJFJF7F7*L7F-7F7|******\n",
      "*********|LJLJ|FJLJFJF---J|F-J|F7F7F-7L-7LJFJF7F7F---JLJF7L7L-JL-7||L---7L7L7F--J||||L7F7L--JF----7L7L7F-----7|L--7FJF7L-JLJL7*LJ*LJ|L7*****\n",
      "*********L----JL-7FJFJF7F-JL--J|||LJ*L--JF7L-JLJ||F---7FJ|FJF----J||F--7|FJ*|L-7FJ|||*LJL---7L7F--JFJFJ|F----JL---JL-JL7F7F-7L-7F7F7L-J*****\n",
      "********F7F7*F---J|*L-J||F-----JLJF--7F--JL----7|||F--JL7|L7L---7*||L-7LJL7FJF-JL7LJ|F7F----JFJL7F-J*L-JL--7F7F--7F---7||LJ*|F7LJLJL-7******\n",
      "********|LJL-JF---JF7F-J|L7F------JF7LJF7F7F---JLJ||F-7FJ|FJF--7|FJL7FJF-7||FJ*F7L-7LJ|L7F-7FJF7||F-7*F----J||L7FJ|F--J|L7F7LJ|F-7F7FJ******\n",
      "********L-----J*F7FJLJF7L7LJF------JL--JLJLJF----7|LJFJL7|L7|F7LJL7FJL-JFJLJ|F7||F7|F7|FJ|FJ|FJLJ|L7L-JF-7F7||FJL-J|F-7L7LJL-7|L7LJ||*******\n",
      "**********F7F---JLJF7FJL-JF7L---------------JF7F-J|F-JF7||*||||F7FJL7F-7L--7||||LJLJ|LJL-JL-JL-7FJ*L7F7|FJ|||LJF--7LJFJ*|F7F-JL7L7FJ|*******\n",
      "**********|LJF---7FJLJF---JL--------7F7F7F7F-JLJF-J|F7|||L-JLJ||||F-JL7|*F7|LJLJF7F-JF-7F-7F---J|F-7LJLJL-JLJF7L-7L7FJF7LJLJF-7L-JL-J*******\n",
      "**********L-7|F--J|F7*L--7F----7F7F7LJLJ|||L---7L-7|||||L--7F7LJLJL7F7||FJLJF---JLJF7|FJL7|L---7|L7L-7*F7F---JL-7L7|L-JL---7L7L-7***********\n",
      "***********FJ|L---J||F7F7LJF--7LJLJL---7LJL7F7FJF7|||LJ|F-7LJ|F----J|||||F-7|*F7F7*||||F7||F-7*LJFJF-JFJLJF7F7F7L-JL---7F--J*|F-JF7*********\n",
      "***********L-J*F--7||||||F7L-7|F7F7F--7L--7LJLJ*||||L-7||FJF-JL---7*||||LJFJL7|LJ|FJ||LJ|||L7|F7FJFJF7L---JLJLJL----7F7|L--7FJL7FJL7********\n",
      "************F-7L-7LJLJLJLJL--JLJLJ|L-7|F--JF-7*FJ||L7*|LJL7L-7F---JFJLJ|*FJF7LJF-J|FJ|F-J||FJ||LJFJ*||*F7F7F7F7F----J||L---JL-7LJF7|********\n",
      "************L7|F7L--------7F7F7F-7L--JLJ*F7L7|FJFJ|FJFJF--JF7|L---7L--7L7L-J|F-JF7|L-JL-7||L7|L-7|F7||FJLJLJ||LJF7F--JL---7F7*|F-JLJ********\n",
      "************FJLJ|F-------7LJLJLJ*L-7F7*F7|L7|||FJFJL7L7L7F-J||F---JF7*L7L7*FJL--J|L-7F--J||FJL7*||||||L---7FJL--J|L7F-----J||FJL7F7*F7******\n",
      "************L--7LJF7F---7L---7F---7LJ|FJLJFJ|LJL7L-7|*|FJ|F-J|L-7F7||F7|FJFJF----JF7|L7*FJ||F-JFJLJ|||F7F-JL7F7F7L-JL-7*F7FJLJF7LJ|FJ|******\n",
      "************F--JF7|LJ*F7L---7|L-7FJF-JL-7FJ*L--7|F7||FJL7|L7FJF-J|||||LJL7|FJF7*F7||L7L7L7|||F7L7F-J||||L7F7LJLJL-----JFJLJF7FJ|F7LJFJ******\n",
      "************L---JLJ*F7||F---JL--JL-JF7F7||F-7F7|LJ||||F-J|FJL7L7FJ|||L--7||L7||FJ|||*L7L7||||||FJ|F7|||L7LJL----7F7F7F-JF--JLJ*|||F7L7******\n",
      "************F-------JLJLJF----7F---7|||||||FJ||L-7|||||F7||F7|FJL7|||F7*||L7||||FJ||F7|FJ||||||L7||||||FJF-7F--7LJLJLJF7L---7F7LJLJL-J******\n",
      "************L----7F-7F-7FJF---J|F--J|LJ||||L7|L7FJ||LJ||||||||L7FJ||||L7|L7|||LJ|FJ||||L7|||||L7|LJ||||L7L7|L-7|F-7F-7||F7F7LJL7F-7*********\n",
      "********F7*F-7F--J|FJ|FJ|*L---7||F-7L-7LJ|L7||FJ|FJL-7LJ||||||FJL7LJ||*LJFJ|LJF-JL7LJ|L7||||LJFJL-7||||FJFJL--J|L7||FJ|||LJ|F-7LJFJ*********\n",
      "******F-JL-JFJL-7FJL7|L7|F7F--J|LJFJF7L7FJFJ||L-JL7F7L7FJ|||||L-7|F7|L7F-JFJF7L7F7L7*|FJ|||L7FJF-7|||||L7L----7L-JLJL7||L-7||FJF-J**********\n",
      "******L----7L--7LJF-J|*LJ|LJF-7|F-JFJL7|L7|FJL-7F-J|L7|L7|LJLJF-JLJ|L7||F7L7|L-J|L7L7|L7||L7|L7L7||||||FJF-7F7L--7F7FJ||F-JLJL7|************\n",
      "***********L--7L-7L-7|F--JF7|FJ|L-7|F7LJFJ|L7F-J|F7L7LJ*LJ*F--JF7F7L7||LJL-JL--7|*L7||FJ|L7LJ*|FJ||LJLJL7L7|||F7FJ||L-J|L--7**||************\n",
      "************F-JF7|F7LJL---JLJL7|F7|LJL-7L7|*|L7FJ|L7L--7*F-JF7FJLJ|FJLJF7F-----JL-7LJ||*|FJF7FJL7LJF----JFJ||LJ|L-JL--7L7F7L7*LJ************\n",
      "************L--J|LJL--7F--7F7*LJ|||F--7L7|L7L7|L7L7L7F7|FJF7||L7F-JL--7|LJF-7F7F7FJF-J|FJ|FJLJF7L-7L7F--7L7|L7*L----7FJ*LJL-J***************\n",
      "**************F7L----7|L7FJ||F--JLJL-7|FJ|FJFJ|FJFJ*||||L-J|||FJL7F7F7||F7|FJ|||||*L-7|L7|L7F7||F7|FJ|F-JFJL-JF7*F-7|L------7***************\n",
      "*************FJL-----JL-JL-JLJF---7F-J||*||*L7|L7L7FJ||L7F-J||L7FJ|||LJLJLJL7|LJ|L--7LJFJL7||||LJ||L7|L-7|F---JL-JFJ|F7F7F--J***************\n",
      "*************L---7F7F-7F-7F7F7|F--JL-7|L7|L-7|L7|FJL7||FJL-7||FJL-JLJF7*F7F-JL7FJF-7L-7|F7||||L7*||*LJF7|LJF-7F7F-J*LJLJ||******************\n",
      "************F---7LJ||*LJFJ|||||L-7F7FJ|FJ|F7|L7||L7*||LJF--J|LJF7*F7FJL-JLJF7FJ|FJ*L7FJLJ||||L7L7||F--JLJF-J*LJ|L------7|L7*****************\n",
      "************L-7FJF7LJF7FJFJ|||L7*LJ||*LJ*LJ||FJ|L7|FJL7FJF-7L--J|FJLJF7F-7FJ||FJL-7FJL--7||||FJFJLJL7F7F7L---7FJF7F----JL7L-7***************\n",
      "************F-JL-JL--J|L7L7|||FJF--JL-----7LJ|FJFJ||F-J|FJ*L-7F-JL7F-J||FJL7|||F7FJL-7F-JLJ||L7|F7F7||||L7F7FJ|FJ|L----7*L--J***************\n",
      "************L-7F7F7F-7L-JFJ|||L7L--7F--7F7|F-J|*L7|LJF-J|F7*FJL--7LJ*FJ|L7FJLJLJ|L-7*|L--7FJ|FJLJLJ|||LJ*||LJ*LJ*|F---7|********************\n",
      "************F-J|LJ||*L7F7L7|||FJ*F-JL7FJ|LJ|F7L-7|L-7L-7LJL7L7F-7L7F-JFJFJL7F7F-JF-JFJF7FJL7||F7F7FJ||F--JL7F---7|L--7LJ********************\n",
      "***********FJF-JF-J|F-J|L7|||LJF-JF7FJL7L-7LJL7FJ|F-J*FJF-7L7LJ*L7||F7|FJF7||LJF7|F7L-J||F7||LJ||||FJ||F7F7LJF--JL---J*F7*******************\n",
      "***********L7L7FJF7|L--JFJ|||F-JF7||L-7|F7L--7|L7LJF--JFJFJFJ*F--J|LJ||L7|LJL-7||LJL--7|LJ|||F-J|||L-JLJLJ|F7L7F7F--7F-J|*******************\n",
      "***********FJFJ|FJLJF---JFJ||L-7||||F-J||L7F7|L7L-7L--7L7L7|F7|F7FJF7||*|L7F--J||F7F7FJL7FJLJ|F7|||F-----7||L7LJLJF7LJF-J*******************\n",
      "***********L-J*||***L7F7FJ*LJ*FJ||||L7*||*||LJ*L7FJF7FJFJ*|LJ|||||*|LJL7|FJ|F7FJ||||||**|L--7||||LJL----7|||FJF7F-J|F-J*********************\n",
      "***************||F7**LJ||*F7F-JFJ||L7L7||FJL-7F-J|FJ|L7L-7L--J||||FJF7FJ||FJ|||*LJ|||L7FJF-7|||LJF7F----JLJ|L7||L-7|L7**********************\n",
      "***************LJ||F7F-JL-J|L-7L7|L7L7|||L7F-JL7FJL7L-JF7L--7*||||L7||L7LJL7|LJF7*|||FJ|FJ*LJLJF-JLJF-7F7F7L7||L7FJL7|**********************\n",
      "***************F-JLJ|L7F7F7|F-JFJ|FJ*||LJFJL7F7||F7|F7FJL7F7|FJ|LJ*||L-JF--JL--J|FJ|LJ*|L-7F--7|F7F-JFJ|LJ|FJ|L7LJ*FJL-7********************\n",
      "***************L---7L-J|||LJL7FJ*||*FJ|F-JF7LJ|LJ||LJ|L7FJ|||L7|*F7|L--7L--7F--7|L7|*F7|F-JL-7LJ||L7*|FJF-J|*L7|F7*L-7FJ********************\n",
      "******************FJF7FJ|L7*FJL-7||FJFJL-7|L7FJF-J|F-JFJL7|LJFJL-J|L7F-JF--JL-7||*|L7|||L7F7FJF7|L7L7||FJF7L-7|LJL7**LJ*********************\n",
      "******************L7||L7|FJ*L7F-J||L7|*F-JL7||*L-7LJF7L-7|L-7|F7F7|FJL-7L-7F7FJ|L7L7LJ||FJ|LJFJLJFJFJ|||FJ|F7|L-7FJ*************************\n",
      "*******************LJ|FJLJ**FJL-7LJ*LJ*L-7FJLJF--JF7|L7FJ|F7||||||||F--JF-J||L7|FJFJF7|||FJF7L-7*L-JFJ||L7LJ|L-7|L7*************************\n",
      "********************FJ|****FJF--J*******FJ|**FJF--J||FJ|FJ|LJ||LJLJ|L-7FJF-J|FJ|L7|FJ|||||FJL-7|****L7|L-J*FJF7|L7L--7**********************\n",
      "********************L-J****|FJ**********L7|**L7|F--J||FJL7|**||****L7FJL7|F-JL7L7||L7||||LJ***LJ*****LJ*F--JFJ|L7L7F-J**********************\n",
      "***************************LJ************LJ***LJL7F7|LJ**LJ**LJ****FJ|**LJ|F7FJ*|||FJ||LJ************F--JF-7|FJFJ*|L-7**********************\n",
      "**********************************************F--J|||F7************L-J*F--J||L-7|||L7LJ*************FJF--J*||L7L7FJF-J**********************\n",
      "**********************************************|F7FJ|LJL---7*********F--JF7FJL7FJLJL-J***************L-J****||*|FJ|FJ************************\n",
      "**********************************************LJLJ*|F-7F7FJ*********L---J||**||****************************||*|L7||*************************\n",
      "***************************************************|L7LJ||***************LJ**||****************************LJ*L-JLJ*************************\n",
      "***************************************************L-J*FJL7******************LJ*************************************************************\n",
      "*******************************************************L--J*********************************************************************************\n"
     ]
    }
   ],
   "source": [
    "string_representation = '\\n'.join([''.join(inner_list) for inner_list in new_grid])\n",
    "\n",
    "print(string_representation)"
   ]
  },
  {
   "cell_type": "code",
   "execution_count": 34,
   "metadata": {},
   "outputs": [
    {
     "name": "stdout",
     "output_type": "stream",
     "text": [
      "297\n"
     ]
    }
   ],
   "source": [
    "count = 0\n",
    " \n",
    "for row in new_grid:\n",
    "    inside = False\n",
    "    pos = 0\n",
    "    while pos < len(row):\n",
    "        if row[pos] == '*' and inside:\n",
    "            count += 1\n",
    "            pos += 1\n",
    "        # if you cross | you go from out to in or vice versa\n",
    "        elif row[pos] == '|':\n",
    "            inside = not inside\n",
    "            pos += 1\n",
    "        elif row[pos] in ['-', '*']: # these don't tell us whether we've crossed a boundary so move along\n",
    "            pos += 1\n",
    "        else:\n",
    "        # handling corner pipes e.g. L----7 or F---------J which indicate a boundary crossing.\n",
    "        # passing, e.g., F-----7 does not indicate a crossing \n",
    "            turn_start = row[pos]\n",
    "            pos += 1\n",
    "            while row[pos] == '-':\n",
    "                pos += 1\n",
    "            turn_end = row[pos]\n",
    "            if turn_start + turn_end in ['L7', 'FJ']:\n",
    "                inside = not inside\n",
    "            pos += 1\n",
    "        \n",
    "print(count)"
   ]
  },
  {
   "cell_type": "code",
   "execution_count": null,
   "metadata": {},
   "outputs": [],
   "source": []
  }
 ],
 "metadata": {
  "kernelspec": {
   "display_name": "Python 3",
   "language": "python",
   "name": "python3"
  },
  "language_info": {
   "codemirror_mode": {
    "name": "ipython",
    "version": 3
   },
   "file_extension": ".py",
   "mimetype": "text/x-python",
   "name": "python",
   "nbconvert_exporter": "python",
   "pygments_lexer": "ipython3",
   "version": "3.9.6"
  }
 },
 "nbformat": 4,
 "nbformat_minor": 2
}
