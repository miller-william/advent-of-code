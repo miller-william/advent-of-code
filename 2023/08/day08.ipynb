{
 "cells": [
  {
   "cell_type": "markdown",
   "metadata": {},
   "source": [
    "# Day 08"
   ]
  },
  {
   "cell_type": "code",
   "execution_count": 1,
   "metadata": {},
   "outputs": [],
   "source": [
    "ex1 = \"\"\"RL\n",
    "\n",
    "AAA = (BBB, CCC)\n",
    "BBB = (DDD, EEE)\n",
    "CCC = (ZZZ, GGG)\n",
    "DDD = (DDD, DDD)\n",
    "EEE = (EEE, EEE)\n",
    "GGG = (GGG, GGG)\n",
    "ZZZ = (ZZZ, ZZZ)\"\"\""
   ]
  },
  {
   "cell_type": "code",
   "execution_count": 2,
   "metadata": {},
   "outputs": [],
   "source": [
    "ex2 = \"\"\"LLR\n",
    "\n",
    "AAA = (BBB, BBB)\n",
    "BBB = (AAA, ZZZ)\n",
    "ZZZ = (ZZZ, ZZZ)\"\"\""
   ]
  },
  {
   "cell_type": "code",
   "execution_count": 3,
   "metadata": {},
   "outputs": [],
   "source": [
    "d = open('day08.txt').read()"
   ]
  },
  {
   "cell_type": "code",
   "execution_count": 4,
   "metadata": {},
   "outputs": [],
   "source": [
    "def process_data(inp):\n",
    "    dir,network = inp.split('\\n\\n')\n",
    "    network = [(''.join(char for char in n if char.isalnum())) for n in network.splitlines()]\n",
    "    network = [[n[:3],n[3:6],n[6:]]for n in network]\n",
    "    lnet = dict() # dictionary of networks\n",
    "    rnet = dict()\n",
    "    for row in network:\n",
    "        lnet[row[0]] = row[1]\n",
    "        rnet[row[0]] = row[2]\n",
    "    return dir,lnet,rnet"
   ]
  },
  {
   "cell_type": "code",
   "execution_count": 5,
   "metadata": {},
   "outputs": [],
   "source": [
    "dir, lnet, rnet = process_data(ex1)"
   ]
  },
  {
   "cell_type": "code",
   "execution_count": 6,
   "metadata": {},
   "outputs": [],
   "source": [
    "def p1(inp):\n",
    "    dir, lnet, rnet = process_data(inp)\n",
    "    pos = \"AAA\"\n",
    "    destination = \"ZZZ\"\n",
    "    steps = 0\n",
    "    while pos != destination:\n",
    "        for direction in dir:\n",
    "            if direction == 'R':\n",
    "                pos = rnet[pos]\n",
    "            else:\n",
    "                pos = lnet[pos]\n",
    "            steps += 1 \n",
    "    return steps\n"
   ]
  },
  {
   "cell_type": "code",
   "execution_count": 7,
   "metadata": {},
   "outputs": [
    {
     "data": {
      "text/plain": [
       "18727"
      ]
     },
     "execution_count": 7,
     "metadata": {},
     "output_type": "execute_result"
    }
   ],
   "source": [
    "p1(d)"
   ]
  },
  {
   "cell_type": "markdown",
   "metadata": {},
   "source": [
    "# Part 2"
   ]
  },
  {
   "cell_type": "code",
   "execution_count": 123,
   "metadata": {},
   "outputs": [],
   "source": [
    "ex3 = \"\"\"LR\n",
    "\n",
    "11A = (11B, XXX)\n",
    "11B = (XXX, 11Z)\n",
    "11Z = (11B, XXX)\n",
    "22A = (22B, XXX)\n",
    "22B = (22C, 22C)\n",
    "22C = (22Z, 22Z)\n",
    "22Z = (22B, 22B)\n",
    "XXX = (XXX, XXX)\"\"\""
   ]
  },
  {
   "cell_type": "code",
   "execution_count": 9,
   "metadata": {},
   "outputs": [],
   "source": [
    "def process_data_2(inp):\n",
    "    dir,network = inp.split('\\n\\n')\n",
    "    network = [(''.join(char for char in n if char.isalnum())) for n in network.splitlines()]\n",
    "    network = [[n[:3],n[3:6],n[6:]]for n in network]\n",
    "    starters = [x[0] for x in network if x[0][2]== 'A']\n",
    "    lnet = dict() # dictionary of networks\n",
    "    rnet = dict()\n",
    "    for row in network:\n",
    "        lnet[row[0]] = row[1]\n",
    "        rnet[row[0]] = row[2]\n",
    "    return dir, lnet, rnet, starters\n"
   ]
  },
  {
   "cell_type": "code",
   "execution_count": 124,
   "metadata": {},
   "outputs": [],
   "source": [
    "def step(current_pos, direction, lnet, rnet):\n",
    "    if direction == 'R':\n",
    "        pos = rnet[current_pos]\n",
    "    else:\n",
    "        pos = lnet[current_pos]        \n",
    "    return pos"
   ]
  },
  {
   "cell_type": "code",
   "execution_count": 108,
   "metadata": {},
   "outputs": [],
   "source": [
    "# For each starting position, identify number of steps to get to a node ending in 'Z'. Twice - to check cycle. \n",
    "\n",
    "def p2(inp):\n",
    "    dir, lnet, rnet, position_list = process_data_2(inp)\n",
    "    results = []\n",
    "    for pos in position_list:\n",
    "        steps = 0\n",
    "        found = 0  \n",
    "        current_pos = pos\n",
    "        while found <2:\n",
    "            for direction in dir:\n",
    "                current_pos = step(current_pos, direction, lnet, rnet)\n",
    "                steps += 1\n",
    "                if current_pos[2] == \"Z\":  # Check if current_pos meets the condition\n",
    "                    results.append(steps)  # Append current_pos, not pos\n",
    "                    found = found + 1  # Set the flag to True as the condition is met\n",
    "                    break  # Break out of the inner for loop\n",
    "\n",
    "            if found == 2:\n",
    "                break  # Break out of the while loop\n",
    "\n",
    "    return results\n"
   ]
  },
  {
   "cell_type": "code",
   "execution_count": 109,
   "metadata": {},
   "outputs": [],
   "source": [
    "results = p2(d)"
   ]
  },
  {
   "cell_type": "code",
   "execution_count": 110,
   "metadata": {},
   "outputs": [
    {
     "data": {
      "text/plain": [
       "[22411,\n",
       " 44822,\n",
       " 18727,\n",
       " 37454,\n",
       " 24253,\n",
       " 48506,\n",
       " 14429,\n",
       " 28858,\n",
       " 16271,\n",
       " 32542,\n",
       " 20569,\n",
       " 41138]"
      ]
     },
     "execution_count": 110,
     "metadata": {},
     "output_type": "execute_result"
    }
   ],
   "source": [
    "results"
   ]
  },
  {
   "cell_type": "code",
   "execution_count": 111,
   "metadata": {},
   "outputs": [],
   "source": [
    "first = []\n",
    "cycle = []\n",
    "for i in range(0,6):\n",
    "    first.append(results[2*i])\n",
    "    cycle.append(results[(2*i)+1]- results[2*i])"
   ]
  },
  {
   "cell_type": "code",
   "execution_count": 127,
   "metadata": {},
   "outputs": [
    {
     "data": {
      "text/plain": [
       "[22411, 18727, 24253, 14429, 16271, 20569]"
      ]
     },
     "execution_count": 127,
     "metadata": {},
     "output_type": "execute_result"
    }
   ],
   "source": [
    "first"
   ]
  },
  {
   "cell_type": "code",
   "execution_count": 130,
   "metadata": {},
   "outputs": [
    {
     "data": {
      "text/plain": [
       "18024643846273"
      ]
     },
     "execution_count": 130,
     "metadata": {},
     "output_type": "execute_result"
    }
   ],
   "source": [
    "import math\n",
    "math.lcm(*first)"
   ]
  }
 ],
 "metadata": {
  "kernelspec": {
   "display_name": "Python 3",
   "language": "python",
   "name": "python3"
  },
  "language_info": {
   "codemirror_mode": {
    "name": "ipython",
    "version": 3
   },
   "file_extension": ".py",
   "mimetype": "text/x-python",
   "name": "python",
   "nbconvert_exporter": "python",
   "pygments_lexer": "ipython3",
   "version": "3.9.6"
  }
 },
 "nbformat": 4,
 "nbformat_minor": 2
}
