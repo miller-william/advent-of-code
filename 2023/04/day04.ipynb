{
 "cells": [
  {
   "cell_type": "markdown",
   "metadata": {},
   "source": [
    "# Day 4"
   ]
  },
  {
   "cell_type": "code",
   "execution_count": 309,
   "metadata": {},
   "outputs": [],
   "source": [
    "ex1 = \"\"\"Card 1: 41 48 83 86 17 | 83 86  6 31 17  9 48 53\n",
    "Card 2: 13 32 20 16 61 | 61 30 68 82 17 32 24 19\n",
    "Card 3:  1 21 53 59 44 | 69 82 63 72 16 21 14  1\n",
    "Card 4: 41 92 73 84 69 | 59 84 76 51 58  5 54 83\n",
    "Card 5: 87 83 26 28 32 | 88 30 70 12 93 22 82 36\n",
    "Card 6: 31 18 13 56 72 | 74 77 10 23 35 67 36 11\"\"\""
   ]
  },
  {
   "cell_type": "code",
   "execution_count": 310,
   "metadata": {},
   "outputs": [],
   "source": [
    "inp = open('day04.txt').read()\n",
    "#inp = ex1\n",
    "\n",
    "# World's biggest list comprehension - > transform input data into  list of two lists of numbers: [[card 1 winners], [card 1 numbers]], [etc]\n",
    "def process_data(inp):\n",
    "    return [ [[int(i) for i in x.split(\":\")[1].replace(\"  \",\" \").strip().split(\" \")],[int(i) for i in y.replace(\"  \",\" \").strip().split(\" \")]] for x,y in [x.split(\"|\") for x in inp.splitlines()]]"
   ]
  },
  {
   "cell_type": "code",
   "execution_count": 311,
   "metadata": {},
   "outputs": [],
   "source": [
    "processed_data = process_data(open('day04.txt').read())"
   ]
  },
  {
   "cell_type": "code",
   "execution_count": 312,
   "metadata": {},
   "outputs": [],
   "source": [
    "def p1(processed_data):\n",
    "    total_points = 0\n",
    "    for game in processed_data:\n",
    "        matches = 0\n",
    "        winners = set(game[0])\n",
    "        for num in game[1]:\n",
    "            if num in winners:\n",
    "                matches = matches + 1\n",
    "        if matches > 0:\n",
    "            total_points = total_points + (2 ** (matches-1))\n",
    "    return total_points"
   ]
  },
  {
   "cell_type": "code",
   "execution_count": 313,
   "metadata": {},
   "outputs": [
    {
     "data": {
      "text/plain": [
       "13"
      ]
     },
     "execution_count": 313,
     "metadata": {},
     "output_type": "execute_result"
    }
   ],
   "source": [
    "#example\n",
    "p1(process_data(ex1))"
   ]
  },
  {
   "cell_type": "code",
   "execution_count": 314,
   "metadata": {},
   "outputs": [
    {
     "data": {
      "text/plain": [
       "32001"
      ]
     },
     "execution_count": 314,
     "metadata": {},
     "output_type": "execute_result"
    }
   ],
   "source": [
    "# p1 answer\n",
    "p1(processed_data)"
   ]
  },
  {
   "cell_type": "code",
   "execution_count": 315,
   "metadata": {},
   "outputs": [],
   "source": [
    "# Part 2"
   ]
  },
  {
   "cell_type": "code",
   "execution_count": 316,
   "metadata": {},
   "outputs": [],
   "source": [
    "# Store all card results in results_dict\n",
    "results_dict = {}\n",
    "for i in range(0,len(processed_data)):\n",
    "    game = processed_data[i]\n",
    "    matches = 0\n",
    "    winners = set(game[0])\n",
    "    for num in game[1]:\n",
    "        if num in winners:\n",
    "            matches = matches + 1\n",
    "    results_dict[i] = matches"
   ]
  },
  {
   "cell_type": "code",
   "execution_count": 329,
   "metadata": {},
   "outputs": [],
   "source": []
  },
  {
   "cell_type": "code",
   "execution_count": 330,
   "metadata": {},
   "outputs": [],
   "source": []
  },
  {
   "cell_type": "code",
   "execution_count": 333,
   "metadata": {},
   "outputs": [],
   "source": [
    "def p2(inp):\n",
    "\n",
    "    cards_to_play = list(range(0,len(inp.splitlines()))) # dynamic list of cards we need to play. we will remove from this list as we play. and add the winning card copies as needed\n",
    "    card_max = len(inp.splitlines()) - 1 # max card index\n",
    "    total_cards = len(cards_to_play) # initialising our number of cards\n",
    "\n",
    "    while cards_to_play:\n",
    "        current_game = cards_to_play.pop() # pop out a card and play it!\n",
    "        matches = results_dict[current_game] # look up result for this card\n",
    "\n",
    "        if matches > 0: # don't do anything if the card doesn't have at least one win\n",
    "            copied_cards = list(range(current_game + 1, min((current_game + 1 + matches), card_max) )) # list of the copies of cards from our current game wins that we will need to play\n",
    "            total_cards = total_cards + matches # total number of cards we will play has increased\n",
    "            cards_to_play = cards_to_play + copied_cards # new list of cards we need to play\n",
    "    \n",
    "    return total_cards\n",
    "        "
   ]
  },
  {
   "cell_type": "code",
   "execution_count": 334,
   "metadata": {},
   "outputs": [
    {
     "data": {
      "text/plain": [
       "5037841"
      ]
     },
     "execution_count": 334,
     "metadata": {},
     "output_type": "execute_result"
    }
   ],
   "source": [
    "p2(inp)"
   ]
  },
  {
   "cell_type": "code",
   "execution_count": null,
   "metadata": {},
   "outputs": [],
   "source": []
  }
 ],
 "metadata": {
  "kernelspec": {
   "display_name": "Python 3",
   "language": "python",
   "name": "python3"
  },
  "language_info": {
   "name": "python",
   "version": "3.9.6"
  }
 },
 "nbformat": 4,
 "nbformat_minor": 2
}
