{
 "cells": [
  {
   "cell_type": "markdown",
   "metadata": {},
   "source": [
    "# Day 07"
   ]
  },
  {
   "cell_type": "code",
   "execution_count": 299,
   "metadata": {},
   "outputs": [],
   "source": [
    "ex1 = \"\"\"32T3K 765\n",
    "T55J5 684\n",
    "KK677 28\n",
    "KTJJT 220\n",
    "QQQJA 483\"\"\""
   ]
  },
  {
   "cell_type": "code",
   "execution_count": 137,
   "metadata": {},
   "outputs": [],
   "source": [
    "d = open(\"day07.txt\").read()"
   ]
  },
  {
   "cell_type": "code",
   "execution_count": 15,
   "metadata": {},
   "outputs": [],
   "source": [
    "def process_data(inp):\n",
    "    return [[i,int(j)] for i,j in [a.split() for a in inp.splitlines()]]"
   ]
  },
  {
   "cell_type": "code",
   "execution_count": 16,
   "metadata": {},
   "outputs": [
    {
     "data": {
      "text/plain": [
       "[['32T3K', 765], ['T55J5', 684], ['KK677', 28], ['KTJJT', 220], ['QQQJA', 483]]"
      ]
     },
     "execution_count": 16,
     "metadata": {},
     "output_type": "execute_result"
    }
   ],
   "source": [
    "process_data(ex1)"
   ]
  },
  {
   "cell_type": "markdown",
   "metadata": {},
   "source": [
    "## Type check functions"
   ]
  },
  {
   "cell_type": "code",
   "execution_count": 21,
   "metadata": {},
   "outputs": [],
   "source": [
    "def five(h):\n",
    "    return(len(set(h)) == 1)"
   ]
  },
  {
   "cell_type": "code",
   "execution_count": 29,
   "metadata": {},
   "outputs": [],
   "source": [
    "def four(h):\n",
    "    cards = set(h)\n",
    "    if len(cards) == 2:\n",
    "        for c in cards:\n",
    "            if h.count(c) == 4:\n",
    "                return True\n",
    "    return False"
   ]
  },
  {
   "cell_type": "code",
   "execution_count": 44,
   "metadata": {},
   "outputs": [],
   "source": [
    "def full_h(h):\n",
    "    cards = set(h)\n",
    "    if len(cards) == 2:\n",
    "        for c in cards:\n",
    "            if h.count(c) == 3:\n",
    "                return True    \n",
    "    return False"
   ]
  },
  {
   "cell_type": "code",
   "execution_count": 49,
   "metadata": {},
   "outputs": [],
   "source": [
    "def three(h):\n",
    "    cards = set(h)\n",
    "    if len(cards) == 3:\n",
    "        for c in cards:\n",
    "            if h.count(c) == 3:\n",
    "                return True\n",
    "    return False        "
   ]
  },
  {
   "cell_type": "code",
   "execution_count": 62,
   "metadata": {},
   "outputs": [],
   "source": [
    "def two(h):\n",
    "    cards = set(h)\n",
    "    if len(cards) == 3:\n",
    "        for c in cards:\n",
    "            if h.count(c) == 2:\n",
    "                return True\n",
    "    return False\n"
   ]
  },
  {
   "cell_type": "code",
   "execution_count": 83,
   "metadata": {},
   "outputs": [],
   "source": [
    "def one(h):\n",
    "    cards = set(h)\n",
    "    if len(cards) == 4:\n",
    "        return True\n",
    "    return False"
   ]
  },
  {
   "cell_type": "code",
   "execution_count": 198,
   "metadata": {},
   "outputs": [],
   "source": [
    "def strength(h):\n",
    "    cstring = 'AKQJT98765432'\n",
    "    score = \"\"\n",
    "    for c in h:\n",
    "        loc_score = str(cstring.find(c))\n",
    "        if len(loc_score) == 1:\n",
    "            loc_score = \"0\" + loc_score\n",
    "        score = score + loc_score\n",
    "    return int(score)\n"
   ]
  },
  {
   "cell_type": "code",
   "execution_count": 203,
   "metadata": {},
   "outputs": [],
   "source": [
    "def custom_sort(data):\n",
    "    h,bid = data\n",
    "    return (five(h), four(h), full_h(h), three(h), two(h) ,one(h), -strength(h))"
   ]
  },
  {
   "cell_type": "code",
   "execution_count": 207,
   "metadata": {},
   "outputs": [],
   "source": [
    "def p1(inp):\n",
    "    data = process_data(inp)\n",
    "    # Sort using custom function\n",
    "    data.sort(key=custom_sort)\n",
    "    ans = 0\n",
    "    for i,[hand,bid] in enumerate(data):\n",
    "        ans = ans + ((i+1)*bid)\n",
    "    return ans\n",
    "\n"
   ]
  },
  {
   "cell_type": "code",
   "execution_count": 208,
   "metadata": {},
   "outputs": [
    {
     "data": {
      "text/plain": [
       "6440"
      ]
     },
     "execution_count": 208,
     "metadata": {},
     "output_type": "execute_result"
    }
   ],
   "source": [
    "p1(ex1)"
   ]
  },
  {
   "cell_type": "code",
   "execution_count": 209,
   "metadata": {},
   "outputs": [
    {
     "data": {
      "text/plain": [
       "246409899"
      ]
     },
     "execution_count": 209,
     "metadata": {},
     "output_type": "execute_result"
    }
   ],
   "source": [
    "p1(d)"
   ]
  },
  {
   "cell_type": "markdown",
   "metadata": {},
   "source": [
    "## Part 2\n",
    "Need to change basically all my functions from part 1 :) "
   ]
  },
  {
   "cell_type": "code",
   "execution_count": 410,
   "metadata": {},
   "outputs": [],
   "source": [
    "# This is a simple one - just moving J\n",
    "def strength(h):\n",
    "    cstring = 'AKQT98765432J'\n",
    "    score = \"\"\n",
    "    for c in h:\n",
    "        loc_score = str(cstring.find(c))\n",
    "        if len(loc_score) == 1:\n",
    "            loc_score = \"0\" + loc_score\n",
    "        score = score + loc_score\n",
    "    return int(score)"
   ]
  },
  {
   "cell_type": "code",
   "execution_count": 419,
   "metadata": {},
   "outputs": [],
   "source": [
    "def five(h):\n",
    "    if \"J\" in set(h) and len(set(h)) >1:\n",
    "        return(len(set(h)) == 2)\n",
    "    return(len(set(h)) == 1)\n",
    "\n",
    "def four(h):\n",
    "    if five(h):\n",
    "        return False\n",
    "    cards = set(h)\n",
    "    if \"J\" in cards:\n",
    "        jc = h.count(\"J\")\n",
    "        if len(cards) == 3:\n",
    "            cards.remove(\"J\")\n",
    "            for c in cards:\n",
    "                if h.count(c) == (4-jc):\n",
    "                    return True\n",
    "        return False    \n",
    "\n",
    "    if len(cards) == 2:\n",
    "        for c in cards:\n",
    "            if h.count(c) == 4:\n",
    "                return True\n",
    "    return False\n",
    "\n",
    "# JAABB\n",
    "\n",
    "def full_h(h):\n",
    "    if five(h) or four(h):\n",
    "        return False\n",
    "    cards = set(h)\n",
    "    if \"J\" in cards:\n",
    "        if four(h):\n",
    "            return False\n",
    "        jc = h.count(\"J\")\n",
    "        if len(cards) == 3:\n",
    "            for c in cards:\n",
    "                if h.count(c) == (3-jc):\n",
    "                    return True    \n",
    "        return False\n",
    "\n",
    "    if len(cards) == 2:\n",
    "        for c in cards:\n",
    "            if h.count(c) == 3:\n",
    "                return True    \n",
    "    return False\n",
    "\n",
    "def three(h):\n",
    "    if five(h) or four(h) or full_h(h):\n",
    "        return False\n",
    "    cards = set(h)\n",
    "    if \"J\" in cards:\n",
    "        jc = h.count(\"J\")\n",
    "        if len(cards) == 4:\n",
    "            for c in cards:\n",
    "                if h.count(c) == (3-jc):\n",
    "                    return True\n",
    "        return False   \n",
    "\n",
    "    if len(cards) == 3:\n",
    "        for c in cards:\n",
    "            if h.count(c) == 3:\n",
    "                return True\n",
    "    return False     \n",
    "\n",
    "def two(h):\n",
    "    if five(h) or four(h) or full_h(h) or three(h):\n",
    "        return False\n",
    "    cards = set(h)\n",
    "    if \"J\" in cards:\n",
    "        if len(cards) == 4:\n",
    "            for c in cards:\n",
    "                if h.count(c) == 2:\n",
    "                    return True\n",
    "        return False\n",
    "\n",
    "    if len(cards) == 3:\n",
    "        for c in cards:\n",
    "            if h.count(c) == 2:\n",
    "                return True\n",
    "    return False\n",
    "\n",
    "def one(h):\n",
    "    if five(h) or four(h) or full_h(h) or three(h) or two(h):\n",
    "        return False\n",
    "    cards = set(h)\n",
    "    if \"J\" in cards:\n",
    "        return True\n",
    "    if len(cards) == 4:\n",
    "        return True\n",
    "    return False"
   ]
  },
  {
   "cell_type": "code",
   "execution_count": 420,
   "metadata": {},
   "outputs": [],
   "source": [
    "def custom_sort(data):\n",
    "    h,bid = data\n",
    "    return (five(h), four(h), full_h(h), three(h), two(h) ,one(h), -strength(h))"
   ]
  },
  {
   "cell_type": "code",
   "execution_count": 421,
   "metadata": {},
   "outputs": [],
   "source": [
    "def p2(inp):\n",
    "    data = process_data(inp)\n",
    "    # Sort using custom function\n",
    "    data.sort(key=custom_sort)\n",
    "    ans = 0\n",
    "    for i,[hand,bid] in enumerate(data):\n",
    "        ans = ans + ((i+1)*bid)\n",
    "    return ans"
   ]
  },
  {
   "cell_type": "code",
   "execution_count": 422,
   "metadata": {},
   "outputs": [
    {
     "data": {
      "text/plain": [
       "5905"
      ]
     },
     "execution_count": 422,
     "metadata": {},
     "output_type": "execute_result"
    }
   ],
   "source": [
    "p2(ex1)"
   ]
  },
  {
   "cell_type": "code",
   "execution_count": 423,
   "metadata": {},
   "outputs": [
    {
     "data": {
      "text/plain": [
       "244848487"
      ]
     },
     "execution_count": 423,
     "metadata": {},
     "output_type": "execute_result"
    }
   ],
   "source": [
    "p2(d)"
   ]
  }
 ],
 "metadata": {
  "kernelspec": {
   "display_name": "Python 3",
   "language": "python",
   "name": "python3"
  },
  "language_info": {
   "codemirror_mode": {
    "name": "ipython",
    "version": 3
   },
   "file_extension": ".py",
   "mimetype": "text/x-python",
   "name": "python",
   "nbconvert_exporter": "python",
   "pygments_lexer": "ipython3",
   "version": "3.9.6"
  }
 },
 "nbformat": 4,
 "nbformat_minor": 2
}
