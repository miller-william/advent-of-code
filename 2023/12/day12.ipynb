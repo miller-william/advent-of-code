{
 "cells": [
  {
   "cell_type": "markdown",
   "metadata": {},
   "source": [
    "# Day 12"
   ]
  },
  {
   "cell_type": "code",
   "execution_count": 1,
   "metadata": {},
   "outputs": [],
   "source": [
    "ex1 = \"\"\"???.### 1,1,3\n",
    ".??..??...?##. 1,1,3\n",
    "?#?#?#?#?#?#?#? 1,3,1,6\n",
    "????.#...#... 4,1,1\n",
    "????.######..#####. 1,6,5\n",
    "?###???????? 3,2,1\"\"\""
   ]
  },
  {
   "cell_type": "code",
   "execution_count": 2,
   "metadata": {},
   "outputs": [],
   "source": [
    "d = open('day12.txt').read()"
   ]
  },
  {
   "cell_type": "code",
   "execution_count": 3,
   "metadata": {},
   "outputs": [],
   "source": [
    "# calculate permutations but with constraint on number of # \n",
    "# for each valid permutation, check if it also meets the criteria"
   ]
  },
  {
   "cell_type": "code",
   "execution_count": 4,
   "metadata": {},
   "outputs": [
    {
     "name": "stdout",
     "output_type": "stream",
     "text": [
      "True\n"
     ]
    },
    {
     "data": {
      "text/plain": [
       "[1, 2, 3]"
      ]
     },
     "execution_count": 4,
     "metadata": {},
     "output_type": "execute_result"
    }
   ],
   "source": [
    "import re\n",
    "\n",
    "def check_valid(spring,check):\n",
    "    return [len(x) for x in re.split(r'\\.+', spring) if x] == check\n",
    "\n",
    "#test\n",
    "print(check_valid('###.....#..#',[3,1,1]))\n",
    "\n",
    "def string_to_int_list(string):\n",
    "    return[int(x) for x in string.split(',')]\n",
    "\n",
    "string_to_int_list('1,2,3')\n",
    "\n"
   ]
  },
  {
   "cell_type": "code",
   "execution_count": 5,
   "metadata": {},
   "outputs": [],
   "source": [
    "def replace_char_at_index(string, index, character):\n",
    "    if index < 0 or index >= len(string):\n",
    "        return string  # No change if index is out of range\n",
    "    return string[:index] + character + string[index+1:]"
   ]
  },
  {
   "cell_type": "code",
   "execution_count": 6,
   "metadata": {},
   "outputs": [
    {
     "data": {
      "text/plain": [
       "[['???.###', [1, 1, 3]],\n",
       " ['.??..??...?##.', [1, 1, 3]],\n",
       " ['?#?#?#?#?#?#?#?', [1, 3, 1, 6]],\n",
       " ['????.#...#...', [4, 1, 1]],\n",
       " ['????.######..#####.', [1, 6, 5]],\n",
       " ['?###????????', [3, 2, 1]]]"
      ]
     },
     "execution_count": 6,
     "metadata": {},
     "output_type": "execute_result"
    }
   ],
   "source": [
    "def process_data(inp):\n",
    "        return [[a,string_to_int_list(b)] for a,b in [x.split() for x in inp.splitlines()]]\n",
    "\n",
    "process_data(ex1)"
   ]
  },
  {
   "cell_type": "code",
   "execution_count": 7,
   "metadata": {},
   "outputs": [
    {
     "data": {
      "text/plain": [
       "123"
      ]
     },
     "execution_count": 7,
     "metadata": {},
     "output_type": "execute_result"
    }
   ],
   "source": [
    "len(ex1)"
   ]
  },
  {
   "cell_type": "code",
   "execution_count": 8,
   "metadata": {},
   "outputs": [],
   "source": [
    "import itertools\n",
    "\n",
    "def possibles(row):\n",
    "    possibles = 0\n",
    "    spring, check = row\n",
    "    missing_spring = sum(check) - spring.count('#')\n",
    "    slots = spring.count(\"?\")\n",
    "    combinations = itertools.product([0, 1], repeat=slots)\n",
    "    vectors = [x for x in combinations if sum(x) == missing_spring]\n",
    "    for v in vectors:\n",
    "        testing = spring\n",
    "        for i in v:\n",
    "            choice = \".\"\n",
    "            if i == 1:\n",
    "                choice = \"#\" \n",
    "            next_Q = testing.find('?')\n",
    "            testing = replace_char_at_index(testing, next_Q, choice)\n",
    "        if check_valid(testing,check):\n",
    "            possibles += 1\n",
    "    return possibles\n"
   ]
  },
  {
   "cell_type": "code",
   "execution_count": 9,
   "metadata": {},
   "outputs": [],
   "source": [
    "def p1(inp):\n",
    "    ans = 0\n",
    "    for row in process_data(inp):\n",
    "        ans = ans + possibles(row)\n",
    "    return ans"
   ]
  },
  {
   "cell_type": "code",
   "execution_count": 11,
   "metadata": {},
   "outputs": [
    {
     "data": {
      "text/plain": [
       "7344"
      ]
     },
     "execution_count": 11,
     "metadata": {},
     "output_type": "execute_result"
    }
   ],
   "source": [
    "p1(d)"
   ]
  },
  {
   "cell_type": "markdown",
   "metadata": {},
   "source": [
    "# Part 2"
   ]
  },
  {
   "cell_type": "code",
   "execution_count": 12,
   "metadata": {},
   "outputs": [],
   "source": [
    "def expand_data(spring, check):\n",
    "    return (\"?\".join([spring] * 5)) , 5 * check\n"
   ]
  },
  {
   "cell_type": "code",
   "execution_count": 14,
   "metadata": {},
   "outputs": [
    {
     "data": {
      "text/plain": [
       "[('???.###????.###????.###????.###????.###',\n",
       "  [1, 1, 3, 1, 1, 3, 1, 1, 3, 1, 1, 3, 1, 1, 3]),\n",
       " ('.??..??...?##.?.??..??...?##.?.??..??...?##.?.??..??...?##.?.??..??...?##.',\n",
       "  [1, 1, 3, 1, 1, 3, 1, 1, 3, 1, 1, 3, 1, 1, 3]),\n",
       " ('?#?#?#?#?#?#?#???#?#?#?#?#?#?#???#?#?#?#?#?#?#???#?#?#?#?#?#?#???#?#?#?#?#?#?#?',\n",
       "  [1, 3, 1, 6, 1, 3, 1, 6, 1, 3, 1, 6, 1, 3, 1, 6, 1, 3, 1, 6]),\n",
       " ('????.#...#...?????.#...#...?????.#...#...?????.#...#...?????.#...#...',\n",
       "  [4, 1, 1, 4, 1, 1, 4, 1, 1, 4, 1, 1, 4, 1, 1]),\n",
       " ('????.######..#####.?????.######..#####.?????.######..#####.?????.######..#####.?????.######..#####.',\n",
       "  [1, 6, 5, 1, 6, 5, 1, 6, 5, 1, 6, 5, 1, 6, 5]),\n",
       " ('?###??????????###??????????###??????????###??????????###????????',\n",
       "  [3, 2, 1, 3, 2, 1, 3, 2, 1, 3, 2, 1, 3, 2, 1])]"
      ]
     },
     "execution_count": 14,
     "metadata": {},
     "output_type": "execute_result"
    }
   ],
   "source": [
    "[expand_data(a,b) for a,b in  process_data(ex1)]"
   ]
  },
  {
   "cell_type": "code",
   "execution_count": 19,
   "metadata": {},
   "outputs": [],
   "source": [
    "# char_id = current character position\n",
    "# curr_group = which item in check we are completing\n",
    "# curr_group_len = how many #s we have toward our current group\n",
    "\n",
    "from functools import cache\n",
    "\n",
    "@cache\n",
    "def get_arrangements(spring, check, char_id, curr_group, curr_group_len):\n",
    "    count = 0\n",
    "\n",
    "    # base case\n",
    "    if char_id == len(spring): # processed all the characters\n",
    "        if curr_group == len(check) and curr_group_len == 0:\n",
    "            return 1\n",
    "        elif curr_group == len(check) - 1 and check[curr_group] == curr_group_len:\n",
    "            return 1\n",
    "        else:\n",
    "            return 0 \n",
    "        \n",
    "    # process each character\n",
    "    for char in '#.':\n",
    "        if spring[char_id] in [char,'?']:\n",
    "            if char == '.': \n",
    "                if curr_group_len == 0: # not on a group of #, so just adding a .\n",
    "                    count += get_arrangements(spring, check, char_id+1, curr_group, 0) # just move to next character\n",
    "                elif (curr_group < len(check) and curr_group_len == check[curr_group]): # put a . after a complete group of #\n",
    "                    count += get_arrangements(spring, check, char_id+1, curr_group + 1, 0) # move on a character and move to next group\n",
    "            else: # adding a '#' so group length increases\n",
    "                count += get_arrangements(spring, check, char_id+1, curr_group, curr_group_len + 1)\n",
    "\n",
    "    return count"
   ]
  },
  {
   "cell_type": "code",
   "execution_count": 24,
   "metadata": {},
   "outputs": [],
   "source": [
    "def p2(inp):\n",
    "    ans = 0\n",
    "    for spring,check in [expand_data(a,b) for a,b in  process_data(inp)]:\n",
    "        ans = ans + get_arrangements(tuple(spring), tuple(check), 0, 0, 0)\n",
    "    return ans"
   ]
  },
  {
   "cell_type": "code",
   "execution_count": 25,
   "metadata": {},
   "outputs": [
    {
     "data": {
      "text/plain": [
       "525152"
      ]
     },
     "execution_count": 25,
     "metadata": {},
     "output_type": "execute_result"
    }
   ],
   "source": [
    "p2(ex1)"
   ]
  },
  {
   "cell_type": "code",
   "execution_count": 26,
   "metadata": {},
   "outputs": [
    {
     "data": {
      "text/plain": [
       "1088006519007"
      ]
     },
     "execution_count": 26,
     "metadata": {},
     "output_type": "execute_result"
    }
   ],
   "source": [
    "p2(d)"
   ]
  }
 ],
 "metadata": {
  "kernelspec": {
   "display_name": "Python 3",
   "language": "python",
   "name": "python3"
  },
  "language_info": {
   "codemirror_mode": {
    "name": "ipython",
    "version": 3
   },
   "file_extension": ".py",
   "mimetype": "text/x-python",
   "name": "python",
   "nbconvert_exporter": "python",
   "pygments_lexer": "ipython3",
   "version": "3.9.6"
  }
 },
 "nbformat": 4,
 "nbformat_minor": 2
}
