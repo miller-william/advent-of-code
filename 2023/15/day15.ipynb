{
 "cells": [
  {
   "cell_type": "markdown",
   "metadata": {},
   "source": [
    "Determine the ASCII code for the current character of the string.\n",
    "Increase the current value by the ASCII code you just determined.\n",
    "Set the current value to itself multiplied by 17.\n",
    "Set the current value to the remainder of dividing itself by 256."
   ]
  },
  {
   "cell_type": "code",
   "execution_count": 194,
   "metadata": {},
   "outputs": [
    {
     "data": {
      "text/plain": [
       "72"
      ]
     },
     "execution_count": 194,
     "metadata": {},
     "output_type": "execute_result"
    }
   ],
   "source": [
    "ord('H')"
   ]
  },
  {
   "cell_type": "code",
   "execution_count": 195,
   "metadata": {},
   "outputs": [],
   "source": [
    "ex1 = \"\"\"rn=1,cm-,qp=3,cm=2,qp-,pc=4,ot=9,ab=5,pc-,pc=6,ot=7\"\"\""
   ]
  },
  {
   "cell_type": "code",
   "execution_count": 196,
   "metadata": {},
   "outputs": [],
   "source": [
    "d = open('day15.txt').read()"
   ]
  },
  {
   "cell_type": "code",
   "execution_count": 197,
   "metadata": {},
   "outputs": [],
   "source": [
    "def process_seq(seq):\n",
    "    score = 0 \n",
    "    for char in seq:\n",
    "        score = score + ord(char)\n",
    "        score = score * 17 \n",
    "        score = score % 256\n",
    "    return score"
   ]
  },
  {
   "cell_type": "code",
   "execution_count": 198,
   "metadata": {},
   "outputs": [],
   "source": [
    "def p1(inp):\n",
    "    ans = 0\n",
    "    for seq in inp.split(','):\n",
    "        ans = ans + process_seq(seq)\n",
    "    return ans"
   ]
  },
  {
   "cell_type": "code",
   "execution_count": 199,
   "metadata": {},
   "outputs": [
    {
     "data": {
      "text/plain": [
       "1320"
      ]
     },
     "execution_count": 199,
     "metadata": {},
     "output_type": "execute_result"
    }
   ],
   "source": [
    "p1(ex1)"
   ]
  },
  {
   "cell_type": "code",
   "execution_count": 200,
   "metadata": {},
   "outputs": [
    {
     "data": {
      "text/plain": [
       "507666"
      ]
     },
     "execution_count": 200,
     "metadata": {},
     "output_type": "execute_result"
    }
   ],
   "source": [
    "p1(d)"
   ]
  },
  {
   "cell_type": "markdown",
   "metadata": {},
   "source": [
    "# Part 2"
   ]
  },
  {
   "cell_type": "code",
   "execution_count": 248,
   "metadata": {},
   "outputs": [],
   "source": [
    "# process instruction\n",
    "def operation(pattern, boxes):\n",
    "    if \"=\" in pattern:\n",
    "        label, focal_length = pattern.split('=')\n",
    "        box_num = process_seq(label)\n",
    "        boxes[box_num][label] = int(focal_length)\n",
    "    \n",
    "    else: #pattern must have a '-' so delete any existing lens\n",
    "        label = pattern[:-1]\n",
    "        box_num = process_seq(label)\n",
    "        boxes[box_num].pop(label, None)\n",
    "    return boxes"
   ]
  },
  {
   "cell_type": "code",
   "execution_count": 265,
   "metadata": {},
   "outputs": [],
   "source": [
    "def score_boxes(boxes):\n",
    "    score = 0\n",
    "    for box_num, box in enumerate(boxes):\n",
    "        for lens_num, (pattern, focal_length) in enumerate(box.items()):\n",
    "            score += ((box_num+1) * (lens_num+1) * focal_length)\n",
    "    return score"
   ]
  },
  {
   "cell_type": "code",
   "execution_count": 267,
   "metadata": {},
   "outputs": [],
   "source": [
    "def p2(inp):\n",
    "    boxes = [{} for _ in range(256)] # set up 256 dicts to represent the boxes\n",
    "\n",
    "    for pattern in inp.split(','):\n",
    "        boxes = operation(pattern,boxes)\n",
    "    \n",
    "    return score_boxes(boxes)"
   ]
  },
  {
   "cell_type": "code",
   "execution_count": 268,
   "metadata": {},
   "outputs": [
    {
     "data": {
      "text/plain": [
       "145"
      ]
     },
     "execution_count": 268,
     "metadata": {},
     "output_type": "execute_result"
    }
   ],
   "source": [
    "p2(ex1)"
   ]
  },
  {
   "cell_type": "code",
   "execution_count": 269,
   "metadata": {},
   "outputs": [
    {
     "data": {
      "text/plain": [
       "233537"
      ]
     },
     "execution_count": 269,
     "metadata": {},
     "output_type": "execute_result"
    }
   ],
   "source": [
    "p2(d)"
   ]
  }
 ],
 "metadata": {
  "kernelspec": {
   "display_name": "Python 3",
   "language": "python",
   "name": "python3"
  },
  "language_info": {
   "codemirror_mode": {
    "name": "ipython",
    "version": 3
   },
   "file_extension": ".py",
   "mimetype": "text/x-python",
   "name": "python",
   "nbconvert_exporter": "python",
   "pygments_lexer": "ipython3",
   "version": "3.9.6"
  }
 },
 "nbformat": 4,
 "nbformat_minor": 2
}
