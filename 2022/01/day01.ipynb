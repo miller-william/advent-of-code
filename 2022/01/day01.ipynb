{
 "cells": [
  {
   "cell_type": "markdown",
   "id": "4b76f42a-1e2c-4cc3-8f1c-38516d250fd6",
   "metadata": {},
   "source": [
    "# Advent of Code 2022 - Day 1"
   ]
  },
  {
   "cell_type": "code",
   "execution_count": 1,
   "id": "91b3f776-566c-45c1-958d-6e188f56e347",
   "metadata": {},
   "outputs": [],
   "source": [
    "def part_1(s):\n",
    "    elf_total = 0\n",
    "    elves = []\n",
    "    for x in s.splitlines():\n",
    "        if x != \"\":\n",
    "            elf_total = elf_total + int(x)\n",
    "        else:\n",
    "            elves.append(elf_total)\n",
    "            elf_total = 0\n",
    "    elves.append(elf_total)\n",
    "    elf_total = 0\n",
    "    return(max(elves))"
   ]
  },
  {
   "cell_type": "code",
   "execution_count": 2,
   "id": "de9a1359-1f2e-4706-a275-47834405e96e",
   "metadata": {},
   "outputs": [],
   "source": [
    "test=\"\"\"1000\n",
    "2000\n",
    "3000\n",
    "\n",
    "4000\n",
    "\n",
    "5000\n",
    "6000\n",
    "\n",
    "7000\n",
    "8000\n",
    "9000\n",
    "\n",
    "10000\n",
    "\"\"\""
   ]
  },
  {
   "cell_type": "code",
   "execution_count": 3,
   "id": "dd4bd724-e34a-487f-9ebf-37288b6697f7",
   "metadata": {},
   "outputs": [
    {
     "data": {
      "text/plain": [
       "True"
      ]
     },
     "execution_count": 3,
     "metadata": {},
     "output_type": "execute_result"
    }
   ],
   "source": [
    "part_1(test) == 24000"
   ]
  },
  {
   "cell_type": "code",
   "execution_count": 4,
   "id": "9eba0e99-ace0-4ee0-8f89-52df4cc6b5f5",
   "metadata": {},
   "outputs": [
    {
     "data": {
      "text/plain": [
       "71924"
      ]
     },
     "execution_count": 4,
     "metadata": {},
     "output_type": "execute_result"
    }
   ],
   "source": [
    "part_1(open('input.txt', 'r').read())"
   ]
  },
  {
   "cell_type": "markdown",
   "id": "776df42a-1d52-4a06-b3b4-14fdadec7305",
   "metadata": {},
   "source": [
    "## Part 2"
   ]
  },
  {
   "cell_type": "code",
   "execution_count": 5,
   "id": "a52933bb-1cfb-4593-87f3-1cad3035d4f3",
   "metadata": {},
   "outputs": [],
   "source": [
    "def part_2(s):\n",
    "    elf_total = 0\n",
    "    elves = []\n",
    "    for x in s.splitlines():\n",
    "        if x != \"\":\n",
    "            elf_total = elf_total + int(x)\n",
    "        else:\n",
    "            elves.append(elf_total)\n",
    "            elf_total = 0\n",
    "    elves.append(elf_total)\n",
    "    elf_total = 0\n",
    "    elves.sort()\n",
    "    return(sum(elves[-3:]))"
   ]
  },
  {
   "cell_type": "code",
   "execution_count": 6,
   "id": "8292a4f7-2bda-4572-8216-09e98b26e712",
   "metadata": {},
   "outputs": [
    {
     "data": {
      "text/plain": [
       "True"
      ]
     },
     "execution_count": 6,
     "metadata": {},
     "output_type": "execute_result"
    }
   ],
   "source": [
    "part_2(test) == 45000"
   ]
  },
  {
   "cell_type": "code",
   "execution_count": 7,
   "id": "29b5cc31-a133-42dc-b2b1-46bb16db9450",
   "metadata": {},
   "outputs": [
    {
     "data": {
      "text/plain": [
       "210406"
      ]
     },
     "execution_count": 7,
     "metadata": {},
     "output_type": "execute_result"
    }
   ],
   "source": [
    "part_2(open('input.txt', 'r').read())"
   ]
  },
  {
   "cell_type": "code",
   "execution_count": null,
   "id": "d2236e37-aac6-486d-880e-b30139be9532",
   "metadata": {},
   "outputs": [],
   "source": []
  }
 ],
 "metadata": {
  "kernelspec": {
   "display_name": "Prisoid Academy",
   "language": "python",
   "name": "venvname"
  },
  "language_info": {
   "codemirror_mode": {
    "name": "ipython",
    "version": 3
   },
   "file_extension": ".py",
   "mimetype": "text/x-python",
   "name": "python",
   "nbconvert_exporter": "python",
   "pygments_lexer": "ipython3",
   "version": "3.9.6"
  }
 },
 "nbformat": 4,
 "nbformat_minor": 5
}
