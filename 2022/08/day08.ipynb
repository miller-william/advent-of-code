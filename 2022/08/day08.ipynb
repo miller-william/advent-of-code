{
 "cells": [
  {
   "cell_type": "code",
   "execution_count": null,
   "id": "e0ee19c8-cdba-4dc5-850a-da7def33fa72",
   "metadata": {},
   "outputs": [],
   "source": [
    "test_input = \"\"\"30373\n",
    "25512\n",
    "65332\n",
    "33549\n",
    "35390\"\"\""
   ]
  },
  {
   "cell_type": "code",
   "execution_count": null,
   "id": "a6fdf236-5468-43c0-887a-807f61a9c31b",
   "metadata": {},
   "outputs": [],
   "source": [
    "inp = open(\"input.txt\",\"r\").read()"
   ]
  },
  {
   "cell_type": "code",
   "execution_count": null,
   "id": "0c65bbf5-102f-4117-bf90-db09eb5169a3",
   "metadata": {},
   "outputs": [],
   "source": [
    "d = [[int(x) for x in y] for y in test_input.splitlines()]"
   ]
  },
  {
   "cell_type": "code",
   "execution_count": null,
   "id": "876277d5-391b-48be-b6bd-e9ab82fe481b",
   "metadata": {},
   "outputs": [],
   "source": [
    "d = [[int(x) for x in y] for y in inp.splitlines()]"
   ]
  },
  {
   "cell_type": "markdown",
   "id": "315f67ae-0942-4a57-95ae-bd16419e7241",
   "metadata": {},
   "source": [
    "## Part 1"
   ]
  },
  {
   "cell_type": "code",
   "execution_count": null,
   "id": "7ee9b552-e409-4426-a634-e1717df2cae6",
   "metadata": {},
   "outputs": [],
   "source": [
    "def check_direction(i,j,d,direction):\n",
    "    height = d[i][j]\n",
    "    if direction in ['u','d']:\n",
    "        iterate = i\n",
    "    if direction in ['l','r']:\n",
    "        iterate = j\n",
    "    if direction in ['d','r']:\n",
    "        step = 1\n",
    "    if direction in ['u','l']:\n",
    "        step = -1\n",
    "    vis = True\n",
    "    \n",
    "\n",
    "    while  (vis == True) and (iterate>0) and (iterate < len(d)-1):        \n",
    "        iterate = iterate + step\n",
    "        if direction in ['u','d']:\n",
    "            vis = (d[iterate][j] < height)\n",
    "        if direction in ['l','r']:\n",
    "            vis = (d[i][iterate] < height)\n",
    "        if (iterate == 0 or iterate == len(d)-1) and vis == True:\n",
    "            return True"
   ]
  },
  {
   "cell_type": "code",
   "execution_count": null,
   "id": "f0131918-cc3e-4cfc-85d2-c0d62ea21389",
   "metadata": {},
   "outputs": [],
   "source": [
    "def is_visible(i,j,d):\n",
    "    if check_direction(i,j,d,'u'):\n",
    "        return True\n",
    "    elif check_direction(i,j,d,'r'):\n",
    "        return True\n",
    "    elif check_direction(i,j,d,'d'):\n",
    "        return True\n",
    "    elif check_direction(i,j,d,'l'):\n",
    "        return True\n",
    "    else:\n",
    "        return False"
   ]
  },
  {
   "cell_type": "code",
   "execution_count": null,
   "id": "bdc2f765-2c64-49d9-bf48-514a787ee4f1",
   "metadata": {},
   "outputs": [],
   "source": [
    "total_vis = 0\n",
    "for i in range(1,len(d)-1):\n",
    "    for j in range(1,len(d)-1):\n",
    "        total_vis += is_visible(i,j,d)"
   ]
  },
  {
   "cell_type": "code",
   "execution_count": null,
   "id": "b6bef789-a154-4df0-9057-8440abe17d92",
   "metadata": {},
   "outputs": [],
   "source": [
    "# Part 1 answer\n",
    "(len(d)*len(d)) - (((len(d)-2) * (len(d)-2))) + total_vis"
   ]
  },
  {
   "cell_type": "markdown",
   "id": "965d4b85-9076-434a-a5b9-033e4b5875d0",
   "metadata": {},
   "source": [
    "## Part 2\n",
    "#### Quite easy because we don't have to care about edge cases since they -> 0"
   ]
  },
  {
   "cell_type": "code",
   "execution_count": null,
   "id": "69252634-8df3-411f-a45e-8dbf0ccbb1ad",
   "metadata": {},
   "outputs": [],
   "source": [
    "# want to return the distance to a same or higher height tree in each direction - modify previous function slightly\n",
    "\n",
    "def scenic_direction(i,j,d,direction):\n",
    "    height = d[i][j]\n",
    "    if direction in ['u','d']:\n",
    "        iterate = i\n",
    "    if direction in ['l','r']:\n",
    "        iterate = j\n",
    "    if direction in ['d','r']:\n",
    "        step = 1\n",
    "    if direction in ['u','l']:\n",
    "        step = -1\n",
    "    vis = True\n",
    "    \n",
    "    step_count = 1\n",
    "    \n",
    "    while  (vis == True) and (iterate>0) and (iterate < len(d)-1):        \n",
    "        iterate = iterate + step\n",
    "        if direction in ['u','d']:\n",
    "            vis = (d[iterate][j] < height)\n",
    "        if direction in ['l','r']:   \n",
    "            vis = (d[i][iterate] < height)\n",
    "        if vis == False or iterate == 0 or iterate == len(d)-1:\n",
    "            return step_count\n",
    "        step_count = step_count + 1"
   ]
  },
  {
   "cell_type": "code",
   "execution_count": null,
   "id": "9ee093f3-3045-4148-a5c5-aa1253cfbf8a",
   "metadata": {},
   "outputs": [],
   "source": [
    "def scenic_score(i,j,d):\n",
    "    \n",
    "    u = scenic_direction(i,j,d,\"u\")    \n",
    "    down = scenic_direction(i,j,d,\"d\")    \n",
    "    l = scenic_direction(i,j,d,\"l\")\n",
    "    r = scenic_direction(i,j,d,\"r\")\n",
    "    \n",
    "    return u*down*l*r"
   ]
  },
  {
   "cell_type": "code",
   "execution_count": null,
   "id": "0daa01f8-57c7-4a05-bdf0-e0b55bd6e20c",
   "metadata": {},
   "outputs": [],
   "source": [
    "best_score = 0\n",
    "for i in range(1,len(d)-1):\n",
    "    for j in range(1,len(d)-1):\n",
    "        if scenic_score(i,j,d) > best_score:\n",
    "            best_score = scenic_score(i,j,d)"
   ]
  },
  {
   "cell_type": "code",
   "execution_count": null,
   "id": "96b6d4c9-9563-40d9-93a6-c72f029640c9",
   "metadata": {},
   "outputs": [],
   "source": [
    "best_score"
   ]
  }
 ],
 "metadata": {
  "kernelspec": {
   "display_name": "advent",
   "language": "python",
   "name": "advent"
  },
  "language_info": {
   "codemirror_mode": {
    "name": "ipython",
    "version": 3
   },
   "file_extension": ".py",
   "mimetype": "text/x-python",
   "name": "python",
   "nbconvert_exporter": "python",
   "pygments_lexer": "ipython3",
   "version": "3.9.7"
  }
 },
 "nbformat": 4,
 "nbformat_minor": 5
}
