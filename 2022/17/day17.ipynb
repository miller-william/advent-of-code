{
 "cells": [
  {
   "cell_type": "markdown",
   "id": "671611e0-e7f6-4b77-9af4-be3893c708c2",
   "metadata": {},
   "source": [
    "# Advent of Code 2022 - Day 17"
   ]
  },
  {
   "cell_type": "code",
   "execution_count": 1,
   "id": "f9a20e5e-65e7-43a0-816a-c54e9d025b9f",
   "metadata": {},
   "outputs": [],
   "source": [
    "import numpy as np\n",
    "from collections import defaultdict"
   ]
  },
  {
   "cell_type": "code",
   "execution_count": 2,
   "id": "43c87c0a-ee25-4279-a7b6-479f6fbb078e",
   "metadata": {},
   "outputs": [],
   "source": [
    "test_input = \"\"\">>><<><>><<<>><>>><<<>>><<<><<<>><>><<>>\"\"\""
   ]
  },
  {
   "cell_type": "code",
   "execution_count": 3,
   "id": "2fe5556a-4839-48cc-b0fd-03f0b9feacf5",
   "metadata": {},
   "outputs": [],
   "source": [
    "inp = open('input.txt','r').read().replace('\\n',\"\")"
   ]
  },
  {
   "cell_type": "raw",
   "id": "230b7b00-9aa1-407b-973e-91a044f208d5",
   "metadata": {},
   "source": [
    "The tall, vertical chamber is exactly seven units wide. \n",
    "Each rock appears so that its left edge is two units away from the left wall and \n",
    "its bottom edge is three units above the highest rock in the room (or the floor, if there isn't one)."
   ]
  },
  {
   "cell_type": "code",
   "execution_count": 4,
   "id": "5f2ef59c-c34b-4cc3-83f9-4b4604703ae9",
   "metadata": {},
   "outputs": [],
   "source": [
    "#define coords system with respect to bottom left edge [row, column]\n",
    "h_line = [[0,0], [0,1] , [0,2] , [0,3]]\n",
    "\n",
    "cross = [ [0,0], [-1,0], [-2,0], [-1,-1], [-1,1]  ]\n",
    "\n",
    "bend = [ [0,0], [0,1], [0,2], [-1,2], [-2,2] ]\n",
    "\n",
    "v_line = [ [0,0] , [-1,0] , [-2,0], [-3,0]  ] \n",
    "\n",
    "square = [ [0,0], [0,1], [-1,0], [-1,1] ]"
   ]
  },
  {
   "cell_type": "code",
   "execution_count": 5,
   "id": "d5289640-0d3a-46c3-82d9-5d83cf4aa82c",
   "metadata": {},
   "outputs": [],
   "source": [
    "shape_coords = dict()\n",
    "shape_coords['h_line'] = h_line\n",
    "shape_coords['cross'] = cross\n",
    "shape_coords['bend'] = bend\n",
    "shape_coords['v_line'] = v_line\n",
    "shape_coords['square'] = square"
   ]
  },
  {
   "cell_type": "code",
   "execution_count": 6,
   "id": "952853e9-5cae-4e0b-88cb-19d801117e64",
   "metadata": {},
   "outputs": [
    {
     "data": {
      "text/plain": [
       "[[0, 1], [0, 2], [0, 3], [0, 4]]"
      ]
     },
     "execution_count": 6,
     "metadata": {},
     "output_type": "execute_result"
    }
   ],
   "source": [
    "initial_point = [0,1]\n",
    "[ [x[0]+initial_point[0], x[1]+initial_point[1]] for x in shape_coords['h_line'] ]"
   ]
  },
  {
   "cell_type": "code",
   "execution_count": 7,
   "id": "785cee61-4b95-4640-87a2-d0d78949cfa5",
   "metadata": {},
   "outputs": [],
   "source": [
    "####\n",
    "\n",
    "class shape:\n",
    "    \"\"\"\n",
    "    Defines coordinate systems for all our different shapes\n",
    "    \n",
    "    Also defines some methods of calculating coords under an attempted move left, right or down\n",
    "    \n",
    "    Assumes some blocked set exists which has the blocked off spaces.\n",
    "    \n",
    "    Also accounts for walls at 0 and 8 in the horizontal direction\n",
    "    \"\"\"\n",
    "\n",
    "    def __init__(self, initial_point, geo):\n",
    "        \n",
    "        self.coords = [[ x[0]+initial_point[0], x[1]+initial_point[1]] for x in shape_coords[geo] ]\n",
    "            \n",
    "        self.left_coords = [ [x[0],x[1]-1] for x in self.coords]\n",
    "        \n",
    "        self.right_coords = [ [x[0],x[1]+1] for x in self.coords]\n",
    "        \n",
    "        self.down_coords = [ [x[0]+1,x[1]] for x in self.coords ]\n",
    "        \n",
    "        if geo=='cross':\n",
    "            self.highest = self.coords[2][0]\n",
    "        else:\n",
    "            self.highest = self.coords[-1][0]\n",
    "            \n",
    "    def move_lateral(self, direction, blocked):\n",
    "        \n",
    "        if direction == '<':\n",
    "            \n",
    "            # my coord system doesn't quite work for the cross shape :)\n",
    "            if geo == 'cross':\n",
    "                if (sum([tuple(x) in blocked for x in self.left_coords ]) == 0) and (self.left_coords[3][1] != 0):\n",
    "                #new initial point\n",
    "                    return self.left_coords\n",
    "                else:\n",
    "                    return self.coords\n",
    "            elif (sum([tuple(x) in blocked for x in self.left_coords ]) == 0) and (self.left_coords[0][1]!=0):\n",
    "                #new initial point\n",
    "                return self.left_coords\n",
    "            else:\n",
    "                return self.coords\n",
    "        \n",
    "        if direction == '>':\n",
    "            if geo == 'cross':\n",
    "                if (sum([tuple(x) in blocked for x in self.right_coords ]) == 0) and (self.right_coords[4][1]!=8):\n",
    "                    #new initial point\n",
    "                    return self.right_coords   \n",
    "                else:\n",
    "                    return self.coords\n",
    "            \n",
    "            elif (sum([tuple(x) in blocked for x in self.right_coords ]) == 0) and (self.right_coords[-1][1]!=8):\n",
    "                #new initial point\n",
    "                return self.right_coords\n",
    "            \n",
    "            else:\n",
    "                return self.coords\n",
    "            \n",
    "        \n",
    "    \n",
    "    def move_down(self,blocked):\n",
    "        if (sum([tuple(x) in blocked for x in self.down_coords ]) != 0) or (self.down_coords[0][0] >= 0):\n",
    "            #print('hit bottom!')\n",
    "            return self.coords, False\n",
    "        else:\n",
    "            return self.down_coords, True\n",
    "    \n",
    "  "
   ]
  },
  {
   "cell_type": "code",
   "execution_count": 8,
   "id": "f3dd2c75-7851-4866-8fa0-a7fb637971ab",
   "metadata": {},
   "outputs": [
    {
     "name": "stdout",
     "output_type": "stream",
     "text": [
      "-157594\n"
     ]
    }
   ],
   "source": [
    "highest_rock = 0\n",
    "counter = 0\n",
    "n = 0\n",
    "blocked = set()\n",
    "highest_rocks_seq =[]\n",
    "#for part 1 we can brute force it\n",
    "# limit = 2022\n",
    "\n",
    "# a decent amount to try to identify a sequence for part 2\n",
    "limit = 100000\n",
    "\n",
    "while counter != limit:\n",
    "    for geo in ['h_line','cross','bend','v_line','square']:\n",
    "        #print(geo)\n",
    "        if geo == 'cross':\n",
    "            x=1\n",
    "        else:\n",
    "            x=0\n",
    "        start_position = [highest_rock-4, 3+x]\n",
    "        \n",
    "        #initialise shape object\n",
    "        current_shape = shape(start_position, geo)\n",
    "        #print(\"initialising\",current_shape.coords)\n",
    "        \n",
    "        motion = True\n",
    "        \n",
    "        while motion == True:\n",
    "            \n",
    "            #move it laterally\n",
    "            #print(\"moved laterally: \", test_input[n])\n",
    "            current_shape = shape(current_shape.move_lateral( inp[n] , blocked )[0],geo)\n",
    "            #print(current_shape.coords)\n",
    "            \n",
    "            #move it down\n",
    "            #print(\"moved down\")\n",
    "            new_coords,motion = current_shape.move_down(blocked)\n",
    "            current_shape = shape(new_coords[0],geo)\n",
    "\n",
    "            #print(current_shape.coords)\n",
    "            \n",
    "            \n",
    "            if n==(len(inp)-1):\n",
    "                n = 0\n",
    "            else:\n",
    "                n +=1\n",
    "        \n",
    "        #shape has been placed \n",
    "        #print(\"shape placed\")\n",
    "        counter +=1\n",
    "        #print(counter)\n",
    "        \n",
    "        old_highest_rock = highest_rock\n",
    "        \n",
    "        highest_rock = min(highest_rock,current_shape.highest)\n",
    "        #print(\"highest_rock: \",highest_rock)\n",
    "        \n",
    "        highest_rocks_seq.append([counter,geo, inp[n-1],abs(highest_rock),abs(highest_rock-old_highest_rock)])\n",
    "        \n",
    "        for x in new_coords:\n",
    "            blocked.add(tuple(x))\n",
    "                    \n",
    "        if counter == limit:\n",
    "            break\n",
    "print(highest_rock)"
   ]
  },
  {
   "cell_type": "markdown",
   "id": "b30c897c-a96b-419c-87d9-be3f8c49001f",
   "metadata": {},
   "source": [
    "### Part 2\n",
    "Too big to loop so lets look for a cycle in our `heights added`"
   ]
  },
  {
   "cell_type": "code",
   "execution_count": 9,
   "id": "83dc49c9-8711-4f3b-a759-2696354355dd",
   "metadata": {},
   "outputs": [],
   "source": [
    "# Bit messy with dataframes here. Unnecessary with retrospect but too lazy to tidy up now.\n",
    "import pandas as pd\n",
    "df = pd.DataFrame(highest_rocks_seq)\n",
    "\n",
    "#we actually only need this bit - the net height added of each rock\n",
    "heights_added = df[4]"
   ]
  },
  {
   "cell_type": "code",
   "execution_count": 10,
   "id": "49d7ee75-9169-448d-809a-ebcc25505022",
   "metadata": {},
   "outputs": [],
   "source": [
    "# function which searches through a list, expanding it's range until it finds two consecutive identical lists - e.g. a sequence\n",
    "\n",
    "def cycle(list):\n",
    "    # list to store shortest cycles\n",
    "    shortest = [] \n",
    "    # return single integer and non-repeating lists\n",
    "    if len(list) <= 1: return list\n",
    "    if len(set(list)) == len(list): return list\n",
    "    # loop through the list expanding and comparing \n",
    "    # groups of elements until a sequence is seen \n",
    "    for x in range(len(list)):\n",
    "        if list[0:x] == list[x:2*x]:\n",
    "            shortest = list[0:x] \n",
    "    return shortest "
   ]
  },
  {
   "cell_type": "code",
   "execution_count": 11,
   "id": "bbbddb1d-be15-47bf-bcd5-ff67e454e007",
   "metadata": {},
   "outputs": [],
   "source": [
    "# Key here is reversing the list as it starts with a unique list before settling into a cycle\n",
    "cycle_len = len(cycle(heights_added.tolist()[::-1]))"
   ]
  },
  {
   "cell_type": "code",
   "execution_count": 12,
   "id": "523c43a7-f35c-4c56-9381-3c53052c361e",
   "metadata": {},
   "outputs": [
    {
     "name": "stdout",
     "output_type": "stream",
     "text": [
      "starts repeating at rock number:  93\n"
     ]
    }
   ],
   "source": [
    "#find where the sequence starts - and save this value. could defo be tidied up but <shrug>\n",
    "\n",
    "for x in range(len(heights_added)):\n",
    "    if heights_added[x:(x+cycle_len)].reset_index().drop('index',axis=1).equals(heights_added[x+cycle_len:x+(cycle_len*2)].reset_index().drop('index',axis=1)):\n",
    "                print('starts repeating at rock number: ',x)\n",
    "                cycle_start = x\n",
    "                break"
   ]
  },
  {
   "cell_type": "markdown",
   "id": "f370acb6-427d-48cf-af2e-2f02b73d0e7e",
   "metadata": {},
   "source": [
    "#### Now we just need to calculate the heights added for the cycles and the bit at the start. And some fraction of a total cycle"
   ]
  },
  {
   "cell_type": "code",
   "execution_count": 13,
   "id": "721f2fa0-4607-4df4-b655-ab40dd0783b6",
   "metadata": {},
   "outputs": [
    {
     "name": "stdout",
     "output_type": "stream",
     "text": [
      "152\n"
     ]
    }
   ],
   "source": [
    "# bit at the start before the cycles start\n",
    "pre_cycle_value = heights_added[0:cycle_start].sum()\n",
    "print(pre_cycle_value)"
   ]
  },
  {
   "cell_type": "code",
   "execution_count": 14,
   "id": "76435c53-8593-4876-ad5d-facf3396c4a1",
   "metadata": {},
   "outputs": [
    {
     "data": {
      "text/plain": [
       "77459"
      ]
     },
     "execution_count": 14,
     "metadata": {},
     "output_type": "execute_result"
    }
   ],
   "source": [
    "# height added per cycle\n",
    "cycle_value = heights_added[cycle_start:cycle_start+cycle_len].sum()\n",
    "cycle_value"
   ]
  },
  {
   "cell_type": "code",
   "execution_count": 15,
   "id": "15905de9-8e23-4e36-93aa-bd77c927eb45",
   "metadata": {},
   "outputs": [
    {
     "data": {
      "text/plain": [
       "999999999907"
      ]
     },
     "execution_count": 15,
     "metadata": {},
     "output_type": "execute_result"
    }
   ],
   "source": [
    "# rocks left once you exclude the starting bit\n",
    "rocks_left = 1000000000000 - (cycle_start)\n",
    "rocks_left"
   ]
  },
  {
   "cell_type": "code",
   "execution_count": 16,
   "id": "b8bc854c-23db-4405-be28-f5e0d4b96890",
   "metadata": {},
   "outputs": [
    {
     "data": {
      "text/plain": [
       "20343810"
      ]
     },
     "execution_count": 16,
     "metadata": {},
     "output_type": "execute_result"
    }
   ],
   "source": [
    "# How many whole cycles do we have?\n",
    "import math\n",
    "whole_cycles = math.floor(rocks_left / cycle_len)\n",
    "whole_cycles"
   ]
  },
  {
   "cell_type": "code",
   "execution_count": 17,
   "id": "616b9941-b94d-46dc-806f-63463d407c1f",
   "metadata": {},
   "outputs": [
    {
     "name": "stdout",
     "output_type": "stream",
     "text": [
      "19357\n"
     ]
    },
    {
     "data": {
      "text/plain": [
       "30545"
      ]
     },
     "execution_count": 17,
     "metadata": {},
     "output_type": "execute_result"
    }
   ],
   "source": [
    "# How many leftover rocks (e.g. fraction of a total cycle)\n",
    "leftover = rocks_left % cycle_len\n",
    "print(leftover)\n",
    "leftover_value = heights_added[cycle_start:cycle_start+leftover].sum()\n",
    "leftover_value"
   ]
  },
  {
   "cell_type": "code",
   "execution_count": 18,
   "id": "fa3caed0-7cd9-4390-b2f5-aa939ba29551",
   "metadata": {},
   "outputs": [
    {
     "data": {
      "text/plain": [
       "1575811209487"
      ]
     },
     "execution_count": 18,
     "metadata": {},
     "output_type": "execute_result"
    }
   ],
   "source": [
    "#p2 answer - putting it all together\n",
    "pre_cycle_value + (whole_cycles * cycle_value) + leftover_value\n",
    "\n"
   ]
  },
  {
   "cell_type": "code",
   "execution_count": 19,
   "id": "cb9d59cd-be6a-47b7-8f8a-48798cdee84b",
   "metadata": {},
   "outputs": [],
   "source": [
    "#That took a while to figure out. But was sort of satisfying in the end. Am I having fun?"
   ]
  }
 ],
 "metadata": {
  "kernelspec": {
   "display_name": "advent",
   "language": "python",
   "name": "advent"
  },
  "language_info": {
   "codemirror_mode": {
    "name": "ipython",
    "version": 3
   },
   "file_extension": ".py",
   "mimetype": "text/x-python",
   "name": "python",
   "nbconvert_exporter": "python",
   "pygments_lexer": "ipython3",
   "version": "3.9.7"
  }
 },
 "nbformat": 4,
 "nbformat_minor": 5
}
