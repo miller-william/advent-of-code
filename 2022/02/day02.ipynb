{
 "cells": [
  {
   "cell_type": "markdown",
   "id": "2da4a240-80f7-4c32-80b6-71dcdf78187f",
   "metadata": {},
   "source": [
    "# Advent of Code 2022 - Day 02\n"
   ]
  },
  {
   "cell_type": "markdown",
   "id": "c7686b0b-fec7-4e47-9e76-343bd516a386",
   "metadata": {},
   "source": [
    "A,X:  Rock       1 \\\n",
    "B,Y:  Paper      2 \\\n",
    "C,Z:  Scissors   3\n",
    "\n",
    "**Win**\n",
    "\n",
    "AY 2 \\\n",
    "BZ 3 \\\n",
    "CX 1 \n",
    "\n",
    "**Draw**\n",
    "\n",
    "AX 1 \\\n",
    "BY 2 \\\n",
    "CZ 3 \n",
    "\n",
    "**Loss**\n",
    "\n",
    "AZ 3 \\\n",
    "BX 1 \\\n",
    "CY 2 "
   ]
  },
  {
   "cell_type": "code",
   "execution_count": null,
   "id": "4443960d-37ae-40b7-a53e-5f3afa1bd919",
   "metadata": {},
   "outputs": [],
   "source": [
    "test_input = \"\"\"A Y\n",
    "B X\n",
    "C Z\"\"\""
   ]
  },
  {
   "cell_type": "markdown",
   "id": "2d0e000b-ad25-4406-9b2c-a11033668674",
   "metadata": {},
   "source": [
    "### Part 1\n",
    "#### Quick and inelegant and not very scalable... might cause problems in part 2"
   ]
  },
  {
   "cell_type": "code",
   "execution_count": 10,
   "id": "cbf9cf07-2033-4d9c-8846-2f574ef6d0c6",
   "metadata": {},
   "outputs": [
    {
     "data": {
      "text/plain": [
       "['AY', 'BX', 'CZ']"
      ]
     },
     "execution_count": 10,
     "metadata": {},
     "output_type": "execute_result"
    }
   ],
   "source": [
    "[x.replace(\" \", \"\") for x in test_input.splitlines()]"
   ]
  },
  {
   "cell_type": "code",
   "execution_count": 20,
   "id": "e290f7ba-5f28-4787-a7db-c727a2584fe2",
   "metadata": {},
   "outputs": [],
   "source": [
    "solutions = {\"AY\":8,\n",
    "             \"BZ\":9,\n",
    "             \"CX\":7,\n",
    "             \"AX\":4,\n",
    "             \"BY\":5,\n",
    "             \"CZ\":6,\n",
    "             \"AZ\":3,\n",
    "             \"BX\":1,\n",
    "             \"CY\":2,}"
   ]
  },
  {
   "cell_type": "code",
   "execution_count": 23,
   "id": "deda8785-f07e-4a1f-af89-bed8acf381f9",
   "metadata": {},
   "outputs": [],
   "source": [
    "inp = open(\"input.txt\",\"r\").read()"
   ]
  },
  {
   "cell_type": "code",
   "execution_count": 25,
   "id": "a70f634e-3497-400d-b58a-6f1a46d0e1d0",
   "metadata": {},
   "outputs": [
    {
     "data": {
      "text/plain": [
       "10404"
      ]
     },
     "execution_count": 25,
     "metadata": {},
     "output_type": "execute_result"
    }
   ],
   "source": [
    "sum([solutions[x] for x in [x.replace(\" \", \"\") for x  in inp.splitlines()]])"
   ]
  },
  {
   "cell_type": "markdown",
   "id": "23ee894a-5758-4d72-9107-8a741a76772c",
   "metadata": {},
   "source": [
    "### Part 2"
   ]
  },
  {
   "cell_type": "code",
   "execution_count": null,
   "id": "e6cab08f-232f-4330-b236-671879125223",
   "metadata": {},
   "outputs": [],
   "source": [
    "A  Rock       1\n",
    "B  Paper      2\n",
    "C  Scissors   3\n",
    "\n",
    "X  lose\n",
    "Y  draw\n",
    "Z  win\n",
    "\n",
    "new -> old\n",
    "\n",
    "AX -> AZ \n",
    "AY -> AX\n",
    "AZ -> AY\n",
    "\n",
    "BX -> BX\n",
    "BY -> BY\n",
    "BZ -> BZ\n",
    "\n",
    "CX -> CY\n",
    "CY -> CZ\n",
    "CZ -> CX"
   ]
  },
  {
   "cell_type": "markdown",
   "id": "36f006bd-bdb0-4525-b2ca-a2b3398f6d0e",
   "metadata": {},
   "source": [
    "#### I'm not proud of it but it works when you only have 9 permutations"
   ]
  },
  {
   "cell_type": "code",
   "execution_count": 26,
   "id": "d0747248-4e96-4eff-8b44-b6ae94a74c21",
   "metadata": {},
   "outputs": [],
   "source": [
    "solutions_p2 = {\"AX\":\"AZ\",\n",
    "                \"AY\":\"AX\",\n",
    "                \"AZ\":\"AY\",\n",
    "                \"BX\":\"BX\",\n",
    "                \"BY\":\"BY\",\n",
    "                \"BZ\":\"BZ\",\n",
    "                \"CX\":\"CY\",\n",
    "                \"CY\":\"CZ\",\n",
    "                \"CZ\":\"CX\"}"
   ]
  },
  {
   "cell_type": "code",
   "execution_count": 28,
   "id": "28b5fe3a-264a-4c42-a6e7-9bc4cd64ad93",
   "metadata": {},
   "outputs": [
    {
     "data": {
      "text/plain": [
       "12"
      ]
     },
     "execution_count": 28,
     "metadata": {},
     "output_type": "execute_result"
    }
   ],
   "source": [
    "sum([solutions[x] for x in [x.replace(\" \", \"\") for x  in [solutions_p2[x] for x in [x.replace(\" \", \"\") for x  in test_input.splitlines()]]]])"
   ]
  },
  {
   "cell_type": "code",
   "execution_count": 27,
   "id": "c387d3cf-58cb-4c0e-a419-99e70315c99d",
   "metadata": {},
   "outputs": [
    {
     "data": {
      "text/plain": [
       "10334"
      ]
     },
     "execution_count": 27,
     "metadata": {},
     "output_type": "execute_result"
    }
   ],
   "source": [
    "sum([solutions[x] for x in [x.replace(\" \", \"\") for x  in [solutions_p2[x] for x in [x.replace(\" \", \"\") for x  in inp.splitlines()]]]])"
   ]
  },
  {
   "cell_type": "markdown",
   "id": "ea7240cf-c30b-4dcc-a7f8-6fe9f1e45228",
   "metadata": {},
   "source": [
    "### Trying something more scalable (maybe?)\n",
    "Let's figure out how to make the dictionary solutions in a generalisable way rather than writing it out"
   ]
  },
  {
   "cell_type": "markdown",
   "id": "30d222e6-0114-4e1c-a7b5-1ba01612b946",
   "metadata": {},
   "source": [
    "## Part 1"
   ]
  },
  {
   "cell_type": "code",
   "execution_count": 34,
   "id": "82c3d34b-aa02-4e31-bd81-feb74cebd125",
   "metadata": {},
   "outputs": [],
   "source": [
    "moves = [\"A\",\"B\",\"C\"]"
   ]
  },
  {
   "cell_type": "code",
   "execution_count": 42,
   "id": "629c678c-fa82-4038-988d-03cbc946d086",
   "metadata": {},
   "outputs": [],
   "source": [
    "moves_dict = {\"A\":\"X\",\"B\":\"Y\",\"C\":\"Z\"}\n",
    "inv_moves_dict = dict((v, k) for k, v in moves_dict.items())"
   ]
  },
  {
   "cell_type": "code",
   "execution_count": 44,
   "id": "9c994186-7bc6-4102-a357-5da92aee97d6",
   "metadata": {},
   "outputs": [],
   "source": [
    "special_score = {\"A\":1,\"B\":2,\"C\":3}"
   ]
  },
  {
   "cell_type": "code",
   "execution_count": 115,
   "id": "afa2518e-e13f-4f37-b05b-0d9b4ba63c60",
   "metadata": {},
   "outputs": [],
   "source": [
    "def rps_result(s,moves):\n",
    "    score = 0\n",
    "    end = len(moves) - 1\n",
    "    #input is string length 2 e.g. \"AX\" -> function returns the score\n",
    "    \n",
    "    #work out relative position of two strings (after converting the XYZ into ABC)\n",
    "    diff = moves.index(s[0]) - moves.index(inv_moves_dict[s[1]])\n",
    "    \n",
    "    #same move so draw\n",
    "    if diff == 0:\n",
    "        score = 3\n",
    "    \n",
    "    # second move comes immediately after first in moves list, so it's a win for second move\n",
    "    elif diff  in [end,-1]:\n",
    "        score = 6\n",
    "        \n",
    "    # loss for second move\n",
    "    else:\n",
    "        score = 0\n",
    "    \n",
    "    #don't forget the special score - just used a dict for this\n",
    "    score = score + special_score[inv_moves_dict[s[1]]]\n",
    "    return score"
   ]
  },
  {
   "cell_type": "code",
   "execution_count": 157,
   "id": "e20c17b3-e9fa-474c-95cb-4b86ed6201bb",
   "metadata": {},
   "outputs": [
    {
     "data": {
      "text/plain": [
       "['AX', 'AY', 'AZ', 'BX', 'BY', 'BZ', 'CX', 'CY', 'CZ']"
      ]
     },
     "execution_count": 157,
     "metadata": {},
     "output_type": "execute_result"
    }
   ],
   "source": [
    "import itertools\n",
    "#generate all possible pair permutations from move list to create our solutions dict\n",
    "x = itertools.product(moves,moves)\n",
    "perms = list(x)\n",
    "a = [x[0] for x in perms]\n",
    "b = [moves_dict[y[1]] for y in perms]\n",
    "perms= [x[0]+x[1] for x in list(zip(a,b)) ]\n",
    "perms"
   ]
  },
  {
   "cell_type": "code",
   "execution_count": 171,
   "id": "d993b260-602c-4eee-9a6c-4f045613d049",
   "metadata": {},
   "outputs": [
    {
     "data": {
      "text/plain": [
       "{'AX': 4,\n",
       " 'AY': 8,\n",
       " 'AZ': 3,\n",
       " 'BX': 1,\n",
       " 'BY': 5,\n",
       " 'BZ': 9,\n",
       " 'CX': 7,\n",
       " 'CY': 2,\n",
       " 'CZ': 6}"
      ]
     },
     "execution_count": 171,
     "metadata": {},
     "output_type": "execute_result"
    }
   ],
   "source": [
    "solutions = {perms[i]: rps_result(perms[i],moves) for i in range(len(perms))}\n",
    "solutions"
   ]
  },
  {
   "cell_type": "code",
   "execution_count": 176,
   "id": "602471a2-9bb3-4878-8347-4bf69490ada3",
   "metadata": {},
   "outputs": [
    {
     "data": {
      "text/plain": [
       "15"
      ]
     },
     "execution_count": 176,
     "metadata": {},
     "output_type": "execute_result"
    }
   ],
   "source": [
    "sum(solutions[s] for s in [x.replace(\" \", \"\") for x  in test_input.splitlines()])"
   ]
  },
  {
   "cell_type": "code",
   "execution_count": 177,
   "id": "8f0a208c-bf29-44f9-9ddd-3b48cd1e98c5",
   "metadata": {},
   "outputs": [
    {
     "data": {
      "text/plain": [
       "10404"
      ]
     },
     "execution_count": 177,
     "metadata": {},
     "output_type": "execute_result"
    }
   ],
   "source": [
    "sum(solutions[s] for s in [x.replace(\" \", \"\") for x  in inp.splitlines()])"
   ]
  }
 ],
 "metadata": {
  "kernelspec": {
   "display_name": "advent",
   "language": "python",
   "name": "advent"
  },
  "language_info": {
   "codemirror_mode": {
    "name": "ipython",
    "version": 3
   },
   "file_extension": ".py",
   "mimetype": "text/x-python",
   "name": "python",
   "nbconvert_exporter": "python",
   "pygments_lexer": "ipython3",
   "version": "3.9.7"
  }
 },
 "nbformat": 4,
 "nbformat_minor": 5
}
