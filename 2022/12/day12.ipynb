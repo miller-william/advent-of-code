{
 "cells": [
  {
   "cell_type": "markdown",
   "id": "350d3439-2187-4fb9-b880-d4cd3f910032",
   "metadata": {},
   "source": [
    "# Advent of Code 2022 - Day 11\n",
    "A* algorithm adapted from: https://medium.com/@nicholas.w.swift/easy-a-star-pathfinding-7e6689c7f7b2"
   ]
  },
  {
   "cell_type": "code",
   "execution_count": null,
   "id": "9d14a4ad-c31d-4c89-96f7-c03e181e7e78",
   "metadata": {},
   "outputs": [],
   "source": [
    "import string\n",
    "import numpy as np\n",
    "import heapq\n",
    "import math"
   ]
  },
  {
   "cell_type": "code",
   "execution_count": null,
   "id": "2d534af9-7865-4957-a55b-c74f0830b727",
   "metadata": {},
   "outputs": [],
   "source": [
    "from collections import defaultdict"
   ]
  },
  {
   "cell_type": "code",
   "execution_count": null,
   "id": "f0a2cf9f-6286-4ecd-bd71-45bb1831254e",
   "metadata": {},
   "outputs": [],
   "source": [
    "test_input = \"\"\"Sabqponm\n",
    "abcryxxl\n",
    "accszExk\n",
    "acctuvwj\n",
    "abdefghi\"\"\""
   ]
  },
  {
   "cell_type": "code",
   "execution_count": null,
   "id": "b3f7554e-651f-452f-b0d6-3f4098b58eca",
   "metadata": {},
   "outputs": [],
   "source": [
    "inp = open(\"input.txt\",\"r\").read()"
   ]
  },
  {
   "cell_type": "code",
   "execution_count": null,
   "id": "74b8442c-cdf0-4f8c-bfca-f825330e7600",
   "metadata": {},
   "outputs": [],
   "source": [
    "height_dict = {x:n for n,x in enumerate(string.ascii_lowercase)}"
   ]
  },
  {
   "cell_type": "code",
   "execution_count": null,
   "id": "784851d0-4720-42b1-8a60-e213f365d71a",
   "metadata": {},
   "outputs": [],
   "source": [
    "d = [[x for x in y] for y in inp.splitlines()]"
   ]
  },
  {
   "cell_type": "code",
   "execution_count": null,
   "id": "28b8e313-d2c0-4e7b-aab8-c536e1529ba0",
   "metadata": {},
   "outputs": [],
   "source": [
    "S=np.isin(d,'S')\n",
    "S_loc = (np.nonzero(S)[0][0],np.nonzero(S)[1][0])"
   ]
  },
  {
   "cell_type": "code",
   "execution_count": null,
   "id": "0b8c7af9-035d-420d-8cfa-a8c4d6ad16e0",
   "metadata": {},
   "outputs": [],
   "source": [
    "E=np.isin(d,'E')\n",
    "E_loc = (np.nonzero(E)[0][0],np.nonzero(E)[1][0])"
   ]
  },
  {
   "cell_type": "code",
   "execution_count": null,
   "id": "324bd226-cebe-4419-ba38-fc61ed603b67",
   "metadata": {},
   "outputs": [],
   "source": [
    "d[S_loc[0]][S_loc[1]] = 0\n",
    "d[E_loc[0]][E_loc[1]] = 25"
   ]
  },
  {
   "cell_type": "code",
   "execution_count": null,
   "id": "2b6b10f9-55f6-4619-bb53-05e008b1be14",
   "metadata": {},
   "outputs": [],
   "source": [
    "heights = [[height_dict.get(x,x) for x in a] for a in d]\n",
    "heights = np.array(heights)"
   ]
  },
  {
   "cell_type": "code",
   "execution_count": null,
   "id": "b95625ed-2d07-418e-ab20-d6e1cdfdd6ff",
   "metadata": {},
   "outputs": [],
   "source": [
    "col = np.array([[100] for x in heights])\n",
    "heights = np.hstack((col,heights,col))\n",
    "row = np.array([[100] for x in heights.transpose()] ).transpose()\n",
    "heights = np.vstack((row,heights,row))"
   ]
  },
  {
   "cell_type": "code",
   "execution_count": null,
   "id": "eb87a345-5818-4abb-b122-91bdd45f8d0f",
   "metadata": {},
   "outputs": [],
   "source": [
    "start = tuple([x + 1 for x in S_loc])\n",
    "end = tuple([x + 1 for x in E_loc])"
   ]
  },
  {
   "cell_type": "code",
   "execution_count": null,
   "id": "404bed55-aa98-452a-841b-a22e512735b1",
   "metadata": {},
   "outputs": [],
   "source": [
    "print(start)\n",
    "print(end)"
   ]
  },
  {
   "cell_type": "code",
   "execution_count": null,
   "id": "c6da7375-b5ef-485d-8a96-708ca5a03898",
   "metadata": {},
   "outputs": [],
   "source": [
    "maze = heights"
   ]
  },
  {
   "cell_type": "code",
   "execution_count": null,
   "id": "0497b00a-f3c7-4f6d-9cb2-8d4219959b31",
   "metadata": {},
   "outputs": [],
   "source": [
    "class Node:\n",
    "    \"\"\"\n",
    "    A node class for A* Pathfinding\n",
    "    \"\"\"\n",
    "\n",
    "    def __init__(self, parent=None, position=None):\n",
    "        self.parent = parent\n",
    "        self.position = position\n",
    "\n",
    "        self.g = 0\n",
    "        self.h = 0\n",
    "        self.f = 0\n",
    "\n",
    "    def __eq__(self, other):\n",
    "        return self.position == other.position\n",
    "    \n",
    "    def __repr__(self):\n",
    "        return f\"{self.position} - g: {self.g} h: {self.h} f: {self.f}\"\n",
    "\n",
    "    # defining less than for purposes of heap queue\n",
    "    def __lt__(self, other):\n",
    "          return self.f < other.f\n",
    "    \n",
    "    # defining greater than for purposes of heap queue\n",
    "    def __gt__(self, other):\n",
    "          return self.f > other.f"
   ]
  },
  {
   "cell_type": "code",
   "execution_count": null,
   "id": "77691b8c-a01f-4394-9caa-b6f816c4bb72",
   "metadata": {},
   "outputs": [],
   "source": [
    "def return_path(current_node):\n",
    "    path = []\n",
    "    current = current_node\n",
    "    while current is not None:\n",
    "        path.append(current.position)\n",
    "        current = current.parent\n",
    "    return path[::-1]  # Return reversed path"
   ]
  },
  {
   "cell_type": "code",
   "execution_count": null,
   "id": "c54d87c2-9b12-47f9-9d31-4290e90b1c6d",
   "metadata": {},
   "outputs": [],
   "source": [
    "def manhattan_distance(point1, point2):\n",
    "    distance = 0\n",
    "    for x1, x2 in zip(point1, point2):\n",
    "        difference = x2 - x1\n",
    "        absolute_difference = abs(difference)\n",
    "        distance += absolute_difference\n",
    "\n",
    "    return distance"
   ]
  },
  {
   "cell_type": "code",
   "execution_count": null,
   "id": "32a0dd8c-aab7-446c-abc0-08ea3b5fb715",
   "metadata": {},
   "outputs": [],
   "source": [
    "def part_1(start,end):\n",
    "\n",
    "    # Create start and end node\n",
    "    start_node = Node(None, start)\n",
    "    start_node.g = start_node.h = start_node.f = 0\n",
    "    end_node = Node(None, end)\n",
    "    end_node.g = end_node.h = end_node.f = 0\n",
    "\n",
    "    # Initialize both open and closed list\n",
    "    open_list = []\n",
    "    closed_list = []\n",
    "\n",
    "    # Heapify the open_list and Add the start node\n",
    "    heapq.heapify(open_list) \n",
    "    heapq.heappush(open_list, start_node)\n",
    "\n",
    "    # Loop until you find the end\n",
    "    while len(open_list) > 0:\n",
    "\n",
    "        # Get the current node\n",
    "        current_node = heapq.heappop(open_list)\n",
    "        closed_list.append(current_node)\n",
    "\n",
    "        # Found the goal\n",
    "        if current_node == end_node:\n",
    "            #print(return_path(current_node))\n",
    "            final_path = return_path(current_node)\n",
    "            return [len(final_path)-1,final_path]\n",
    "\n",
    "        # Generate children\n",
    "        children = []\n",
    "        for new_position in [(0, -1), (0, 1), (-1, 0), (1, 0)]: # Adjacent squares\n",
    "\n",
    "            # Get node position\n",
    "            node_position = (current_node.position[0] + new_position[0], current_node.position[1] + new_position[1])\n",
    "            #print(\"node_position is: \",node_position)\n",
    "\n",
    "            # Make sure climable terrain - if not try next position\n",
    "            if (maze[node_position[0]][node_position[1]] - maze[current_node.position[0]][current_node.position[1]]) > 1 :\n",
    "                continue\n",
    "\n",
    "            # Create new node\n",
    "            new_node = Node(current_node, node_position)\n",
    "            #print(\"new node at: \", new_node.position)\n",
    "\n",
    "            # Append\n",
    "            children.append(new_node)\n",
    "\n",
    "        # Loop through children\n",
    "        for child in children:\n",
    "\n",
    "            # Child is on the closed list\n",
    "            if len([closed_child for closed_child in closed_list if closed_child == child]) > 0:\n",
    "                continue\n",
    "\n",
    "            # Create the f, g, and h values\n",
    "            child.g = current_node.g + 1\n",
    "            child.h = math.sqrt(manhattan_distance(child.position,end_node.position))\n",
    "            child.f = child.g + child.h\n",
    "\n",
    "            # Child is already in the open list\n",
    "            if child in open_list: \n",
    "                idx = open_list.index(child) \n",
    "                if child.g < open_list[idx].g:\n",
    "                    # update the node in the open list\n",
    "                    open_list[idx].g = child.g\n",
    "                    open_list[idx].f = child.f\n",
    "                open_list[idx].h = child.h\n",
    "            else:\n",
    "                # Add the child to the open list\n",
    "                heapq.heappush(open_list, child)"
   ]
  },
  {
   "cell_type": "code",
   "execution_count": null,
   "id": "38471d0f-a038-4ecc-9bf4-ed6f89e3ac68",
   "metadata": {},
   "outputs": [],
   "source": [
    "p1_ans = part_1(start,end)"
   ]
  },
  {
   "cell_type": "markdown",
   "id": "35f837a3-6458-476d-92ac-a41ce910a091",
   "metadata": {},
   "source": [
    "### Part 2"
   ]
  },
  {
   "cell_type": "markdown",
   "id": "5c7990a5-8b8f-4552-b84b-bb871307eb2d",
   "metadata": {},
   "source": [
    "need a list of all starting positions with 0 "
   ]
  },
  {
   "cell_type": "code",
   "execution_count": null,
   "id": "eba7fd04-5afc-4dee-948d-48526ea33b59",
   "metadata": {},
   "outputs": [],
   "source": [
    "starters = []\n",
    "for i in range(1,heights.shape[0]-1):\n",
    "    for j in range(1,heights.shape[1]-1):\n",
    "        if heights[i][j]==0:\n",
    "            starters.append((i,j))\n",
    "            "
   ]
  },
  {
   "cell_type": "code",
   "execution_count": null,
   "id": "7ec7d583-8c48-4767-a090-ccf198fda5b1",
   "metadata": {},
   "outputs": [],
   "source": [
    "ans = []\n",
    "for start in starters:\n",
    "    path_l = part_1(start,end)\n",
    "    if path_l != None:\n",
    "        ans.append(path_l[0])\n",
    "        print(path_l[0])"
   ]
  },
  {
   "cell_type": "markdown",
   "id": "6051a022-a154-4015-878c-a6736a12704a",
   "metadata": {},
   "source": [
    "This takes an age to run... could defintely optimise by reducing the number of starting positions we check. or just improving part 1."
   ]
  },
  {
   "cell_type": "code",
   "execution_count": null,
   "id": "e2859b24-07c9-445e-add9-7c53e68890d4",
   "metadata": {},
   "outputs": [],
   "source": []
  }
 ],
 "metadata": {
  "kernelspec": {
   "display_name": "advent",
   "language": "python",
   "name": "advent"
  },
  "language_info": {
   "codemirror_mode": {
    "name": "ipython",
    "version": 3
   },
   "file_extension": ".py",
   "mimetype": "text/x-python",
   "name": "python",
   "nbconvert_exporter": "python",
   "pygments_lexer": "ipython3",
   "version": "3.9.7"
  }
 },
 "nbformat": 4,
 "nbformat_minor": 5
}
