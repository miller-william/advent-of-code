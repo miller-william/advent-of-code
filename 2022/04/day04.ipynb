{
 "cells": [
  {
   "cell_type": "markdown",
   "id": "62e7b8aa-8ac9-4007-92f4-acd82ca624c1",
   "metadata": {},
   "source": [
    "# Advent of Code 2022 - Day 04"
   ]
  },
  {
   "cell_type": "code",
   "execution_count": 1,
   "id": "a1c84b08-b0a9-489c-9a6f-a0f7275d891f",
   "metadata": {},
   "outputs": [],
   "source": [
    "test_input = \"\"\"2-4,6-8\n",
    "2-3,4-5\n",
    "5-7,7-9\n",
    "2-8,3-7\n",
    "6-6,4-6\n",
    "2-6,4-8\"\"\""
   ]
  },
  {
   "cell_type": "code",
   "execution_count": 91,
   "id": "f37518e3-e86f-4207-81ca-515ac2cd3ef8",
   "metadata": {},
   "outputs": [],
   "source": [
    "inp = open(\"input.txt\",\"r\").read()"
   ]
  },
  {
   "cell_type": "code",
   "execution_count": 148,
   "id": "129cd5fe-948e-4b5b-b300-fedb10cf1112",
   "metadata": {},
   "outputs": [
    {
     "data": {
      "text/plain": [
       "[['34-82', '33-81'],\n",
       " ['59-59', '69-73'],\n",
       " ['6-96', '98-99'],\n",
       " ['1-94', '3-96'],\n",
       " ['13-92', '20-64'],\n",
       " ['37-75', '76-93'],\n",
       " ['5-98', '6-6'],\n",
       " ['40-65', '40-64'],\n",
       " ['13-63', '84-91'],\n",
       " ['31-75', '31-35']]"
      ]
     },
     "execution_count": 148,
     "metadata": {},
     "output_type": "execute_result"
    }
   ],
   "source": [
    "d = [x.split(\",\") for x in inp.splitlines()]\n",
    "d[:10]"
   ]
  },
  {
   "cell_type": "code",
   "execution_count": 149,
   "id": "53eb54a4-c25c-4210-81bb-8d95bb35f077",
   "metadata": {},
   "outputs": [
    {
     "data": {
      "text/plain": [
       "[[[34, 82], [33, 81]],\n",
       " [[59, 59], [69, 73]],\n",
       " [[6, 96], [98, 99]],\n",
       " [[1, 94], [3, 96]],\n",
       " [[13, 92], [20, 64]],\n",
       " [[37, 75], [76, 93]],\n",
       " [[5, 98], [6, 6]],\n",
       " [[40, 65], [40, 64]],\n",
       " [[13, 63], [84, 91]],\n",
       " [[31, 75], [31, 35]]]"
      ]
     },
     "execution_count": 149,
     "metadata": {},
     "output_type": "execute_result"
    }
   ],
   "source": [
    "s = [ [[int(a) for a in x[0].split('-')] , [int(b) for b in x[1].split('-')]] for x in d]\n",
    "s[:10]"
   ]
  },
  {
   "cell_type": "code",
   "execution_count": 153,
   "id": "cdd55dd6-93be-4148-b8a4-3c6d36340786",
   "metadata": {},
   "outputs": [
    {
     "data": {
      "text/plain": [
       "464"
      ]
     },
     "execution_count": 153,
     "metadata": {},
     "output_type": "execute_result"
    }
   ],
   "source": [
    "count = 0\n",
    "for x in s:\n",
    "    a = set(range(x[0][0],1+x[0][1]))\n",
    "    b = set(range(x[1][0],1+x[1][1]))\n",
    "    if (a.issubset(b) or b.issubset(a)):\n",
    "        count += 1\n",
    "count"
   ]
  },
  {
   "cell_type": "code",
   "execution_count": 154,
   "id": "bc4a95ac-efb2-4108-90bf-b8f5d6788396",
   "metadata": {},
   "outputs": [
    {
     "data": {
      "text/plain": [
       "770"
      ]
     },
     "execution_count": 154,
     "metadata": {},
     "output_type": "execute_result"
    }
   ],
   "source": [
    "count = 0\n",
    "for x in s:\n",
    "    a = set(range(x[0][0],1+x[0][1]))\n",
    "    b = set(range(x[1][0],1+x[1][1]))\n",
    "    if (a.intersection(b) != set()):\n",
    "        count += 1\n",
    "count"
   ]
  }
 ],
 "metadata": {
  "kernelspec": {
   "display_name": "advent",
   "language": "python",
   "name": "advent"
  },
  "language_info": {
   "codemirror_mode": {
    "name": "ipython",
    "version": 3
   },
   "file_extension": ".py",
   "mimetype": "text/x-python",
   "name": "python",
   "nbconvert_exporter": "python",
   "pygments_lexer": "ipython3",
   "version": "3.9.7"
  }
 },
 "nbformat": 4,
 "nbformat_minor": 5
}
