{
 "cells": [
  {
   "cell_type": "code",
   "execution_count": null,
   "id": "c38723ce-ecd5-4013-9c6f-1c613735d47e",
   "metadata": {},
   "outputs": [],
   "source": [
    "test_input = \"\"\"$ cd /\n",
    "$ ls\n",
    "dir a\n",
    "14848514 b.txt\n",
    "8504156 c.dat\n",
    "dir d\n",
    "$ cd a\n",
    "$ ls\n",
    "dir e\n",
    "29116 f\n",
    "2557 g\n",
    "62596 h.lst\n",
    "$ cd e\n",
    "$ ls\n",
    "584 i\n",
    "$ cd ..\n",
    "$ cd ..\n",
    "$ cd d\n",
    "$ ls\n",
    "4060174 j\n",
    "8033020 d.log\n",
    "5626152 d.ext\n",
    "7214296 k\"\"\""
   ]
  },
  {
   "cell_type": "code",
   "execution_count": null,
   "id": "89a5b592-9b77-4c5b-b97e-2037cb762432",
   "metadata": {},
   "outputs": [],
   "source": [
    "inp = open(\"input.txt\",\"r\").read()"
   ]
  },
  {
   "cell_type": "code",
   "execution_count": null,
   "id": "acc06d11-aa33-47fc-93dd-8273b2f1374a",
   "metadata": {},
   "outputs": [],
   "source": [
    "d = [x.strip().split(\"\\n\") for x in inp.split(\"$\")][1:]"
   ]
  },
  {
   "cell_type": "code",
   "execution_count": null,
   "id": "dd020559-ec36-4c74-a94b-0145ff7ee381",
   "metadata": {},
   "outputs": [],
   "source": [
    "current_filepath = []\n",
    "files=[]\n",
    "all_directories = set()\n",
    "\n",
    "for lines in d:\n",
    "    if len(lines) == 1:\n",
    "        command = lines[0].replace(\"cd \",\"\")\n",
    "        if command == '..':\n",
    "            current_filepath.pop()\n",
    "        elif command == '/':\n",
    "            current_filepath = ['/']\n",
    "            all_directories.add(\"\".join(current_filepath))\n",
    "        else:\n",
    "            current_filepath.append(lines[0].replace(\"cd \",\"\")+\"/\")\n",
    "\n",
    "            all_directories.add(\"\".join(current_filepath))\n",
    "    #print(all_directories)\n",
    "\n",
    "    if lines[0] == 'ls':\n",
    "        for i in range(1,len(lines)):\n",
    "            # if not directory it's a file\n",
    "            if lines[i][0:3]!='dir':\n",
    "                files.append([\"\".join(current_filepath),int(lines[i].split()[0])])"
   ]
  },
  {
   "cell_type": "code",
   "execution_count": null,
   "id": "3ef50bf1-0166-4469-86be-b2ff974bd6a5",
   "metadata": {},
   "outputs": [],
   "source": [
    "#make dir sums\n",
    "dir_sums = dict(zip(all_directories,[0]*(len(all_directories)) ))\n",
    "\n",
    "for file,size in files:\n",
    "    for k in dir_sums:\n",
    "        if k == file[:len(k)]:\n",
    "            #add file size to dictionary count\n",
    "            dir_sums[k] = dir_sums[k] + size"
   ]
  },
  {
   "cell_type": "code",
   "execution_count": null,
   "id": "b3e98787-e785-4a9a-a765-90c327658624",
   "metadata": {},
   "outputs": [],
   "source": [
    "#part 1 answer\n",
    "sum([v for k, v in dir_sums.items() if v <= 100000 ])"
   ]
  },
  {
   "cell_type": "code",
   "execution_count": null,
   "id": "3560eacf-2b30-4562-9428-1f6f3863f52b",
   "metadata": {},
   "outputs": [],
   "source": [
    "#checking total files\n",
    "sum([int(a[0]) for a in [re.findall(r'\\d+',x) for x in inp.splitlines() if re.findall(r'\\d+',x)!=[]]])"
   ]
  },
  {
   "cell_type": "markdown",
   "id": "7ebb17e7-74de-4dda-b68e-63d6b2cd6e7b",
   "metadata": {},
   "source": [
    "### Part 2"
   ]
  },
  {
   "cell_type": "code",
   "execution_count": null,
   "id": "51619e7c-4757-42c1-b3c4-1b969d66302d",
   "metadata": {},
   "outputs": [],
   "source": [
    "available = 70000000\n",
    "need = 30000000"
   ]
  },
  {
   "cell_type": "code",
   "execution_count": null,
   "id": "34323417-b324-4a18-b8e3-af913ef2c08d",
   "metadata": {},
   "outputs": [],
   "source": [
    "current = available - sum([int(a[0]) for a in [re.findall(r'\\d+',x) for x in inp.splitlines() if re.findall(r'\\d+',x)!=[]]])\n",
    "required = need - current"
   ]
  },
  {
   "cell_type": "code",
   "execution_count": null,
   "id": "7d4abebd-984a-4b3c-8da7-6cc4e9f12862",
   "metadata": {},
   "outputs": [],
   "source": [
    "p2 = [[k,v] for k, v in dir_sums.items() if v >= required]\n",
    "\n",
    "#part 2 answer\n",
    "min([x[1] for x in p2 ])"
   ]
  }
 ],
 "metadata": {
  "kernelspec": {
   "display_name": "advent",
   "language": "python",
   "name": "advent"
  },
  "language_info": {
   "codemirror_mode": {
    "name": "ipython",
    "version": 3
   },
   "file_extension": ".py",
   "mimetype": "text/x-python",
   "name": "python",
   "nbconvert_exporter": "python",
   "pygments_lexer": "ipython3",
   "version": "3.9.7"
  }
 },
 "nbformat": 4,
 "nbformat_minor": 5
}
