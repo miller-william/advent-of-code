{
 "cells": [
  {
   "cell_type": "markdown",
   "id": "767eb53c-fa94-469b-8742-193b226b9719",
   "metadata": {},
   "source": [
    "# Advent of Code 2022 - Day 09"
   ]
  },
  {
   "cell_type": "code",
   "execution_count": 1,
   "id": "7f2cf0f7-697e-4505-be9e-cb52127a7036",
   "metadata": {},
   "outputs": [],
   "source": [
    "inp = open(\"input.txt\",\"r\").read()"
   ]
  },
  {
   "cell_type": "code",
   "execution_count": 2,
   "id": "c986bc5b-4cde-43e9-b66b-94fc9b6ee23f",
   "metadata": {},
   "outputs": [],
   "source": [
    "import pandas as pd\n",
    "import numpy as np"
   ]
  },
  {
   "cell_type": "code",
   "execution_count": 3,
   "id": "69882142-7cd2-47f3-97e4-17c4ff4affa5",
   "metadata": {},
   "outputs": [],
   "source": [
    "def process_data(s):\n",
    "    return [[a,int(b)] for a,b in [x.split() for x in s.splitlines()]]"
   ]
  },
  {
   "cell_type": "code",
   "execution_count": 4,
   "id": "fe73f085-b05a-4848-b97f-9c454b7aee6e",
   "metadata": {},
   "outputs": [
    {
     "data": {
      "text/plain": [
       "[['L', 2],\n",
       " ['D', 2],\n",
       " ['R', 2],\n",
       " ['U', 1],\n",
       " ['L', 1],\n",
       " ['U', 1],\n",
       " ['R', 1],\n",
       " ['U', 2],\n",
       " ['R', 2]]"
      ]
     },
     "execution_count": 4,
     "metadata": {},
     "output_type": "execute_result"
    }
   ],
   "source": [
    "d = process_data(inp)\n",
    "d[:9]"
   ]
  },
  {
   "cell_type": "code",
   "execution_count": 5,
   "id": "14003b39-0a7e-4db1-ba63-6f062e9971ff",
   "metadata": {},
   "outputs": [],
   "source": [
    "#initial head,tail positions\n",
    "head = [0,0]\n",
    "tail = [0,0]"
   ]
  },
  {
   "cell_type": "code",
   "execution_count": 6,
   "id": "824495cd-d177-4250-9452-2866696498d6",
   "metadata": {},
   "outputs": [
    {
     "data": {
      "text/plain": [
       "{(0, 0)}"
      ]
     },
     "execution_count": 6,
     "metadata": {},
     "output_type": "execute_result"
    }
   ],
   "source": [
    "# to keep set of all tail visit locations\n",
    "tail_visited = {tuple(tail)}\n",
    "tail_visited"
   ]
  },
  {
   "cell_type": "markdown",
   "id": "a6f0544b-1263-44ce-8cb9-4085f2dcb0ab",
   "metadata": {},
   "source": [
    "## Part 1"
   ]
  },
  {
   "cell_type": "code",
   "execution_count": 7,
   "id": "626f18be-de44-451b-bfa9-ccd7b3176016",
   "metadata": {},
   "outputs": [],
   "source": [
    "# simple function to determine where the head moves to\n",
    "def move_head(x,direct):\n",
    "    if direct == \"R\":\n",
    "        x[1] += 1\n",
    "    if direct == \"L\":\n",
    "        x[1] -= 1\n",
    "    if direct == \"U\":\n",
    "        x[0] += 1\n",
    "    if direct == \"D\":\n",
    "        x[0] -= 1"
   ]
  },
  {
   "cell_type": "code",
   "execution_count": 8,
   "id": "5187b4b2-49b7-469f-bdc9-f48ad5510707",
   "metadata": {},
   "outputs": [],
   "source": [
    "# move tail based on head position - three possible cases\n",
    "\n",
    "def move_tail(tail,head):\n",
    "\n",
    "    x_diff = head[1] - tail[1]\n",
    "    y_diff = head[0] - tail[0]\n",
    "\n",
    "    #no move required\n",
    "    if abs(y_diff) <=1 and abs(x_diff) <=1:\n",
    "        return None\n",
    "    \n",
    "    #tail in direct line\n",
    "    elif head[0] == tail[0]:\n",
    "        tail[1] += np.sign(x_diff)\n",
    "        \n",
    "    elif head[1] == tail[1]:\n",
    "        tail[0] += np.sign(y_diff)\n",
    "    \n",
    "    #diagonal case    \n",
    "    else:\n",
    "        tail[1] += np.sign(x_diff)\n",
    "        tail[0] += np.sign(y_diff)"
   ]
  },
  {
   "cell_type": "code",
   "execution_count": 9,
   "id": "74188c40-3abb-4658-8363-b41b35481fdb",
   "metadata": {},
   "outputs": [],
   "source": [
    "# for each instruction, iterate through each individual step and update positions\n",
    "\n",
    "for direct,n in d:\n",
    "    for i in range(1,n+1):\n",
    "        move_head(head,direct)\n",
    "        move_tail(tail,head)\n",
    "        tail_visited.add(tuple(tail))"
   ]
  },
  {
   "cell_type": "code",
   "execution_count": 10,
   "id": "48ac1e5f-c82e-4a3b-9482-390c59c75c42",
   "metadata": {},
   "outputs": [
    {
     "data": {
      "text/plain": [
       "5513"
      ]
     },
     "execution_count": 10,
     "metadata": {},
     "output_type": "execute_result"
    }
   ],
   "source": [
    "len(tail_visited)"
   ]
  },
  {
   "cell_type": "markdown",
   "id": "c832c5f9-0ca2-4b54-b51f-81ec5f3e9083",
   "metadata": {},
   "source": [
    "## Part 2\n",
    "Need to extend the above solution for a list of knots.\n",
    "\n",
    "Each knot is a tail to the previous knot."
   ]
  },
  {
   "cell_type": "code",
   "execution_count": 11,
   "id": "d2f42b01-c30e-4ba1-b28d-288b429a2beb",
   "metadata": {},
   "outputs": [
    {
     "data": {
      "text/plain": [
       "[[0, 0],\n",
       " [0, 0],\n",
       " [0, 0],\n",
       " [0, 0],\n",
       " [0, 0],\n",
       " [0, 0],\n",
       " [0, 0],\n",
       " [0, 0],\n",
       " [0, 0],\n",
       " [0, 0]]"
      ]
     },
     "execution_count": 11,
     "metadata": {},
     "output_type": "execute_result"
    }
   ],
   "source": [
    "rope = [[0,0] for i in range(10)]\n",
    "rope"
   ]
  },
  {
   "cell_type": "code",
   "execution_count": 12,
   "id": "0efcc435-7234-493f-8b8e-cf6cfebeb46b",
   "metadata": {},
   "outputs": [
    {
     "data": {
      "text/plain": [
       "{(0, 0)}"
      ]
     },
     "execution_count": 12,
     "metadata": {},
     "output_type": "execute_result"
    }
   ],
   "source": [
    "tail_visited = {tuple(rope[9])}\n",
    "tail_visited"
   ]
  },
  {
   "cell_type": "code",
   "execution_count": 13,
   "id": "b4b85026-93dd-4be4-8a42-a927b4871cf8",
   "metadata": {},
   "outputs": [],
   "source": [
    "for direct,n in d:\n",
    "    for i in range(1,n+1):\n",
    "        move_head(rope[0],direct)\n",
    "        for knot in range(1,10):\n",
    "            move_tail(rope[knot],rope[knot-1])\n",
    "        tail_visited.add(tuple(rope[9]))"
   ]
  },
  {
   "cell_type": "code",
   "execution_count": 14,
   "id": "d4be8acc-0079-4304-9202-86b77114d1a8",
   "metadata": {},
   "outputs": [
    {
     "data": {
      "text/plain": [
       "2427"
      ]
     },
     "execution_count": 14,
     "metadata": {},
     "output_type": "execute_result"
    }
   ],
   "source": [
    "len(tail_visited)"
   ]
  }
 ],
 "metadata": {
  "kernelspec": {
   "display_name": "advent",
   "language": "python",
   "name": "advent"
  },
  "language_info": {
   "codemirror_mode": {
    "name": "ipython",
    "version": 3
   },
   "file_extension": ".py",
   "mimetype": "text/x-python",
   "name": "python",
   "nbconvert_exporter": "python",
   "pygments_lexer": "ipython3",
   "version": "3.9.7"
  }
 },
 "nbformat": 4,
 "nbformat_minor": 5
}
