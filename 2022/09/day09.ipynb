{
 "cells": [
  {
   "cell_type": "code",
   "execution_count": null,
   "id": "f3abdebb-fdf6-45ea-8df0-8e0b87015cc6",
   "metadata": {},
   "outputs": [],
   "source": [
    "test_input = \"\"\"R 4\n",
    "U 4\n",
    "L 3\n",
    "D 1\n",
    "R 4\n",
    "D 1\n",
    "L 5\n",
    "R 2\"\"\""
   ]
  },
  {
   "cell_type": "code",
   "execution_count": 261,
   "id": "bb731f72-5c43-458c-9e99-30810665a87d",
   "metadata": {},
   "outputs": [],
   "source": [
    "inp = open(\"input.txt\",\"r\").read()"
   ]
  },
  {
   "cell_type": "code",
   "execution_count": 152,
   "id": "c986bc5b-4cde-43e9-b66b-94fc9b6ee23f",
   "metadata": {},
   "outputs": [],
   "source": [
    "import pandas as pd\n",
    "import numpy as np"
   ]
  },
  {
   "cell_type": "code",
   "execution_count": 35,
   "id": "69882142-7cd2-47f3-97e4-17c4ff4affa5",
   "metadata": {},
   "outputs": [],
   "source": [
    "def process_data(s):\n",
    "    return [[a,int(b)] for a,b in [x.split() for x in s.splitlines()]]"
   ]
  },
  {
   "cell_type": "code",
   "execution_count": 262,
   "id": "fe73f085-b05a-4848-b97f-9c454b7aee6e",
   "metadata": {},
   "outputs": [],
   "source": [
    "d = process_data(test_input)\n",
    "d\n",
    "d = process_data(inp)"
   ]
  },
  {
   "cell_type": "code",
   "execution_count": 280,
   "id": "14003b39-0a7e-4db1-ba63-6f062e9971ff",
   "metadata": {},
   "outputs": [],
   "source": [
    "#initial head,tail positions\n",
    "head = [0,0]\n",
    "tail = [0,0]"
   ]
  },
  {
   "cell_type": "code",
   "execution_count": 281,
   "id": "006ce360-b8ea-4911-9d30-9a408722667d",
   "metadata": {},
   "outputs": [
    {
     "data": {
      "text/plain": [
       "[(0, 0)]"
      ]
     },
     "execution_count": 281,
     "metadata": {},
     "output_type": "execute_result"
    }
   ],
   "source": [
    "tail_visited = [tuple(tail)]\n",
    "tail_visited"
   ]
  },
  {
   "cell_type": "code",
   "execution_count": 282,
   "id": "824495cd-d177-4250-9452-2866696498d6",
   "metadata": {},
   "outputs": [
    {
     "data": {
      "text/plain": [
       "{(0, 0)}"
      ]
     },
     "execution_count": 282,
     "metadata": {},
     "output_type": "execute_result"
    }
   ],
   "source": [
    "tail_visited = {tuple(tail)}\n",
    "tail_visited"
   ]
  },
  {
   "cell_type": "markdown",
   "id": "a6f0544b-1263-44ce-8cb9-4085f2dcb0ab",
   "metadata": {},
   "source": [
    "## Part 1"
   ]
  },
  {
   "cell_type": "code",
   "execution_count": 283,
   "id": "615424b9-02c9-4bb5-b33d-85a83658f037",
   "metadata": {},
   "outputs": [],
   "source": [
    "for direct,n in d:\n",
    "    #print(\"INSTRUCTION: \",direct,n)\n",
    "    for i in range(1,n+1):\n",
    "        move_head(head,direct)\n",
    "        move_tail(tail,head)\n",
    "        tail_visited.add(tuple(tail))"
   ]
  },
  {
   "cell_type": "code",
   "execution_count": 272,
   "id": "626f18be-de44-451b-bfa9-ccd7b3176016",
   "metadata": {},
   "outputs": [],
   "source": [
    "def move_head(x,direct):\n",
    "    if direct == \"R\":\n",
    "        x[1] += 1\n",
    "    if direct == \"L\":\n",
    "        x[1] -= 1\n",
    "    if direct == \"U\":\n",
    "        x[0] += 1\n",
    "    if direct == \"D\":\n",
    "        x[0] -= 1"
   ]
  },
  {
   "cell_type": "code",
   "execution_count": 273,
   "id": "5187b4b2-49b7-469f-bdc9-f48ad5510707",
   "metadata": {},
   "outputs": [],
   "source": [
    "def move_tail(tail,head):\n",
    "    #print(\"t: \", tail)\n",
    "    #print(\"h: \", head)\n",
    "    x_diff = head[1] - tail[1]\n",
    "    y_diff = head[0] - tail[0]\n",
    "    #print(\"x_diff is: \", x_diff)\n",
    "    #print(\"y_diff is: \", y_diff)\n",
    "\n",
    "    #no move required\n",
    "    if abs(y_diff) <=1 and abs(x_diff) <=1:\n",
    "        #print(\"no move\")\n",
    "        return None\n",
    "    \n",
    "    #tail in direct line\n",
    "    elif head[0] == tail[0]:\n",
    "        tail[1] += np.sign(x_diff)\n",
    "        \n",
    "    elif head[1] == tail[1]:\n",
    "        tail[0] += np.sign(y_diff)\n",
    "    \n",
    "    \n",
    "    #diagonal case    \n",
    "    else:\n",
    "        tail[1] += np.sign(x_diff)\n",
    "        tail[0] += np.sign(y_diff)"
   ]
  },
  {
   "cell_type": "code",
   "execution_count": 284,
   "id": "48ac1e5f-c82e-4a3b-9482-390c59c75c42",
   "metadata": {},
   "outputs": [
    {
     "data": {
      "text/plain": [
       "5513"
      ]
     },
     "execution_count": 284,
     "metadata": {},
     "output_type": "execute_result"
    }
   ],
   "source": [
    "len(tail_visited)"
   ]
  },
  {
   "cell_type": "markdown",
   "id": "c832c5f9-0ca2-4b54-b51f-81ec5f3e9083",
   "metadata": {},
   "source": [
    "## Part 2"
   ]
  },
  {
   "cell_type": "code",
   "execution_count": 435,
   "id": "d2f42b01-c30e-4ba1-b28d-288b429a2beb",
   "metadata": {},
   "outputs": [
    {
     "data": {
      "text/plain": [
       "[[0, 0],\n",
       " [0, 0],\n",
       " [0, 0],\n",
       " [0, 0],\n",
       " [0, 0],\n",
       " [0, 0],\n",
       " [0, 0],\n",
       " [0, 0],\n",
       " [0, 0],\n",
       " [0, 0]]"
      ]
     },
     "execution_count": 435,
     "metadata": {},
     "output_type": "execute_result"
    }
   ],
   "source": [
    "rope = [[0,0] for i in range(10)]\n",
    "rope"
   ]
  },
  {
   "cell_type": "code",
   "execution_count": 436,
   "id": "0efcc435-7234-493f-8b8e-cf6cfebeb46b",
   "metadata": {},
   "outputs": [
    {
     "data": {
      "text/plain": [
       "{(0, 0)}"
      ]
     },
     "execution_count": 436,
     "metadata": {},
     "output_type": "execute_result"
    }
   ],
   "source": [
    "tail_visited = {tuple(rope[9])}\n",
    "tail_visited"
   ]
  },
  {
   "cell_type": "code",
   "execution_count": 437,
   "id": "b4b85026-93dd-4be4-8a42-a927b4871cf8",
   "metadata": {},
   "outputs": [],
   "source": [
    "for direct,n in d:\n",
    "    #print(\"INSTRUCTION: \",direct,n)\n",
    "    for i in range(1,n+1):\n",
    "        move_head(rope[0],direct)\n",
    "        #print(\"head at: \",rope[0])\n",
    "        #print(\"rope1 at: \",rope[1])\n",
    "        for knot in range(1,10):\n",
    "            move_tail(rope[knot],rope[knot-1])\n",
    "            #print(\"rope \",knot,\" at: \",rope[knot])\n",
    "        tail_visited.add(tuple(rope[9]))\n",
    "    #print(rope)"
   ]
  },
  {
   "cell_type": "code",
   "execution_count": 438,
   "id": "d4be8acc-0079-4304-9202-86b77114d1a8",
   "metadata": {},
   "outputs": [
    {
     "data": {
      "text/plain": [
       "2427"
      ]
     },
     "execution_count": 438,
     "metadata": {},
     "output_type": "execute_result"
    }
   ],
   "source": [
    "len(tail_visited)"
   ]
  }
 ],
 "metadata": {
  "kernelspec": {
   "display_name": "advent",
   "language": "python",
   "name": "advent"
  },
  "language_info": {
   "codemirror_mode": {
    "name": "ipython",
    "version": 3
   },
   "file_extension": ".py",
   "mimetype": "text/x-python",
   "name": "python",
   "nbconvert_exporter": "python",
   "pygments_lexer": "ipython3",
   "version": "3.9.7"
  }
 },
 "nbformat": 4,
 "nbformat_minor": 5
}
