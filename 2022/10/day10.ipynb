{
 "cells": [
  {
   "cell_type": "markdown",
   "id": "4aac7708-5ac1-475a-9499-01855abe8f07",
   "metadata": {},
   "source": [
    "# Advent of Code 2022 - Day 10"
   ]
  },
  {
   "cell_type": "code",
   "execution_count": 1,
   "id": "c8e93326-e7a8-4deb-95b0-b6dffc5049f8",
   "metadata": {},
   "outputs": [],
   "source": [
    "inp = open(\"input.txt\",\"r\").read()"
   ]
  },
  {
   "cell_type": "code",
   "execution_count": 2,
   "id": "0e588234-7bc5-43aa-8874-e477ae852784",
   "metadata": {},
   "outputs": [],
   "source": [
    "d = [x.split() for x in inp.splitlines()]"
   ]
  },
  {
   "cell_type": "code",
   "execution_count": 3,
   "id": "6bf1e8a8-1d61-4684-a6c1-b4175f623fd3",
   "metadata": {},
   "outputs": [
    {
     "data": {
      "text/plain": [
       "[['addx', '2'], ['addx', '3'], ['addx', '-2'], ['addx', '3'], ['noop']]"
      ]
     },
     "execution_count": 3,
     "metadata": {},
     "output_type": "execute_result"
    }
   ],
   "source": [
    "d.append(['noop'])\n",
    "d[:5]"
   ]
  },
  {
   "cell_type": "markdown",
   "id": "9b826dbf-d8f8-4588-9a95-160a94d5e823",
   "metadata": {},
   "source": [
    "## Part 1"
   ]
  },
  {
   "cell_type": "code",
   "execution_count": 4,
   "id": "90dfdf55-3eb3-4beb-9b4d-99df6e1333eb",
   "metadata": {},
   "outputs": [],
   "source": [
    "cycle = 0\n",
    "\n",
    "# create record of [cycle number, X value]\n",
    "record = [[0,1]]\n",
    "X = 1\n",
    "\n",
    "for instr in d:\n",
    "    # when it's a noop - increment cycle\n",
    "    if instr[0] == \"noop\":\n",
    "        cycle += 1\n",
    "        record.append([cycle,X])\n",
    "    \n",
    "    else:\n",
    "        record.append([cycle+1,X])\n",
    "        record.append([cycle+2,X])\n",
    "\n",
    "        X += int(instr[1])\n",
    "        cycle+=2"
   ]
  },
  {
   "cell_type": "code",
   "execution_count": 5,
   "id": "6aa295e1-2f70-4ace-aa17-64bdcf283a21",
   "metadata": {},
   "outputs": [
    {
     "data": {
      "text/plain": [
       "12840"
      ]
     },
     "execution_count": 5,
     "metadata": {},
     "output_type": "execute_result"
    }
   ],
   "source": [
    "p1_cycles = [20,60,100,140,180,220]\n",
    "\n",
    "ans = 0\n",
    "for x in p1_cycles:\n",
    "    ans = ans + (x*record[x][1])\n",
    "ans"
   ]
  },
  {
   "cell_type": "markdown",
   "id": "810533d7-80c0-4c2e-b4b5-d79ec88f2a42",
   "metadata": {},
   "source": [
    "## Part 2\n",
    "Just loop through the record object we created in part 1."
   ]
  },
  {
   "cell_type": "code",
   "execution_count": 6,
   "id": "71e99f24-219e-4567-8133-f1ed5cdcc4d0",
   "metadata": {},
   "outputs": [],
   "source": [
    "row_length = 40\n",
    "drawing = \"\"\n",
    "\n",
    "for row_start in range(0,240,row_length):\n",
    "    for cycle,X in record[row_start:row_start+40]:\n",
    "        row_pos = cycle - row_start\n",
    "        if abs(X-(row_pos-1)) <= 1:\n",
    "            drawing += \"#\"\n",
    "        else:\n",
    "            drawing += \".\""
   ]
  },
  {
   "cell_type": "code",
   "execution_count": 7,
   "id": "02e13be8-2235-4c1a-8659-468a7e6dd350",
   "metadata": {},
   "outputs": [
    {
     "data": {
      "text/plain": [
       "['.####.#..#...##.####.###....##.####.####',\n",
       " '....#.#.#.....#.#....#..#....#.#.......#',\n",
       " '...#..##......#.###..###.....#.###....#.',\n",
       " '..#...#.#.....#.#....#..#....#.#.....#..',\n",
       " '##....#.#..#..#.#....#..#.#..#.#....#...',\n",
       " '.####.#..#..##..#....###...##..#....####']"
      ]
     },
     "execution_count": 7,
     "metadata": {},
     "output_type": "execute_result"
    }
   ],
   "source": [
    "from textwrap import wrap\n",
    "wrap(drawing,40)"
   ]
  }
 ],
 "metadata": {
  "kernelspec": {
   "display_name": "advent",
   "language": "python",
   "name": "advent"
  },
  "language_info": {
   "codemirror_mode": {
    "name": "ipython",
    "version": 3
   },
   "file_extension": ".py",
   "mimetype": "text/x-python",
   "name": "python",
   "nbconvert_exporter": "python",
   "pygments_lexer": "ipython3",
   "version": "3.9.7"
  }
 },
 "nbformat": 4,
 "nbformat_minor": 5
}
