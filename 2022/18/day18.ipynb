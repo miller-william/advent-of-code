{
 "cells": [
  {
   "cell_type": "markdown",
   "id": "c64ac546-cdc3-4881-99ce-6b6fcd1353a4",
   "metadata": {},
   "source": [
    "# Advent of Code 2022 - Day 18"
   ]
  },
  {
   "cell_type": "code",
   "execution_count": 1,
   "id": "2b05319e-51a8-42f6-8309-008c1df92824",
   "metadata": {},
   "outputs": [],
   "source": [
    "import math"
   ]
  },
  {
   "cell_type": "code",
   "execution_count": 2,
   "id": "fe564447-f46d-4c7f-80a6-513fcad772a2",
   "metadata": {},
   "outputs": [],
   "source": [
    "test_input = \"\"\"2,2,2\n",
    "1,2,2\n",
    "3,2,2\n",
    "2,1,2\n",
    "2,3,2\n",
    "2,2,1\n",
    "2,2,3\n",
    "2,2,4\n",
    "2,2,6\n",
    "1,2,5\n",
    "3,2,5\n",
    "2,1,5\n",
    "2,3,5\"\"\""
   ]
  },
  {
   "cell_type": "code",
   "execution_count": 3,
   "id": "9ede9cf9-92c2-4dfa-84ce-c90563fa6a2e",
   "metadata": {},
   "outputs": [
    {
     "data": {
      "text/plain": [
       "16101"
      ]
     },
     "execution_count": 3,
     "metadata": {},
     "output_type": "execute_result"
    }
   ],
   "source": [
    "inp = open('input.txt','r').read()\n",
    "len(inp)"
   ]
  },
  {
   "cell_type": "code",
   "execution_count": 4,
   "id": "f77814e7-68e8-4714-90c8-bbfedb4d525f",
   "metadata": {},
   "outputs": [],
   "source": [
    "d = [[int(x) for x in row.split(',')] for row in inp.splitlines()]"
   ]
  },
  {
   "cell_type": "code",
   "execution_count": 5,
   "id": "bc6bf3c8-5bec-4c83-977e-99fb1575a7f1",
   "metadata": {},
   "outputs": [
    {
     "data": {
      "text/plain": [
       "2299440"
      ]
     },
     "execution_count": 5,
     "metadata": {},
     "output_type": "execute_result"
    }
   ],
   "source": [
    "# combinations to compare\n",
    "math.comb(len(d),2)"
   ]
  },
  {
   "cell_type": "code",
   "execution_count": 6,
   "id": "7a25dd9f-93b0-4eb7-903f-3904bf0107df",
   "metadata": {},
   "outputs": [],
   "source": [
    "def connected(x,y):\n",
    "    a,b,c = x\n",
    "    d,e,f = y\n",
    "    \n",
    "    if (abs(a-d) + abs(b-e) + abs(c-f)) == 1:\n",
    "        return True\n",
    "    else:\n",
    "        return False"
   ]
  },
  {
   "cell_type": "code",
   "execution_count": 7,
   "id": "c06c40f6-deeb-41e5-87b4-6a1e3210ad3b",
   "metadata": {},
   "outputs": [
    {
     "name": "stdout",
     "output_type": "stream",
     "text": [
      "9438\n"
     ]
    }
   ],
   "source": [
    "count = 0\n",
    "for x in d:\n",
    "    for y in d:\n",
    "        if x == y:\n",
    "            continue\n",
    "        else:\n",
    "            count += connected(x,y)\n",
    "\n",
    "print(count)"
   ]
  },
  {
   "cell_type": "code",
   "execution_count": 8,
   "id": "15d8e79c-7f0d-419b-a68c-fe15b73c23ce",
   "metadata": {},
   "outputs": [
    {
     "data": {
      "text/plain": [
       "3432"
      ]
     },
     "execution_count": 8,
     "metadata": {},
     "output_type": "execute_result"
    }
   ],
   "source": [
    "# p1 answer\n",
    "p1ans = (len(d) * 6) - count\n",
    "p1ans"
   ]
  },
  {
   "cell_type": "markdown",
   "id": "c248ecd2-e157-49e1-9ad2-50b579d287ac",
   "metadata": {},
   "source": [
    "## Part 2"
   ]
  },
  {
   "cell_type": "code",
   "execution_count": 9,
   "id": "b6e1a3a1-933d-43e2-842e-15c437d516bc",
   "metadata": {},
   "outputs": [],
   "source": [
    "# figure out the boundaries of our cubes\n",
    "x_ = [x for x,y,z in d]\n",
    "x_upper = max(x_)\n",
    "x_lower = min(x_)\n",
    "\n",
    "y_ = [y for x,y,z in d]\n",
    "y_upper = max(y_)\n",
    "y_lower = min(y_)\n",
    "\n",
    "z_ = [z for x,y,z in d]\n",
    "z_upper = max(z_)\n",
    "z_lower = min(z_)"
   ]
  },
  {
   "cell_type": "code",
   "execution_count": 10,
   "id": "13c7b79d-19bc-42ab-a7e8-5a75ea06140f",
   "metadata": {},
   "outputs": [],
   "source": [
    "#set of all points within boundary to check\n",
    "points_to_check = []\n",
    "\n",
    "for i in range(x_lower, x_upper+1):\n",
    "    for j in range(y_lower, y_upper+1):\n",
    "        for k in range(z_lower, z_upper+1):\n",
    "            check_point = [i,j,k]\n",
    "            if check_point not in d:\n",
    "                points_to_check.append(check_point)\n"
   ]
  },
  {
   "cell_type": "code",
   "execution_count": 11,
   "id": "6cc691bc-4645-40a8-b077-d9dd6717ee9a",
   "metadata": {},
   "outputs": [],
   "source": [
    "# function which checks whether a point is internal by iterating in each direction\n",
    "# could definitely simplify this and speed it up - but it works fine for the number of points we need to check\n",
    "\n",
    "def check_internal(point,d):\n",
    "    i,j,k = point\n",
    "    \n",
    "    #i direction\n",
    "    n = 0\n",
    "    x1_contained = -1\n",
    "    \n",
    "    while x1_contained <0:\n",
    "        n+=1\n",
    "        check_pos = [i+n,j,k]\n",
    "        #print(\"x1\")\n",
    "        \n",
    "        if check_pos in d:\n",
    "            #contained in x+\n",
    "            x1_contained = 1\n",
    "        if i+n > x_upper:\n",
    "            x1_contained = 0\n",
    "         \n",
    "    n =0\n",
    "    x2_contained = -1    \n",
    "    while x2_contained <0:\n",
    "        n+=1\n",
    "        check_pos = [i-n,j,k]\n",
    "        #print(\"x2\")\n",
    "        \n",
    "        if check_pos in d:\n",
    "            #contained in x+\n",
    "            x2_contained = 1\n",
    "        if i-n < x_lower:\n",
    "            x2_contained = 0\n",
    "            \n",
    "    n = 0\n",
    "    y1_contained = -1        \n",
    "    while y1_contained <0:\n",
    "        n+=1\n",
    "        check_pos = [i,j+n,k]\n",
    "        #print(\"y1\")\n",
    "        \n",
    "        if check_pos in d:\n",
    "            #contained in x+\n",
    "            y1_contained = 1\n",
    "        if j+n > y_upper:\n",
    "            y1_contained = 0\n",
    "            \n",
    "    n = 0\n",
    "    y2_contained = -1        \n",
    "    while y2_contained <0:\n",
    "        n+=1\n",
    "        check_pos = [i,j-n,k]\n",
    "        #print(\"y2\")\n",
    "        \n",
    "        if check_pos in d:\n",
    "            #contained in x+\n",
    "            y2_contained = 1\n",
    "        if j-n < y_lower:\n",
    "            y2_contained = 0\n",
    "    \n",
    "    n = 0\n",
    "    z1_contained = -1        \n",
    "    while z1_contained <0:\n",
    "        n+=1\n",
    "        check_pos = [i,j,k+n]\n",
    "        #print(\"z1\")\n",
    "        \n",
    "        if check_pos in d:\n",
    "            #contained in x+\n",
    "            z1_contained = 1\n",
    "        if k+n > z_upper:\n",
    "            z1_contained = 0\n",
    "    \n",
    "    n = 0\n",
    "    z2_contained = -1        \n",
    "    while z2_contained <0:\n",
    "        n+=1\n",
    "        check_pos = [i,j,k-n]\n",
    "        #print(\"z2\")\n",
    "        \n",
    "        if check_pos in d:\n",
    "            #contained in x+\n",
    "            z2_contained = 1\n",
    "        if k-n < z_lower:\n",
    "            z2_contained = 0\n",
    "    \n",
    "    if x1_contained + x2_contained + y1_contained + y2_contained + z1_contained + z2_contained == 6:\n",
    "        return True\n",
    "    else:\n",
    "        return False"
   ]
  },
  {
   "cell_type": "code",
   "execution_count": 12,
   "id": "7da17291-c7c4-46f1-8657-d6510330a7c1",
   "metadata": {},
   "outputs": [],
   "source": [
    "# find internal points using our function. \n",
    "\n",
    "internal_points = 0\n",
    "internal_coords = []\n",
    "\n",
    "for check_point in points_to_check:\n",
    "\n",
    "    if check_internal(check_point,d):\n",
    "        internal_points +=1\n",
    "        internal_coords.append(check_point)"
   ]
  },
  {
   "cell_type": "code",
   "execution_count": 13,
   "id": "7aeba1f8-40b9-48bf-a92a-55231f99cc49",
   "metadata": {},
   "outputs": [
    {
     "name": "stdout",
     "output_type": "stream",
     "text": [
      "4928\n"
     ]
    }
   ],
   "source": [
    "# need to check how many of these internal points are connected to work out the surface area to subtract (like p1)\n",
    "count = 0\n",
    "for x in internal_coords:\n",
    "    for y in internal_coords:\n",
    "        if x == y:\n",
    "            continue\n",
    "        else:\n",
    "            count += connected(x,y)\n",
    "\n",
    "print(count)"
   ]
  },
  {
   "cell_type": "code",
   "execution_count": 14,
   "id": "d3244616-986b-4694-a083-31fe0adabea9",
   "metadata": {},
   "outputs": [],
   "source": [
    "#surface area of internal points\n",
    "\n",
    "sai = (len(internal_coords) * 6) - count"
   ]
  },
  {
   "cell_type": "code",
   "execution_count": 15,
   "id": "6d77ace6-5126-4fd6-95c1-104e873de8f1",
   "metadata": {},
   "outputs": [
    {
     "data": {
      "text/plain": [
       "2042"
      ]
     },
     "execution_count": 15,
     "metadata": {},
     "output_type": "execute_result"
    }
   ],
   "source": [
    "p1ans-sai"
   ]
  }
 ],
 "metadata": {
  "kernelspec": {
   "display_name": "advent",
   "language": "python",
   "name": "advent"
  },
  "language_info": {
   "codemirror_mode": {
    "name": "ipython",
    "version": 3
   },
   "file_extension": ".py",
   "mimetype": "text/x-python",
   "name": "python",
   "nbconvert_exporter": "python",
   "pygments_lexer": "ipython3",
   "version": "3.9.7"
  }
 },
 "nbformat": 4,
 "nbformat_minor": 5
}
