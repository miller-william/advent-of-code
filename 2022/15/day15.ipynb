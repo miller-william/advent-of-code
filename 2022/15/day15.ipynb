{
 "cells": [
  {
   "cell_type": "markdown",
   "id": "cf67f1ac-4fe4-4df3-9a0d-883a2112f39a",
   "metadata": {},
   "source": [
    "# Advent of Code 2022 - Day 15"
   ]
  },
  {
   "cell_type": "code",
   "execution_count": null,
   "id": "4adeb819-909c-4557-af37-79b6e236f7b9",
   "metadata": {},
   "outputs": [],
   "source": [
    "import re"
   ]
  },
  {
   "cell_type": "code",
   "execution_count": null,
   "id": "3be1f6cb-8a5d-437d-bd88-36cd0fecbc13",
   "metadata": {},
   "outputs": [],
   "source": [
    "inp = open('input.txt','r').read() "
   ]
  },
  {
   "cell_type": "code",
   "execution_count": null,
   "id": "58a519aa-65ee-46d1-b843-aff118348bd8",
   "metadata": {},
   "outputs": [],
   "source": [
    "d = [[int(y) for y in re.findall('-?\\d+\\.?\\d*',x)] for x in inp.splitlines()]\n",
    "# [sensor x, sensor y , closest x, closest y]"
   ]
  },
  {
   "cell_type": "code",
   "execution_count": null,
   "id": "43e2eb20-e14c-4a50-8c86-94b2dbb4da13",
   "metadata": {},
   "outputs": [],
   "source": [
    "class sensor:\n",
    "    \"\"\"\n",
    "    \n",
    "    \"\"\"\n",
    "\n",
    "    def __init__(self, x, y, closest_x, closest_y):\n",
    "        self.x = x\n",
    "        self.y = y\n",
    "        \n",
    "        #beacon position\n",
    "        self.b_x = closest_x\n",
    "        self.b_y = closest_y\n",
    "        \n",
    "        self.mhtn = abs(self.x-self.b_x) + abs(self.y - self.b_y)\n",
    "        \n",
    "    def mhtn_dist(self,point):\n",
    "        px,py = point\n",
    "        return abs(self.x - px) + abs(self.y - py)\n",
    "    \n",
    "    #calculate if a point is within or equal to manhattan distance of a point\n",
    "    def blocked_point(self, point):\n",
    "        if self.mhtn_dist(point) <= self.mhtn:\n",
    "            return True\n",
    "        else:\n",
    "            return False"
   ]
  },
  {
   "cell_type": "code",
   "execution_count": null,
   "id": "ea4c5205-d259-46fc-9260-d8b8ce645062",
   "metadata": {},
   "outputs": [],
   "source": [
    "sensors = []\n",
    "for x,y,b_x,b_y in d:\n",
    "    sensors.append(sensor(x,y,b_x,b_y))"
   ]
  },
  {
   "cell_type": "code",
   "execution_count": null,
   "id": "3f268557-831e-405d-b5a7-7906f9402f68",
   "metadata": {},
   "outputs": [],
   "source": [
    "min_x = sensors[0].x\n",
    "max_x = sensors[0].x"
   ]
  },
  {
   "cell_type": "code",
   "execution_count": null,
   "id": "60e72eab-28ab-4a52-871b-0fc66cba9261",
   "metadata": {},
   "outputs": [],
   "source": [
    "for s in sensors:\n",
    "    if (s.x - s.mhtn) < min_x:\n",
    "        min_x = s.x - s.mhtn\n",
    "        \n",
    "    if (s.x + s.mhtn)  > max_x:\n",
    "        max_x = s.x + s.mhtn"
   ]
  },
  {
   "cell_type": "code",
   "execution_count": null,
   "id": "1678c2a7-8499-4bf4-a646-11983cad09c6",
   "metadata": {},
   "outputs": [],
   "source": [
    "results = []\n",
    "check_y = 10\n",
    "loop = True\n",
    "\n",
    "for i in range(min_x,max_x):\n",
    "    check_point = (i,check_y)\n",
    "    d = 0\n",
    "    for s in sensors:\n",
    "        if (s.b_x,s.b_y) == check_point:\n",
    "            break\n",
    "        if s.blocked_point(check_point) == True:\n",
    "            #print(check_point,\" blocked by \",(s.x,s.y))\n",
    "            results.append([i,1])\n",
    "            d = 1\n",
    "            break\n",
    "    if d==0:\n",
    "        results.append([i,0])"
   ]
  },
  {
   "cell_type": "code",
   "execution_count": null,
   "id": "cef80e83-c78f-41c8-9d4b-221272881853",
   "metadata": {},
   "outputs": [],
   "source": [
    "sum([b for a,b in results])"
   ]
  },
  {
   "cell_type": "markdown",
   "id": "a682fff2-08f0-4426-9e02-46b636790f1c",
   "metadata": {},
   "source": [
    "### Part 2"
   ]
  },
  {
   "cell_type": "markdown",
   "id": "27afae4d-fc23-4be6-919a-0863946c7e2f",
   "metadata": {},
   "source": [
    "My brute-force approach has no chance for part 2 where we would have 4,000,000 by 4,000,000 cells to check.\n",
    "\n",
    "Need to iterate over the sensors and work out the 'ruled-out' segments."
   ]
  },
  {
   "cell_type": "code",
   "execution_count": null,
   "id": "b61d4bbc-0136-4e81-b940-74d343c9dfa7",
   "metadata": {},
   "outputs": [],
   "source": [
    "check_y = 2000000"
   ]
  },
  {
   "cell_type": "code",
   "execution_count": null,
   "id": "d8d0c34c-003e-46e6-9e6d-4d71b15c2d90",
   "metadata": {},
   "outputs": [],
   "source": [
    "# take a list of sensors, and return the range of x values that are 'blocked' for a fixed y value.\n",
    "# also return a set of known locations (these are where our beacons are located)\n",
    "\n",
    "def blocked_ranges(sensors,check_y):\n",
    "    ranges = []\n",
    "    known = set()\n",
    "    for s in sensors:\n",
    "\n",
    "        x,y = s.x,s.y\n",
    "        m = s.mhtn\n",
    "\n",
    "        #reaches check_y \n",
    "        r = m - abs(check_y-y) \n",
    "\n",
    "        if r < 0:\n",
    "            continue\n",
    "\n",
    "        min_x = x - r\n",
    "        max_x = x + r\n",
    "\n",
    "        ranges.append((min_x,max_x))\n",
    "\n",
    "        if s.b_y == check_y :\n",
    "            known.add(s.b_x)\n",
    "            \n",
    "        ranges.sort()\n",
    "    return ranges, known"
   ]
  },
  {
   "cell_type": "code",
   "execution_count": null,
   "id": "59c89bea-4f3e-4062-9657-db9493db08be",
   "metadata": {},
   "outputs": [],
   "source": [
    "# now we consolidate our list of sorted exclusion ranges\n",
    "\n",
    "def consol_ranges(ranges):\n",
    "    final = []\n",
    "\n",
    "    for left,right in ranges:\n",
    "\n",
    "        #if first pass\n",
    "        if not final:\n",
    "            final.append([left,right])\n",
    "            continue\n",
    "        \n",
    "        #want to compare new range to previous one\n",
    "        prev_left,prev_right = final[-1]\n",
    "        \n",
    "        # if new left hand number is bigger than the end of the previous right +1 , we start a new range as we do not have a continous range \n",
    "        if left > prev_right +1:\n",
    "            final.append([left,right])\n",
    "            continue\n",
    "        \n",
    "        # If we have a continous range, update the right hand number to encompass this new range\n",
    "        final[-1][1] = max(right,prev_right)\n",
    "    \n",
    "    return final"
   ]
  },
  {
   "cell_type": "code",
   "execution_count": null,
   "id": "578e4878-ee03-4a4d-8226-5da83851ad91",
   "metadata": {},
   "outputs": [],
   "source": [
    "# see if it works for part 1 - e.g. over 1 Y value\n",
    "def part_1(final,known):\n",
    "    \n",
    "    blocked = set()\n",
    "    for left, right in final:\n",
    "        for x in range(left, right + 1):\n",
    "            blocked.add(x)\n",
    "\n",
    "    return (len(blocked - known))"
   ]
  },
  {
   "cell_type": "code",
   "execution_count": null,
   "id": "47a52127-9468-4b15-a4d7-32a45e013b13",
   "metadata": {},
   "outputs": [],
   "source": [
    "# Part 1 answer\n",
    "part_1(final,known)"
   ]
  },
  {
   "cell_type": "code",
   "execution_count": null,
   "id": "f87c887a-22f9-48a4-b1a3-207972ac3d64",
   "metadata": {},
   "outputs": [],
   "source": [
    "# Part 2\n",
    "#` Still a big loop but o(M) rather than o(M^2)"
   ]
  },
  {
   "cell_type": "code",
   "execution_count": null,
   "id": "df949816-27cd-43eb-80d0-d83ccb1a4088",
   "metadata": {},
   "outputs": [],
   "source": [
    "size = 4000000"
   ]
  },
  {
   "cell_type": "code",
   "execution_count": null,
   "id": "f181337e-a92f-4936-ba7f-133465493ad1",
   "metadata": {},
   "outputs": [],
   "source": [
    "def part_2(sensors,size):\n",
    "\n",
    "    for check_y in range(size + 1):\n",
    "\n",
    "        ranges, known = blocked_ranges(sensors,check_y)\n",
    "\n",
    "        final = consol_ranges(ranges)\n",
    "\n",
    "        # for reach range in final, check whether there is a value between 0 and size which is not inside a range\n",
    "        a = 0 \n",
    "        for left, right in final:\n",
    "            if a < left:\n",
    "                return (a * size + check_y)\n",
    "\n",
    "\n",
    "            #update value to one past the current range\n",
    "            a = max(a, right + 1)\n",
    "            if a > size:\n",
    "                break "
   ]
  },
  {
   "cell_type": "code",
   "execution_count": null,
   "id": "b4974dc6-3a5c-423e-86da-00ee18de630e",
   "metadata": {},
   "outputs": [],
   "source": [
    "part_2(sensors,size)"
   ]
  }
 ],
 "metadata": {
  "kernelspec": {
   "display_name": "advent",
   "language": "python",
   "name": "advent"
  },
  "language_info": {
   "codemirror_mode": {
    "name": "ipython",
    "version": 3
   },
   "file_extension": ".py",
   "mimetype": "text/x-python",
   "name": "python",
   "nbconvert_exporter": "python",
   "pygments_lexer": "ipython3",
   "version": "3.9.7"
  }
 },
 "nbformat": 4,
 "nbformat_minor": 5
}
