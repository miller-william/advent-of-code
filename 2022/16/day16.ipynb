{
 "cells": [
  {
   "cell_type": "markdown",
   "id": "6ccf0011-ee99-4d05-925a-82c04c1bbc37",
   "metadata": {},
   "source": [
    "# Advent of Code 2022 - Day 16"
   ]
  },
  {
   "cell_type": "code",
   "execution_count": 332,
   "id": "5c6f6ffe-fe41-40b0-858c-9a1897ceca32",
   "metadata": {},
   "outputs": [],
   "source": [
    "import re\n",
    "import networkx as nx\n",
    "import functools\n",
    "from collections import defaultdict"
   ]
  },
  {
   "cell_type": "code",
   "execution_count": 333,
   "id": "83927827-b607-4d4a-8ec4-c024989569b9",
   "metadata": {},
   "outputs": [],
   "source": [
    "test_input = \"\"\"Valve AA has flow rate=0; tunnels lead to valves DD, II, BB\n",
    "Valve BB has flow rate=13; tunnels lead to valves CC, AA\n",
    "Valve CC has flow rate=2; tunnels lead to valves DD, BB\n",
    "Valve DD has flow rate=20; tunnels lead to valves CC, AA, EE\n",
    "Valve EE has flow rate=3; tunnels lead to valves FF, DD\n",
    "Valve FF has flow rate=0; tunnels lead to valves EE, GG\n",
    "Valve GG has flow rate=0; tunnels lead to valves FF, HH\n",
    "Valve HH has flow rate=22; tunnel leads to valve GG\n",
    "Valve II has flow rate=0; tunnels lead to valves AA, JJ\n",
    "Valve JJ has flow rate=21; tunnel leads to valve II\"\"\""
   ]
  },
  {
   "cell_type": "code",
   "execution_count": 334,
   "id": "f5408bc0-2241-4212-b06c-7dbd7aa2fdfc",
   "metadata": {},
   "outputs": [],
   "source": [
    "inp = open('input.txt','r').read()"
   ]
  },
  {
   "cell_type": "code",
   "execution_count": 335,
   "id": "96411d0c-f8b6-48c9-8fc5-db16203ea50e",
   "metadata": {},
   "outputs": [
    {
     "data": {
      "text/plain": [
       "[['GS', 0, ['KB', 'GW']],\n",
       " ['CB', 0, ['GW', 'CT']],\n",
       " ['TP', 0, ['LR', 'TH']],\n",
       " ['FI', 3, ['DA', 'AY', 'ZO', 'MP', 'XP']],\n",
       " ['WV', 0, ['TH', 'HG']],\n",
       " ['EA', 16, ['PL', 'NG', 'AX']],\n",
       " ['AT', 9, ['ZO', 'EM']],\n",
       " ['WS', 0, ['GW', 'RD']],\n",
       " ['MP', 0, ['AA', 'FI']],\n",
       " ['GE', 0, ['AX', 'QN']],\n",
       " ['SA', 10, ['NI', 'OM', 'RD', 'RC', 'GO']],\n",
       " ['NI', 0, ['SA', 'YG']],\n",
       " ['GO', 0, ['TH', 'SA']],\n",
       " ['IT', 0, ['WB', 'KB']],\n",
       " ['NG', 0, ['EA', 'KF']],\n",
       " ['RD', 0, ['SA', 'WS']],\n",
       " ['LR', 12, ['TP', 'XR']],\n",
       " ['TO', 22, ['VW']],\n",
       " ['WF', 0, ['XX', 'OO']],\n",
       " ['YD', 21, ['NR']],\n",
       " ['XR', 0, ['LR', 'KB']],\n",
       " ['KF', 0, ['GW', 'NG']],\n",
       " ['OO', 0, ['UD', 'WF']],\n",
       " ['HG', 0, ['WV', 'YG']],\n",
       " ['CT', 0, ['YG', 'CB']],\n",
       " ['DA', 0, ['TH', 'FI']],\n",
       " ['YY', 0, ['AA', 'YG']],\n",
       " ['VW', 0, ['TO', 'EM']],\n",
       " ['RC', 0, ['AA', 'SA']],\n",
       " ['PL', 0, ['AA', 'EA']],\n",
       " ['TH', 14, ['GO', 'WV', 'GJ', 'DA', 'TP']],\n",
       " ['QN', 24, ['LC', 'GE']],\n",
       " ['XE', 0, ['NA', 'XX']],\n",
       " ['XP', 0, ['FI', 'OM']],\n",
       " ['AX', 0, ['GE', 'EA']],\n",
       " ['EM', 0, ['AT', 'VW']],\n",
       " ['NR', 0, ['YD', 'PM']],\n",
       " ['YG', 4, ['AY', 'HG', 'NI', 'YY', 'CT']],\n",
       " ['PM', 0, ['UD', 'NR']],\n",
       " ['AY', 0, ['YG', 'FI']],\n",
       " ['GJ', 0, ['AA', 'TH']],\n",
       " ['LC', 0, ['QN', 'GW']],\n",
       " ['UD', 17, ['OO', 'PM']],\n",
       " ['AA', 0, ['MP', 'GJ', 'YY', 'RC', 'PL']],\n",
       " ['OM', 0, ['XP', 'SA']],\n",
       " ['WB', 0, ['NA', 'IT']],\n",
       " ['GW', 11, ['KF', 'GS', 'LC', 'CB', 'WS']],\n",
       " ['NA', 7, ['WB', 'XE']],\n",
       " ['XX', 20, ['XE', 'WF']],\n",
       " ['ZO', 0, ['AT', 'FI']],\n",
       " ['KB', 8, ['XR', 'GS', 'IT']]]"
      ]
     },
     "execution_count": 335,
     "metadata": {},
     "output_type": "execute_result"
    }
   ],
   "source": [
    "d = [[x[6:8],int(re.findall('-?\\d+\\.?\\d*',x)[0]),[y.replace(\",\",\"\") for y in x.split(\" \")[9:]]] for x in inp.splitlines()]\n",
    "d"
   ]
  },
  {
   "cell_type": "code",
   "execution_count": 336,
   "id": "497c6f7c-ebb5-43b0-be5b-9afcd2f4f475",
   "metadata": {},
   "outputs": [
    {
     "data": {
      "text/plain": [
       "{'GS': 0,\n",
       " 'CB': 0,\n",
       " 'TP': 0,\n",
       " 'FI': 3,\n",
       " 'WV': 0,\n",
       " 'EA': 16,\n",
       " 'AT': 9,\n",
       " 'WS': 0,\n",
       " 'MP': 0,\n",
       " 'GE': 0,\n",
       " 'SA': 10,\n",
       " 'NI': 0,\n",
       " 'GO': 0,\n",
       " 'IT': 0,\n",
       " 'NG': 0,\n",
       " 'RD': 0,\n",
       " 'LR': 12,\n",
       " 'TO': 22,\n",
       " 'WF': 0,\n",
       " 'YD': 21,\n",
       " 'XR': 0,\n",
       " 'KF': 0,\n",
       " 'OO': 0,\n",
       " 'HG': 0,\n",
       " 'CT': 0,\n",
       " 'DA': 0,\n",
       " 'YY': 0,\n",
       " 'VW': 0,\n",
       " 'RC': 0,\n",
       " 'PL': 0,\n",
       " 'TH': 14,\n",
       " 'QN': 24,\n",
       " 'XE': 0,\n",
       " 'XP': 0,\n",
       " 'AX': 0,\n",
       " 'EM': 0,\n",
       " 'NR': 0,\n",
       " 'YG': 4,\n",
       " 'PM': 0,\n",
       " 'AY': 0,\n",
       " 'GJ': 0,\n",
       " 'LC': 0,\n",
       " 'UD': 17,\n",
       " 'AA': 0,\n",
       " 'OM': 0,\n",
       " 'WB': 0,\n",
       " 'GW': 11,\n",
       " 'NA': 7,\n",
       " 'XX': 20,\n",
       " 'ZO': 0,\n",
       " 'KB': 8}"
      ]
     },
     "execution_count": 336,
     "metadata": {},
     "output_type": "execute_result"
    }
   ],
   "source": [
    "rates = {a:b for a,b,c in d}\n",
    "rates"
   ]
  },
  {
   "cell_type": "code",
   "execution_count": 337,
   "id": "23afb899-76d0-4d66-88c5-966fcea5c325",
   "metadata": {},
   "outputs": [],
   "source": [
    "# Create an empty graph\n",
    "G = nx.Graph()\n",
    "\n",
    "# Add edges to the graph with weights as number of steps \n",
    "for v in d:\n",
    "    valve, rate, connected = v\n",
    "    for c_v in connected:\n",
    "        G.add_edge(valve, c_v)"
   ]
  },
  {
   "cell_type": "code",
   "execution_count": 338,
   "id": "5b5f2b83-8ad5-4cef-9649-7d5c8858a364",
   "metadata": {},
   "outputs": [],
   "source": [
    "# create time to travel/open lookup\n",
    "\n",
    "dist_dict = defaultdict(dict)\n",
    "for v in set(rates):\n",
    "    for c in set(rates)-{v}:\n",
    "        dist_dict[v][c] = nx.shortest_path_length(G,v,c) + 1"
   ]
  },
  {
   "cell_type": "code",
   "execution_count": 339,
   "id": "53cc7dee-3816-40ec-9d66-f15bc13fa334",
   "metadata": {},
   "outputs": [],
   "source": [
    "options = frozenset([a for a in rates if rates[a]!=0])"
   ]
  },
  {
   "cell_type": "code",
   "execution_count": 340,
   "id": "7581d307-8541-4b33-bb70-81f256b20c0c",
   "metadata": {},
   "outputs": [],
   "source": [
    "@functools.lru_cache(maxsize=None)\n",
    "\n",
    "def best_choice(current, options, mins_left):\n",
    "    \n",
    "    #for a given position and remaining valves, return the highest score possible\n",
    "    best_score = []\n",
    "    \n",
    "    # loop through available options (unopened valves)\n",
    "    for dest in options:\n",
    "        \n",
    "        #if there's enough time to get there and open then we calculate the score\n",
    "        if dist_dict[current][dest] < mins_left:\n",
    "            \n",
    "            new_mins_left = mins_left - (dist_dict[current][dest])\n",
    "                \n",
    "            new_sum = (rates[dest] * (new_mins_left))\n",
    "            \n",
    "            #valve closed\n",
    "            new_options = options - {dest}\n",
    "            \n",
    "            #calculate the score of subsequent choices recursively\n",
    "            \n",
    "            best_score.append((new_mins_left * rates[dest]) + best_choice(dest, new_options, new_mins_left))\n",
    "\n",
    "    if best_score:\n",
    "        return max(best_score)\n",
    "    else: \n",
    "        return 0"
   ]
  },
  {
   "cell_type": "code",
   "execution_count": 341,
   "id": "6ee74660-4136-4b35-b3b8-064a0668abf6",
   "metadata": {},
   "outputs": [
    {
     "data": {
      "text/plain": [
       "1775"
      ]
     },
     "execution_count": 341,
     "metadata": {},
     "output_type": "execute_result"
    }
   ],
   "source": [
    "best_choice(\"AA\",options,30)"
   ]
  },
  {
   "cell_type": "code",
   "execution_count": 288,
   "id": "8d78d6c2-e476-4f97-95a4-38fdd8d69cc8",
   "metadata": {},
   "outputs": [],
   "source": [
    "## Part 2"
   ]
  },
  {
   "cell_type": "code",
   "execution_count": null,
   "id": "b9991bc8-a74b-406e-9c00-f91345636f2e",
   "metadata": {},
   "outputs": [],
   "source": []
  },
  {
   "cell_type": "code",
   "execution_count": null,
   "id": "66cc0339-8c2a-4d11-9a8c-83f5266b6407",
   "metadata": {},
   "outputs": [],
   "source": []
  }
 ],
 "metadata": {
  "kernelspec": {
   "display_name": "advent",
   "language": "python",
   "name": "advent"
  },
  "language_info": {
   "codemirror_mode": {
    "name": "ipython",
    "version": 3
   },
   "file_extension": ".py",
   "mimetype": "text/x-python",
   "name": "python",
   "nbconvert_exporter": "python",
   "pygments_lexer": "ipython3",
   "version": "3.9.7"
  }
 },
 "nbformat": 4,
 "nbformat_minor": 5
}
