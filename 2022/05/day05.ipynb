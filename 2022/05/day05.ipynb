{
 "cells": [
  {
   "cell_type": "markdown",
   "id": "a0b67d4f-2fa3-4f5d-99d6-bfd5e7c7fc70",
   "metadata": {},
   "source": [
    "# Advent of Code 2022 - Day 05"
   ]
  },
  {
   "cell_type": "code",
   "execution_count": 376,
   "id": "e948105e-5f8f-4af9-bc04-0c80cd88287f",
   "metadata": {},
   "outputs": [],
   "source": [
    "import re"
   ]
  },
  {
   "cell_type": "code",
   "execution_count": 377,
   "id": "1327f7aa-662d-4c88-811d-86e14f606dfa",
   "metadata": {},
   "outputs": [
    {
     "data": {
      "text/plain": [
       "'    [D]    \\n[N] [C]    \\n[Z] [M] [P]\\n 1   2   3 \\n\\nmove 1 from 2 to 1\\nmove 3 from 1 to 3\\nmove 2 from 2 to 1\\nmove 1 from 1 to 2'"
      ]
     },
     "execution_count": 377,
     "metadata": {},
     "output_type": "execute_result"
    }
   ],
   "source": [
    "test_input = \"\"\"    [D]    \n",
    "[N] [C]    \n",
    "[Z] [M] [P]\n",
    " 1   2   3 \n",
    "\n",
    "move 1 from 2 to 1\n",
    "move 3 from 1 to 3\n",
    "move 2 from 2 to 1\n",
    "move 1 from 1 to 2\"\"\"\n",
    "test_input"
   ]
  },
  {
   "cell_type": "code",
   "execution_count": 378,
   "id": "080752f5-f407-4107-b90b-067df9e9565d",
   "metadata": {},
   "outputs": [],
   "source": [
    "inp = open(\"input.txt\",\"r\").read()"
   ]
  },
  {
   "cell_type": "markdown",
   "id": "2eec4d4b-26f6-4944-8c63-05d02c17dda7",
   "metadata": {},
   "source": [
    "## Part 1"
   ]
  },
  {
   "cell_type": "markdown",
   "id": "1170e37f-4c44-4500-bf68-6dd1e0fd0705",
   "metadata": {},
   "source": [
    "### Set up data"
   ]
  },
  {
   "cell_type": "code",
   "execution_count": 379,
   "id": "bbb0d1dc-9e23-4a3b-9d67-1e6c7413dfa1",
   "metadata": {},
   "outputs": [],
   "source": [
    "def process_data(input_string):\n",
    "    stack,instr = input_string.split('\\n\\n')\n",
    "    # creating stacks as lists of strings... this is a bit bodgy\n",
    "    # Need to read in the text and then transpose it so that each column is a stack in a list\n",
    "    \n",
    "    s = stack.replace(\"    \",\".\").replace(\"[\",\"\").replace(\"]\",\"\").replace(\" \",\"\").splitlines()\n",
    "    s = [[c.split() for c in x] for x in s]\n",
    "    \n",
    "    # use zip to transpose the elements of s\n",
    "    s = list(zip(*s))\n",
    "    s = [list(x) for x in s]\n",
    "    \n",
    "    #remove the placehold '.' i put in earlier\n",
    "    s = [[x for x in b if x != [\".\"]] for b in s]\n",
    "    \n",
    "    #convert the lists to strings\n",
    "    s = [[''.join(x) for x in b] for b in s]\n",
    "    s = [''.join(x) for x in s]\n",
    "    print(s)\n",
    "    \n",
    "    # convert text instructions into lists of 3 integers [amount to move, stack to move from, stack to move to ]\n",
    "    instr = instr.splitlines()\n",
    "    instr = [re.findall(r'\\d+',x) for x in instr]\n",
    "    instr = [[int(x) for x in d] for d in instr]\n",
    "    \n",
    "    return(s,instr)"
   ]
  },
  {
   "cell_type": "code",
   "execution_count": 380,
   "id": "d3f89576-22ce-439c-b5da-4b620b05bcaf",
   "metadata": {},
   "outputs": [
    {
     "name": "stdout",
     "output_type": "stream",
     "text": [
      "['FTNZMGHJ1', 'JWV2', 'HTBJLVG3', 'LVDCNJPB4', 'GRPMSWF5', 'MVNBFCHG6', 'RMGHD7', 'DZVMNH8', 'HFNG9']\n"
     ]
    }
   ],
   "source": [
    "s,instr = process_data(inp)"
   ]
  },
  {
   "cell_type": "code",
   "execution_count": 381,
   "id": "c965715a-670c-4d2b-bb84-70f4f13d0000",
   "metadata": {},
   "outputs": [],
   "source": [
    "# loop through each instruction and modify our character stacks\n",
    "for x in instr:\n",
    "    amount = x[0]\n",
    "    #indexing nearly got me. stack 1 is at position 0 :) \n",
    "    from_ = x[1]-1\n",
    "    to = x[2]-1\n",
    "    \n",
    "    # Extract the characters we want to move\n",
    "    moving_list = s[from_][: amount]\n",
    "    \n",
    "    #Reverse the order of these characters\n",
    "    moving_list = [ moving_list[i] for i in range(len(moving_list) - 1, -1, -1) ]\n",
    "    \n",
    "    # convert back to string\n",
    "    moving_list = ''.join(moving_list)\n",
    "    \n",
    "    #delete chraracters from old stack\n",
    "    s[from_] = s[from_][amount:]\n",
    "    \n",
    "    #add characters to new stack\n",
    "    s[to] = moving_list + s[to]"
   ]
  },
  {
   "cell_type": "code",
   "execution_count": 382,
   "id": "bb4d54dc-b707-4e05-9aa8-36152ac11a15",
   "metadata": {},
   "outputs": [
    {
     "data": {
      "text/plain": [
       "'TDCHVHJTG'"
      ]
     },
     "execution_count": 382,
     "metadata": {},
     "output_type": "execute_result"
    }
   ],
   "source": [
    "# Part 1 answer\n",
    "''.join([c[0] for c in s])"
   ]
  },
  {
   "cell_type": "markdown",
   "id": "0f12d791-d811-45f4-9f6c-29c3525b509e",
   "metadata": {},
   "source": [
    "## Part 2\n",
    "Exactly same as above but without reversing"
   ]
  },
  {
   "cell_type": "code",
   "execution_count": 383,
   "id": "356c4885-0233-40ae-9b71-e454d88cb787",
   "metadata": {},
   "outputs": [
    {
     "name": "stdout",
     "output_type": "stream",
     "text": [
      "['FTNZMGHJ1', 'JWV2', 'HTBJLVG3', 'LVDCNJPB4', 'GRPMSWF5', 'MVNBFCHG6', 'RMGHD7', 'DZVMNH8', 'HFNG9']\n"
     ]
    }
   ],
   "source": [
    "# data has been modified so re-import\n",
    "s,instr = process_data(inp)"
   ]
  },
  {
   "cell_type": "code",
   "execution_count": 384,
   "id": "80c6157d-2305-4927-a661-887faee32126",
   "metadata": {},
   "outputs": [],
   "source": [
    "for x in instr:\n",
    "    amount = x[0]\n",
    "    #indexing nearly got me. stack 1 is at position 0 :) \n",
    "    from_ = x[1]-1\n",
    "    to = x[2]-1\n",
    "    \n",
    "    # Extract the characters we want to move\n",
    "    moving_list = s[from_][: amount]\n",
    "    \n",
    "    #Reverse the order of these characters - DON'T NEED THIS IN PART 2\n",
    "    # moving_list = [ moving_list[i] for i in range(len(moving_list) - 1, -1, -1) ]\n",
    "    \n",
    "    # convert back to string\n",
    "    moving_list = ''.join(moving_list)\n",
    "    \n",
    "    #delete chraracters from old stack\n",
    "    s[from_] = s[from_][amount:]\n",
    "    \n",
    "    #add characters to new stack\n",
    "    s[to] = moving_list + s[to]"
   ]
  },
  {
   "cell_type": "code",
   "execution_count": 385,
   "id": "05f98368-9d9c-47dd-b2fe-d20d564c6025",
   "metadata": {},
   "outputs": [
    {
     "data": {
      "text/plain": [
       "'NGCMPJLHV'"
      ]
     },
     "execution_count": 385,
     "metadata": {},
     "output_type": "execute_result"
    }
   ],
   "source": [
    "# Part 2 answer\n",
    "''.join([c[0] for c in s])"
   ]
  }
 ],
 "metadata": {
  "kernelspec": {
   "display_name": "advent",
   "language": "python",
   "name": "advent"
  },
  "language_info": {
   "codemirror_mode": {
    "name": "ipython",
    "version": 3
   },
   "file_extension": ".py",
   "mimetype": "text/x-python",
   "name": "python",
   "nbconvert_exporter": "python",
   "pygments_lexer": "ipython3",
   "version": "3.9.7"
  }
 },
 "nbformat": 4,
 "nbformat_minor": 5
}
