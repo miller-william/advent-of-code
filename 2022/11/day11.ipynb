{
 "cells": [
  {
   "cell_type": "markdown",
   "id": "7e08b30e-b6c8-4287-92e5-cb0104b6b46e",
   "metadata": {},
   "source": [
    "# Advent of Code 2022 - Day 11"
   ]
  },
  {
   "cell_type": "code",
   "execution_count": 28,
   "id": "ddcf5945-cc99-48c3-8fdc-d828916276ca",
   "metadata": {},
   "outputs": [],
   "source": [
    "import re\n",
    "import math\n",
    "import copy\n",
    "import numpy as np"
   ]
  },
  {
   "cell_type": "code",
   "execution_count": 29,
   "id": "e6672b85-d1bb-404a-9b1f-67fcd627ff70",
   "metadata": {},
   "outputs": [],
   "source": [
    "inp = open('input.txt','r').read()"
   ]
  },
  {
   "cell_type": "code",
   "execution_count": 30,
   "id": "e2fdb9f2-c6aa-432b-8bc3-696b6065ce9b",
   "metadata": {},
   "outputs": [],
   "source": [
    "d = [x.split(\"\\n\") for x in inp.split(\"\\n\\n\")]"
   ]
  },
  {
   "cell_type": "code",
   "execution_count": 31,
   "id": "5a253c35-805b-4fb7-b4bb-754a5d6f1ca2",
   "metadata": {},
   "outputs": [],
   "source": [
    "instructions = [[ int(x[0][-2]), #monkey number\n",
    "[int(a) for a in re.findall(r'\\d+',x[1])], #item worries\n",
    "x[2].split(\"old \",1)[1].split(), #operation and number\n",
    "int(re.findall(r'\\d+',x[3])[0]), #divisible by\n",
    "int(re.findall(r'\\d+',x[4])[0]), #if true throw to monkey\n",
    "int(re.findall(r'\\d+',x[5])[0])] #if false throw to monkey\n",
    "                for x in d]"
   ]
  },
  {
   "cell_type": "code",
   "execution_count": 32,
   "id": "9da0dd05-2800-41f9-ad7b-21458b9731f1",
   "metadata": {},
   "outputs": [],
   "source": [
    "monkey_item_list = [x[1] for x in instructions]\n",
    "monkey_item_list = copy.deepcopy(monkey_item_list)"
   ]
  },
  {
   "cell_type": "code",
   "execution_count": 33,
   "id": "69e55a02-1f18-437a-abe3-ae3ee60e9b82",
   "metadata": {},
   "outputs": [],
   "source": [
    "inspections = [0 for i in range(0,len(instructions))]"
   ]
  },
  {
   "cell_type": "code",
   "execution_count": 34,
   "id": "66af256b-0a69-4d47-b5b9-aedaf352ff3f",
   "metadata": {},
   "outputs": [],
   "source": [
    "for rounds in range(1,21):\n",
    "    for monkey,items,operation,divisor,true_throw,false_throw in instructions:\n",
    "    #print('monkey is: ', monkey)\n",
    "    \n",
    "        for item in monkey_item_list[monkey]:\n",
    "            inspections[monkey] += 1\n",
    "            if operation[1] == 'old' :\n",
    "                         op_number = item\n",
    "            else:\n",
    "                op_number = int(operation[1])\n",
    "            if operation[0] == \"*\":\n",
    "                level = item * op_number\n",
    "            else:\n",
    "                level = item + op_number\n",
    "\n",
    "            #Passing item to new monkey\n",
    "            level = math.trunc(level/3)            \n",
    "            \n",
    "            if level % divisor == 0:\n",
    "                monkey_item_list[true_throw].append(level)\n",
    "            else:\n",
    "                monkey_item_list[false_throw].append(level)\n",
    "        \n",
    "        monkey_item_list[monkey] = []"
   ]
  },
  {
   "cell_type": "code",
   "execution_count": 35,
   "id": "bc592819-2bed-461f-a0cc-eefee21cbc03",
   "metadata": {},
   "outputs": [
    {
     "data": {
      "text/plain": [
       "50830"
      ]
     },
     "execution_count": 35,
     "metadata": {},
     "output_type": "execute_result"
    }
   ],
   "source": [
    "# Part 1 answer\n",
    "inspections.sort()\n",
    "inspections[-1]*inspections[-2]"
   ]
  },
  {
   "cell_type": "markdown",
   "id": "0aa8a578-02b7-436e-b2b0-f2254a7de8f6",
   "metadata": {},
   "source": [
    "## Part 2\n",
    "Re-did the above using Numpy arrays because I thought that would help with scaling (?) .. Wasn't actually necessary and caused huge issues debugging when integer sizes got too big.\n",
    "\n",
    "The hard bit was figuring out how to `keep your worry levels manageable`, as heavily hinted in the question.\n",
    "\n",
    "Need to scale a number `x` -> `scaled_x` so that when `x % n == scaled_x % n` for n divisors. \n",
    "\n",
    "Use the `least common multiple` of our divisors. Then we can essentially 'chunk off' multiples of the divisors from our integers - in a way which will not affect whether it's divisible. "
   ]
  },
  {
   "cell_type": "code",
   "execution_count": 36,
   "id": "b81068bf-3a7b-405f-99f6-7f551cc63db1",
   "metadata": {},
   "outputs": [],
   "source": [
    "inspections = [0 for i in range(0,len(instructions))]"
   ]
  },
  {
   "cell_type": "code",
   "execution_count": 37,
   "id": "5af295ae-2216-404d-b4eb-12248d8c8614",
   "metadata": {},
   "outputs": [],
   "source": [
    "monkey_item_list = [x[1] for x in instructions.copy()]\n",
    "monkey_item_list = copy.deepcopy(monkey_item_list)"
   ]
  },
  {
   "cell_type": "code",
   "execution_count": 38,
   "id": "3bf25b67-a3f5-4e37-b00e-5aeb6ef79adc",
   "metadata": {},
   "outputs": [],
   "source": [
    "#set up operation flags\n",
    "op_flags = [ [0,0,0,0] for x in instructions.copy()]\n",
    "\n",
    "for monkey,items,operation,divisor,true_throw,false_throw in instructions:\n",
    "\n",
    "    if operation[1] == 'old' and operation[0] == \"*\":\n",
    "        op_flags[monkey][0] = 1\n",
    "        \n",
    "    elif operation[1] == 'old' and operation[0] == \"+\":\n",
    "        op_flags[monkey][1] = 1\n",
    "\n",
    "    elif operation[0] == \"*\":\n",
    "        op_flags[monkey][2] = 1\n",
    "    else:\n",
    "        op_flags[monkey][3] = 1"
   ]
  },
  {
   "cell_type": "code",
   "execution_count": 39,
   "id": "82694509-a1d3-477d-8209-89034ee7607a",
   "metadata": {},
   "outputs": [],
   "source": [
    "def int_modify(x):\n",
    "    try:\n",
    "        return int(x)\n",
    "    except Exception:\n",
    "        return 0"
   ]
  },
  {
   "cell_type": "code",
   "execution_count": 54,
   "id": "c633d2d5-e826-4b8d-9dfd-8928b1db0314",
   "metadata": {},
   "outputs": [],
   "source": [
    "scaling = math.lcm(*[monkey[3] for monkey in instructions])"
   ]
  },
  {
   "cell_type": "code",
   "execution_count": 41,
   "id": "aa1f1920-8256-4266-a284-235758633aeb",
   "metadata": {},
   "outputs": [],
   "source": [
    "for rounds in range(1,10001):\n",
    "    #print(\"round is: \", rounds)\n",
    "    for monkey,items,operation,divisor,true_throw,false_throw in instructions:\n",
    "        \n",
    "        items_array = np.array(monkey_item_list[monkey])\n",
    "\n",
    "        inspections[monkey] += len(items_array)   \n",
    "\n",
    "        scale_array = np.array([scale_factor]*len(items_array))\n",
    "        items_array = np.mod((op_flags[monkey][0] * ( np.square(items_array.astype('object')))) + (op_flags[monkey][2] * ( items_array * int_modify(operation[1]) ).astype('int64') ) + (op_flags[monkey][3] * ( items_array + int_modify(operation[1])).astype('int64')),scaling).astype('int64')\n",
    "        \n",
    "        [monkey_item_list[true_throw].append(x) for x in (items_array[np.array( items_array % divisor == 0) ]).tolist()]\n",
    "        [monkey_item_list[false_throw].append(x) for x in (items_array[np.array( ( (items_array % divisor == 0) == False)) ]).tolist()]\n",
    "        \n",
    "        monkey_item_list[monkey] = []\n",
    "        "
   ]
  },
  {
   "cell_type": "code",
   "execution_count": 42,
   "id": "4cf06312-083c-47d7-9b3a-0df530bd70d9",
   "metadata": {},
   "outputs": [
    {
     "data": {
      "text/plain": [
       "14399640002"
      ]
     },
     "execution_count": 42,
     "metadata": {},
     "output_type": "execute_result"
    }
   ],
   "source": [
    "# Part 2 answer\n",
    "inspections.sort()\n",
    "inspections[-1]*inspections[-2]"
   ]
  }
 ],
 "metadata": {
  "kernelspec": {
   "display_name": "advent",
   "language": "python",
   "name": "advent"
  },
  "language_info": {
   "codemirror_mode": {
    "name": "ipython",
    "version": 3
   },
   "file_extension": ".py",
   "mimetype": "text/x-python",
   "name": "python",
   "nbconvert_exporter": "python",
   "pygments_lexer": "ipython3",
   "version": "3.9.7"
  }
 },
 "nbformat": 4,
 "nbformat_minor": 5
}
