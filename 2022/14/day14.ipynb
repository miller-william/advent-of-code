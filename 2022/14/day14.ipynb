{
 "cells": [
  {
   "cell_type": "markdown",
   "id": "4115431a-a1d2-44ba-ba12-c22a10949291",
   "metadata": {},
   "source": [
    "# Advent of Code 2022 - Day 14"
   ]
  },
  {
   "cell_type": "code",
   "execution_count": 1,
   "id": "f549c442-0dd3-4c5b-9db8-fa24e112f3a5",
   "metadata": {},
   "outputs": [],
   "source": [
    "import numpy as np"
   ]
  },
  {
   "cell_type": "code",
   "execution_count": 2,
   "id": "ffb55798-b75f-4bd9-8d4b-623760420a68",
   "metadata": {},
   "outputs": [],
   "source": [
    "inp = open('input.txt','r').read()"
   ]
  },
  {
   "cell_type": "code",
   "execution_count": 3,
   "id": "5938d09e-94a6-41d3-b562-5bcf1e8c06c3",
   "metadata": {},
   "outputs": [],
   "source": [
    "d = [[[int(a) for a in x.split(',')] for x in y.split(' -> ')] for y in inp.splitlines()]"
   ]
  },
  {
   "cell_type": "code",
   "execution_count": 4,
   "id": "66fae8d3-56b3-4046-b90e-9e8a1e2d4658",
   "metadata": {},
   "outputs": [],
   "source": [
    "#find grid boundaries\n",
    "min_col = d[0][0][0]\n",
    "max_col = d[0][0][0]\n",
    "min_row = d[0][0][1]\n",
    "max_row = d[0][0][1]\n",
    "\n",
    "\n",
    "for scan in d:\n",
    "    for point in scan:\n",
    "        if point[0] < min_col:\n",
    "            min_col = point[0]\n",
    "            \n",
    "        if point[0] > max_col:\n",
    "            max_col = point[0]\n",
    "            \n",
    "        if point[1] < min_row:\n",
    "            min_row = point[1]\n",
    "            \n",
    "        if point[1] > max_row:\n",
    "            max_row = point[1]"
   ]
  },
  {
   "cell_type": "code",
   "execution_count": 5,
   "id": "2d6fbbfc-b41d-494c-9d09-4fec7278a970",
   "metadata": {},
   "outputs": [],
   "source": [
    "bounds = min_col, max_col, min_row, max_row"
   ]
  },
  {
   "cell_type": "markdown",
   "id": "9709ee78-8a03-40e7-85af-13a4cc277eb2",
   "metadata": {
    "tags": []
   },
   "source": [
    "#### Stat populating the grid\n",
    "Going to use:\n",
    "- 0 : empty spaces\n",
    "- 1 : sand\n",
    "- 2 : rocks"
   ]
  },
  {
   "cell_type": "code",
   "execution_count": 6,
   "id": "56ba35c3-9ed5-4b9c-9c0f-7bedd3425879",
   "metadata": {},
   "outputs": [],
   "source": [
    "grid = np.zeros((max_row+1,max_col+1),int)"
   ]
  },
  {
   "cell_type": "code",
   "execution_count": 7,
   "id": "005c40b2-f193-4085-bd71-3c3bdac02a51",
   "metadata": {},
   "outputs": [],
   "source": [
    "# Draw rocks\n",
    "for scan in d:\n",
    "    for i in range(0,len(scan)-1):\n",
    "        \n",
    "        row1,row2 = (scan[i][1],scan[i+1][1])\n",
    "        col1,col2 = (scan[i][0],scan[i+1][0])\n",
    "        \n",
    "        # to make the array slicing work properly\n",
    "        if col1 > col2:\n",
    "            col1,col2 = col2,col1\n",
    "        \n",
    "        if row1 > row2:\n",
    "            row1,row2 = row2,row1\n",
    "                            \n",
    "        #place rocks\n",
    "        grid[row1:(row2+1),col1:(col2+1)] = 2"
   ]
  },
  {
   "cell_type": "code",
   "execution_count": 8,
   "id": "54c70b9c-8015-41a5-9ef6-905ba406be89",
   "metadata": {},
   "outputs": [],
   "source": [
    "#sand pos simulator\n",
    "\n",
    "def simulate_sand(pos,grid,start):    \n",
    "    row,col = pos\n",
    "    \n",
    "    #fallen off\n",
    "    if row == (len(grid)-1):\n",
    "        print(\"No more moves\")\n",
    "        return (-1,-1)\n",
    "    \n",
    "    #check below\n",
    "    elif grid[row+1,col] == 0:\n",
    "        pos = (row+1,col)\n",
    "        return pos\n",
    "    \n",
    "    #try diagonal left\n",
    "    elif grid[row+1,col-1] == 0:\n",
    "        pos = (row+1,col-1)\n",
    "        return pos\n",
    "    \n",
    "    #try diagonal right\n",
    "    elif grid[row+1,col+1] == 0:\n",
    "        pos = (row+1,col+1)\n",
    "        return pos\n",
    "    \n",
    "    #if no place to go, add to grid at current position\n",
    "    else:\n",
    "        grid[row,col] = 1\n",
    "        return start"
   ]
  },
  {
   "cell_type": "code",
   "execution_count": 9,
   "id": "8784ca75-9ba8-45f7-bad0-424977b322c9",
   "metadata": {},
   "outputs": [
    {
     "name": "stdout",
     "output_type": "stream",
     "text": [
      "No more moves\n"
     ]
    }
   ],
   "source": [
    "pos = (0,500)\n",
    "start = (0,500)\n",
    "while pos != (-1,-1):\n",
    "    pos = simulate_sand(pos,grid,start)"
   ]
  },
  {
   "cell_type": "code",
   "execution_count": 10,
   "id": "cd94ce4c-e2ba-47bc-92b4-1090ce75e917",
   "metadata": {},
   "outputs": [
    {
     "data": {
      "text/plain": [
       "644"
      ]
     },
     "execution_count": 10,
     "metadata": {},
     "output_type": "execute_result"
    }
   ],
   "source": [
    "# Part 1 answer\n",
    "np.sum(grid==1)"
   ]
  },
  {
   "cell_type": "code",
   "execution_count": 11,
   "id": "7559d9a8-e1f3-4b5d-a6bc-db0eca0b6987",
   "metadata": {},
   "outputs": [],
   "source": [
    "#Part 2"
   ]
  },
  {
   "cell_type": "code",
   "execution_count": 12,
   "id": "dd93012d-5533-448a-b646-d565dcde8699",
   "metadata": {},
   "outputs": [],
   "source": [
    "#Draw a big floor\n",
    "grid = np.zeros((max_row+3,max_col+1000),int)"
   ]
  },
  {
   "cell_type": "code",
   "execution_count": 13,
   "id": "bde32eaa-2919-43dd-bb71-f9150b93e69e",
   "metadata": {},
   "outputs": [],
   "source": [
    "for scan in d:\n",
    "    for i in range(0,len(scan)-1):\n",
    "        \n",
    "        row1,row2 = (scan[i][1],scan[i+1][1])\n",
    "        col1,col2 = (scan[i][0],scan[i+1][0])\n",
    "        \n",
    "        if col1 > col2:\n",
    "            col1,col2 = col2,col1\n",
    "        \n",
    "        if row1 > row2:\n",
    "            row1,row2 = row2,row1\n",
    "            \n",
    "        #print(row1,row2, col1, col2)\n",
    "                \n",
    "        #place rocks\n",
    "        grid[row1:(row2+1),col1:(col2+1)] = 2"
   ]
  },
  {
   "cell_type": "code",
   "execution_count": 14,
   "id": "0b974ba4-084d-4fd4-be2a-354f517217d2",
   "metadata": {},
   "outputs": [],
   "source": [
    "# add layer of rocks to the floor\n",
    "grid[len(grid)-1,:] = 2"
   ]
  },
  {
   "cell_type": "code",
   "execution_count": 15,
   "id": "889988c0-779d-4ed7-be92-2c91ecf70dd6",
   "metadata": {},
   "outputs": [
    {
     "name": "stdout",
     "output_type": "stream",
     "text": [
      "blocked\n"
     ]
    }
   ],
   "source": [
    "pos = (0,500)\n",
    "start = (0,500)\n",
    "while grid[start] != 1:\n",
    "    pos = simulate_sand(pos,grid,start)\n",
    "print(\"blocked\")"
   ]
  },
  {
   "cell_type": "code",
   "execution_count": 16,
   "id": "38ec48cd-9336-4ded-ada7-c7239203bcad",
   "metadata": {},
   "outputs": [
    {
     "data": {
      "text/plain": [
       "27324"
      ]
     },
     "execution_count": 16,
     "metadata": {},
     "output_type": "execute_result"
    }
   ],
   "source": [
    "# Part 2 answer\n",
    "np.sum(grid==1)"
   ]
  }
 ],
 "metadata": {
  "kernelspec": {
   "display_name": "advent",
   "language": "python",
   "name": "advent"
  },
  "language_info": {
   "codemirror_mode": {
    "name": "ipython",
    "version": 3
   },
   "file_extension": ".py",
   "mimetype": "text/x-python",
   "name": "python",
   "nbconvert_exporter": "python",
   "pygments_lexer": "ipython3",
   "version": "3.9.7"
  }
 },
 "nbformat": 4,
 "nbformat_minor": 5
}
