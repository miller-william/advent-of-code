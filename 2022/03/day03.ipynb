{
 "cells": [
  {
   "cell_type": "markdown",
   "id": "1cb34928-7e5c-45d0-aa88-e8c685dcf11d",
   "metadata": {},
   "source": [
    "# Advent of Code 2022 - Day 03"
   ]
  },
  {
   "cell_type": "code",
   "execution_count": 1,
   "id": "e36632bb-7d09-48a1-bb9a-acd6b8809ab5",
   "metadata": {},
   "outputs": [],
   "source": [
    "test_input = \"\"\"vJrwpWtwJgWrhcsFMMfFFhFp\n",
    "jqHRNqRjqzjGDLGLrsFMfFZSrLrFZsSL\n",
    "PmmdzqPrVvPwwTWBwg\n",
    "wMqvLMZHhHMvwLHjbvcjnnSBnvTQFn\n",
    "ttgJtRGJQctTZtZT\n",
    "CrZsJsPPZsGzwwsLwLmpwMDw\"\"\""
   ]
  },
  {
   "cell_type": "code",
   "execution_count": 2,
   "id": "7ab8ac5f-0c30-4bec-a412-d91c0694a6ed",
   "metadata": {},
   "outputs": [],
   "source": [
    "inp = open(\"input.txt\",\"r\").read()"
   ]
  },
  {
   "cell_type": "markdown",
   "id": "6998a5b7-8097-406d-9fe8-8729cb6b49f1",
   "metadata": {},
   "source": [
    "## Part 1"
   ]
  },
  {
   "cell_type": "code",
   "execution_count": 3,
   "id": "1b1738b0-1e49-4c30-9d04-14d9dcc524c6",
   "metadata": {},
   "outputs": [],
   "source": [
    "# create priority dictionary \n",
    "import string\n",
    "lower = dict(zip([x for x in string.ascii_lowercase],[k for k in list(range(1,27))]))\n",
    "upper = dict(zip([x for x in string.ascii_uppercase],[k for k in list(range(27,53))]))\n",
    "priority = dict(lower,**upper)"
   ]
  },
  {
   "cell_type": "code",
   "execution_count": 4,
   "id": "8b95c1ef-e0d5-4e62-b3b7-b9aabc2a9593",
   "metadata": {},
   "outputs": [
    {
     "data": {
      "text/plain": [
       "157"
      ]
     },
     "execution_count": 4,
     "metadata": {},
     "output_type": "execute_result"
    }
   ],
   "source": [
    "# test input\n",
    "sum([priority[list(item)[0]] for item in [set(x[0:(int(len(x)/2))]).intersection(x[int(len(x)/2):]) for x in test_input.splitlines()]])"
   ]
  },
  {
   "cell_type": "code",
   "execution_count": 5,
   "id": "df77b5aa-1716-4db8-a402-4ae3453c5cf5",
   "metadata": {},
   "outputs": [
    {
     "data": {
      "text/plain": [
       "7990"
      ]
     },
     "execution_count": 5,
     "metadata": {},
     "output_type": "execute_result"
    }
   ],
   "source": [
    "# input\n",
    "sum([priority[list(item)[0]] for item in [set(x[0:(int(len(x)/2))]).intersection(x[int(len(x)/2):]) for x in inp.splitlines()]])"
   ]
  },
  {
   "cell_type": "markdown",
   "id": "d413b930-b8ac-46d4-afc8-3f18e5328262",
   "metadata": {},
   "source": [
    "## Part 2"
   ]
  },
  {
   "cell_type": "code",
   "execution_count": 6,
   "id": "e2feaec2-4c71-4c85-ad3a-8743548d3f0b",
   "metadata": {},
   "outputs": [
    {
     "data": {
      "text/plain": [
       "2602"
      ]
     },
     "execution_count": 6,
     "metadata": {},
     "output_type": "execute_result"
    }
   ],
   "source": [
    "# need to group each three lines then do the intersection between these three list items\n",
    "elf_groups = [inp.splitlines()[(x-3):x] for x in list(range(3,1+len(inp.splitlines()),3))]\n",
    "sum(priority[badge[0]] for badge in [list(set.intersection(*map(set,x))) for x in elf_groups])"
   ]
  }
 ],
 "metadata": {
  "kernelspec": {
   "display_name": "advent",
   "language": "python",
   "name": "advent"
  },
  "language_info": {
   "codemirror_mode": {
    "name": "ipython",
    "version": 3
   },
   "file_extension": ".py",
   "mimetype": "text/x-python",
   "name": "python",
   "nbconvert_exporter": "python",
   "pygments_lexer": "ipython3",
   "version": "3.9.7"
  }
 },
 "nbformat": 4,
 "nbformat_minor": 5
}
