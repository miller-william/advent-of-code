{
 "cells": [
  {
   "cell_type": "markdown",
   "id": "1f68fe00-0354-4fba-8380-56432d1a9ffd",
   "metadata": {},
   "source": [
    "# Advent of Code 2022 - Day 13\n"
   ]
  },
  {
   "cell_type": "code",
   "execution_count": 1,
   "id": "99a407c8-22ee-4f22-bcf6-c602e662213f",
   "metadata": {},
   "outputs": [],
   "source": [
    "import json"
   ]
  },
  {
   "cell_type": "code",
   "execution_count": 2,
   "id": "43e86e17-1e73-4fa8-a7f1-05432b110d02",
   "metadata": {},
   "outputs": [],
   "source": [
    "inp = open('input.txt','r').read()"
   ]
  },
  {
   "cell_type": "code",
   "execution_count": 3,
   "id": "4050d134-3b71-4db2-8af1-a882b3ed8d2b",
   "metadata": {},
   "outputs": [],
   "source": [
    "d = [[json.loads(a),json.loads(b)] for a,b in [x.split() for x in inp.split(\"\\n\\n\")]]"
   ]
  },
  {
   "cell_type": "markdown",
   "id": "ba360df5-d673-4f1f-8bc5-8ba39a174f0c",
   "metadata": {},
   "source": [
    "Need to set up a couple of useful functions first"
   ]
  },
  {
   "cell_type": "code",
   "execution_count": 4,
   "id": "d89f9b77-045b-4e2c-bc50-106dfa988d71",
   "metadata": {},
   "outputs": [],
   "source": [
    "# checks if a list (including sublists) is completely empty - e.g. [[[[]]]]\n",
    "\n",
    "def isListEmpty(inList):\n",
    "    if isinstance(inList, list): # Is a list\n",
    "        return all( map(isListEmpty, inList) )\n",
    "    return False # Not a list"
   ]
  },
  {
   "cell_type": "code",
   "execution_count": 5,
   "id": "67a60eb5-ec2f-49e3-b86a-d2e5fdb82e51",
   "metadata": {},
   "outputs": [],
   "source": [
    "# len(empty_list) = 1 regardless of how many sublists there are - this function gives the number of sublists\n",
    "\n",
    "def empty_sub_list_size(a):\n",
    "    count=1\n",
    "    while True:\n",
    "        try: \n",
    "            a=a[0]\n",
    "            count +=1\n",
    "        except:\n",
    "            break\n",
    "    return count"
   ]
  },
  {
   "cell_type": "code",
   "execution_count": 6,
   "id": "26fab316-a1cf-49d6-b515-b7593c31cc4c",
   "metadata": {},
   "outputs": [],
   "source": [
    "# Recursive function works through list items until a decision is made\n",
    "\n",
    "def list_compare(a,b):\n",
    "    \n",
    "    # First, special cases where we have a comparison involving an empty list\n",
    "    #if both empty\n",
    "    if isListEmpty(a) == isListEmpty(b) == True:\n",
    "        if empty_sub_list_size(a) > empty_sub_list_size(b):\n",
    "            return False\n",
    "        \n",
    "        elif empty_sub_list_size(a) < empty_sub_list_size(b):\n",
    "            return True\n",
    "    \n",
    "    #if one is empty\n",
    "    if isListEmpty(a) and isListEmpty(b) == False:\n",
    "        return True\n",
    "    \n",
    "    if isListEmpty(a) == False and isListEmpty(b):\n",
    "        return False\n",
    "    \n",
    "    # Now we loop through list items - if we have a list, we re-run the function on the new lists \n",
    "    for i in range(0,min(len(a),len(b))):\n",
    "        \n",
    "        #check if both sub lists\n",
    "        if type(a[i]) == type(b[i]) == list:\n",
    "            if isinstance(list_compare(a[i],b[i]),bool) :\n",
    "                return(list_compare(a[i],b[i]))\n",
    "        \n",
    "        if type(a[i]) == list:\n",
    "            if type(b[i]) == int:\n",
    "                return(list_compare(a[i],[b[i]]))\n",
    "        \n",
    "        if type(b[i]) == list:\n",
    "            if type(a[i]) == int:\n",
    "                return(list_compare([a[i]],b[i]))      \n",
    "        \n",
    "        # We only make it here if we're comparing integers.\n",
    "        \n",
    "        if a[i] > b[i]:\n",
    "            return False\n",
    "            break\n",
    "        elif a[i] < b[i] :\n",
    "            return True\n",
    "            break\n",
    "\n",
    "        # Case when no decision has been made but we've run out of items to compare\n",
    "        if i == len(a)-1:\n",
    "            return True\n",
    "\n",
    "        if i == len(b)-1:\n",
    "            return False"
   ]
  },
  {
   "cell_type": "code",
   "execution_count": 7,
   "id": "4d966459-ad24-419f-baff-d561a59a22fa",
   "metadata": {},
   "outputs": [
    {
     "data": {
      "text/plain": [
       "5825"
      ]
     },
     "execution_count": 7,
     "metadata": {},
     "output_type": "execute_result"
    }
   ],
   "source": [
    "# Part 1 answer\n",
    "ans=[]\n",
    "for n,packet in enumerate(d):\n",
    "    if list_compare(packet[0],packet[1]):\n",
    "        #print(n+1)\n",
    "        ans.append(n+1)\n",
    "sum(ans)"
   ]
  },
  {
   "cell_type": "markdown",
   "id": "a6bf0b5c-d449-4e91-a695-403b5ac565ed",
   "metadata": {},
   "source": [
    "## Part 2"
   ]
  },
  {
   "cell_type": "code",
   "execution_count": 8,
   "id": "9c79d955-0074-448e-a323-380076523b6a",
   "metadata": {},
   "outputs": [],
   "source": [
    "d = [json.loads(a[0]) for a in[x.split() for x in inp.split()]]\n",
    "d.append([[2]])\n",
    "d.append([[6]])"
   ]
  },
  {
   "cell_type": "code",
   "execution_count": 9,
   "id": "9bed50f5-2b3c-4757-b5ce-d3c2e05de343",
   "metadata": {},
   "outputs": [],
   "source": [
    "# We can re-use our part 1 function to make a comparison function for sorting\n",
    "\n",
    "def compare(item1, item2):\n",
    "    if list_compare(item1,item2):\n",
    "        return -1\n",
    "    elif list_compare(item1,item2) == False:\n",
    "        return 1\n",
    "    else:\n",
    "        return 0"
   ]
  },
  {
   "cell_type": "code",
   "execution_count": 10,
   "id": "db78d298-7dba-42bc-a291-12ffdacd1f20",
   "metadata": {},
   "outputs": [],
   "source": [
    "from functools import cmp_to_key\n",
    "sorted_d = sorted(d, key=cmp_to_key(compare))"
   ]
  },
  {
   "cell_type": "code",
   "execution_count": 11,
   "id": "9198aaeb-3468-4973-a397-999d3434f11f",
   "metadata": {},
   "outputs": [
    {
     "data": {
      "text/plain": [
       "24477"
      ]
     },
     "execution_count": 11,
     "metadata": {},
     "output_type": "execute_result"
    }
   ],
   "source": [
    "#part 2 answer\n",
    "(1+sorted_d.index([[2]])) * (1+sorted_d.index([[6]]))"
   ]
  }
 ],
 "metadata": {
  "kernelspec": {
   "display_name": "advent",
   "language": "python",
   "name": "advent"
  },
  "language_info": {
   "codemirror_mode": {
    "name": "ipython",
    "version": 3
   },
   "file_extension": ".py",
   "mimetype": "text/x-python",
   "name": "python",
   "nbconvert_exporter": "python",
   "pygments_lexer": "ipython3",
   "version": "3.9.7"
  }
 },
 "nbformat": 4,
 "nbformat_minor": 5
}
