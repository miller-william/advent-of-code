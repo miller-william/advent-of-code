{
 "cells": [
  {
   "cell_type": "markdown",
   "id": "4746675e-5cfb-4a80-8159-e7806c9c6aa0",
   "metadata": {},
   "source": [
    "# Advent of Code 2022 - Day 06"
   ]
  },
  {
   "cell_type": "code",
   "execution_count": 1,
   "id": "06c290cb-2bd0-4996-897a-af9b333bf435",
   "metadata": {},
   "outputs": [],
   "source": [
    "test_input = \"\"\"mjqjpqmgbljsphdztnvjfqwrcgsmlb\"\"\"\n",
    "test_input2 = \"\"\"bvwbjplbgvbhsrlpgdmjqwftvncz\"\"\""
   ]
  },
  {
   "cell_type": "code",
   "execution_count": 2,
   "id": "5db84792-4ff2-4309-b57a-ac386895617e",
   "metadata": {},
   "outputs": [],
   "source": [
    "def solution(s,packet):\n",
    "    for i in range(len(s)):\n",
    "        if len(set(s[i:i+packet])) == packet:\n",
    "            return(i+packet)"
   ]
  },
  {
   "cell_type": "markdown",
   "id": "a148081b-f040-4b4c-94a7-2ea419d66fd4",
   "metadata": {},
   "source": [
    "#### Testing"
   ]
  },
  {
   "cell_type": "code",
   "execution_count": 3,
   "id": "2fe8c366-dfc0-4ebc-960f-f82d9f94d46a",
   "metadata": {},
   "outputs": [
    {
     "data": {
      "text/plain": [
       "True"
      ]
     },
     "execution_count": 3,
     "metadata": {},
     "output_type": "execute_result"
    }
   ],
   "source": [
    "solution(test_input,4) == 7"
   ]
  },
  {
   "cell_type": "code",
   "execution_count": 4,
   "id": "5494089a-1e56-42c8-ba63-bf28edf6063d",
   "metadata": {},
   "outputs": [
    {
     "data": {
      "text/plain": [
       "True"
      ]
     },
     "execution_count": 4,
     "metadata": {},
     "output_type": "execute_result"
    }
   ],
   "source": [
    "solution(test_input2,4) == 5"
   ]
  },
  {
   "cell_type": "code",
   "execution_count": 5,
   "id": "c9622694-7964-4ff7-95a9-f22e1ec1cd9d",
   "metadata": {},
   "outputs": [
    {
     "data": {
      "text/plain": [
       "True"
      ]
     },
     "execution_count": 5,
     "metadata": {},
     "output_type": "execute_result"
    }
   ],
   "source": [
    "solution(test_input,14) == 19"
   ]
  },
  {
   "cell_type": "code",
   "execution_count": 6,
   "id": "af2a4fda-1d12-4950-882f-ca18c3599d73",
   "metadata": {},
   "outputs": [
    {
     "data": {
      "text/plain": [
       "True"
      ]
     },
     "execution_count": 6,
     "metadata": {},
     "output_type": "execute_result"
    }
   ],
   "source": [
    "solution(test_input2,14) == 23"
   ]
  },
  {
   "cell_type": "markdown",
   "id": "9e9b032f-5cce-475d-81c1-dec9f6730617",
   "metadata": {},
   "source": [
    "## Part 1"
   ]
  },
  {
   "cell_type": "code",
   "execution_count": 7,
   "id": "7e961f44-522a-483e-8e44-5646e07d334e",
   "metadata": {},
   "outputs": [
    {
     "data": {
      "text/plain": [
       "1134"
      ]
     },
     "execution_count": 7,
     "metadata": {},
     "output_type": "execute_result"
    }
   ],
   "source": [
    "solution(open(\"input.txt\",\"r\").read(),4)"
   ]
  },
  {
   "cell_type": "markdown",
   "id": "a198aa9b-4503-44df-8a04-f60f361d6cfc",
   "metadata": {},
   "source": [
    "## Part 2"
   ]
  },
  {
   "cell_type": "code",
   "execution_count": 8,
   "id": "37099273-4a9e-46cf-a8cf-a70189e91682",
   "metadata": {},
   "outputs": [
    {
     "data": {
      "text/plain": [
       "2263"
      ]
     },
     "execution_count": 8,
     "metadata": {},
     "output_type": "execute_result"
    }
   ],
   "source": [
    "solution(open(\"input.txt\",\"r\").read(),14)"
   ]
  }
 ],
 "metadata": {
  "kernelspec": {
   "display_name": "advent",
   "language": "python",
   "name": "advent"
  },
  "language_info": {
   "codemirror_mode": {
    "name": "ipython",
    "version": 3
   },
   "file_extension": ".py",
   "mimetype": "text/x-python",
   "name": "python",
   "nbconvert_exporter": "python",
   "pygments_lexer": "ipython3",
   "version": "3.9.7"
  }
 },
 "nbformat": 4,
 "nbformat_minor": 5
}
